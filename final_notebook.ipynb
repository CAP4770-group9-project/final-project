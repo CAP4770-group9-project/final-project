{
  "nbformat": 4,
  "nbformat_minor": 0,
  "metadata": {
    "kernelspec": {
      "name": "python3",
      "display_name": "Python 3"
    },
    "language_info": {
      "codemirror_mode": {
        "name": "ipython",
        "version": 3
      },
      "file_extension": ".py",
      "mimetype": "text/x-python",
      "name": "python",
      "nbconvert_exporter": "python",
      "pygments_lexer": "ipython3",
      "version": "3.7.2"
    },
    "colab": {
      "name": "classical_portfolio_optimization.ipynb",
      "provenance": [],
      "toc_visible": true,
      "machine_shape": "hm",
      "include_colab_link": true
    }
  },
  "cells": [
    {
      "cell_type": "markdown",
      "metadata": {
        "id": "view-in-github",
        "colab_type": "text"
      },
      "source": [
        "<a href=\"https://colab.research.google.com/github/CAP4770-group9-project/final-project/blob/notebook%2FfinalNotebook/final_notebook.ipynb\" target=\"_parent\"><img src=\"https://colab.research.google.com/assets/colab-badge.svg\" alt=\"Open In Colab\"/></a>"
      ]
    },
    {
      "cell_type": "markdown",
      "metadata": {
        "id": "QIavnP7Pi8Nd",
        "colab_type": "text"
      },
      "source": [
        "# Classical Portfolio Optimization\n",
        "\n",
        "This notebook is used to generate a portfolio of 10 random stocks from the AlphaVantage API and then optimize the portfolio weights using Markowitz theory. The optimization analysis can be performed using 3 years of historical stock data (2014-2017). \n",
        "\n",
        "The returns of the portfolio with and without optimization over a 3 year test timeframe can then be calculated (2017-2020). These results will be used as the baseline in which the optimization performed through supervised and unsupervised learning will be compared.\n",
        "\n",
        "In order to perform the optimization, the stock data must be obtained, the **expected returns** must be calculated, the **variance** of the stock data must be calculated and the **effecient frontier** must be found.\n"
      ]
    },
    {
      "cell_type": "markdown",
      "metadata": {
        "id": "0sJkxwCHi8Nn",
        "colab_type": "text"
      },
      "source": [
        "## Obtaining stock data\n",
        "\n"
      ]
    },
    {
      "cell_type": "markdown",
      "metadata": {
        "id": "OZtjvdRbp1oJ",
        "colab_type": "text"
      },
      "source": [
        "### Getting stock names\n",
        "The stock names can be found by obtaining an array of all the stocks in the S&P 500 index, generating 10 random numbers and then using those numbers to choose 10 array items."
      ]
    },
    {
      "cell_type": "code",
      "metadata": {
        "id": "haLUJ9Omi8Nq",
        "colab_type": "code",
        "outputId": "902a109b-e103-4744-d842-9bb3cadd1728",
        "colab": {
          "base_uri": "https://localhost:8080/",
          "height": 1000
        }
      },
      "source": [
        "#Taken from Automating getting the S&P 500 list - Python Programming for Finance p.5\n",
        "# https://pythonprogramming.net/sp500-company-list-python-programming-for-finance/\n",
        "\n",
        "import bs4 as bs\n",
        "import pickle\n",
        "import requests\n",
        "\n",
        "def save_sp500_tickers():\n",
        "    resp = requests.get('http://en.wikipedia.org/wiki/List_of_S%26P_500_companies')\n",
        "    soup = bs.BeautifulSoup(resp.text, 'lxml')\n",
        "    table = soup.find('table', {'class': 'wikitable sortable'})\n",
        "    tickers = []\n",
        "    for row in table.findAll('tr')[1:]:\n",
        "        ticker = row.findAll('td')[0].text\n",
        "        tickers.append(ticker.strip(\"\\n\"))\n",
        "        \n",
        "    with open(\"sp500tickers.pickle\",\"wb\") as f:\n",
        "        pickle.dump(tickers,f)\n",
        "        \n",
        "    return tickers\n",
        "\n",
        "save_sp500_tickers()\n",
        "    "
      ],
      "execution_count": 1,
      "outputs": [
        {
          "output_type": "execute_result",
          "data": {
            "text/plain": [
              "['MMM',\n",
              " 'ABT',\n",
              " 'ABBV',\n",
              " 'ABMD',\n",
              " 'ACN',\n",
              " 'ATVI',\n",
              " 'ADBE',\n",
              " 'AMD',\n",
              " 'AAP',\n",
              " 'AES',\n",
              " 'AFL',\n",
              " 'A',\n",
              " 'APD',\n",
              " 'AKAM',\n",
              " 'ALK',\n",
              " 'ALB',\n",
              " 'ARE',\n",
              " 'ALXN',\n",
              " 'ALGN',\n",
              " 'ALLE',\n",
              " 'AGN',\n",
              " 'ADS',\n",
              " 'LNT',\n",
              " 'ALL',\n",
              " 'GOOGL',\n",
              " 'GOOG',\n",
              " 'MO',\n",
              " 'AMZN',\n",
              " 'AMCR',\n",
              " 'AEE',\n",
              " 'AAL',\n",
              " 'AEP',\n",
              " 'AXP',\n",
              " 'AIG',\n",
              " 'AMT',\n",
              " 'AWK',\n",
              " 'AMP',\n",
              " 'ABC',\n",
              " 'AME',\n",
              " 'AMGN',\n",
              " 'APH',\n",
              " 'ADI',\n",
              " 'ANSS',\n",
              " 'ANTM',\n",
              " 'AON',\n",
              " 'AOS',\n",
              " 'APA',\n",
              " 'AIV',\n",
              " 'AAPL',\n",
              " 'AMAT',\n",
              " 'APTV',\n",
              " 'ADM',\n",
              " 'ANET',\n",
              " 'AJG',\n",
              " 'AIZ',\n",
              " 'T',\n",
              " 'ATO',\n",
              " 'ADSK',\n",
              " 'ADP',\n",
              " 'AZO',\n",
              " 'AVB',\n",
              " 'AVY',\n",
              " 'BKR',\n",
              " 'BLL',\n",
              " 'BAC',\n",
              " 'BK',\n",
              " 'BAX',\n",
              " 'BDX',\n",
              " 'BRK.B',\n",
              " 'BBY',\n",
              " 'BIIB',\n",
              " 'BLK',\n",
              " 'BA',\n",
              " 'BKNG',\n",
              " 'BWA',\n",
              " 'BXP',\n",
              " 'BSX',\n",
              " 'BMY',\n",
              " 'AVGO',\n",
              " 'BR',\n",
              " 'BF.B',\n",
              " 'CHRW',\n",
              " 'COG',\n",
              " 'CDNS',\n",
              " 'CPB',\n",
              " 'COF',\n",
              " 'CPRI',\n",
              " 'CAH',\n",
              " 'KMX',\n",
              " 'CCL',\n",
              " 'CARR',\n",
              " 'CAT',\n",
              " 'CBOE',\n",
              " 'CBRE',\n",
              " 'CDW',\n",
              " 'CE',\n",
              " 'CNC',\n",
              " 'CNP',\n",
              " 'CTL',\n",
              " 'CERN',\n",
              " 'CF',\n",
              " 'SCHW',\n",
              " 'CHTR',\n",
              " 'CVX',\n",
              " 'CMG',\n",
              " 'CB',\n",
              " 'CHD',\n",
              " 'CI',\n",
              " 'CINF',\n",
              " 'CTAS',\n",
              " 'CSCO',\n",
              " 'C',\n",
              " 'CFG',\n",
              " 'CTXS',\n",
              " 'CLX',\n",
              " 'CME',\n",
              " 'CMS',\n",
              " 'KO',\n",
              " 'CTSH',\n",
              " 'CL',\n",
              " 'CMCSA',\n",
              " 'CMA',\n",
              " 'CAG',\n",
              " 'CXO',\n",
              " 'COP',\n",
              " 'ED',\n",
              " 'STZ',\n",
              " 'COO',\n",
              " 'CPRT',\n",
              " 'GLW',\n",
              " 'CTVA',\n",
              " 'COST',\n",
              " 'COTY',\n",
              " 'CCI',\n",
              " 'CSX',\n",
              " 'CMI',\n",
              " 'CVS',\n",
              " 'DHI',\n",
              " 'DHR',\n",
              " 'DRI',\n",
              " 'DVA',\n",
              " 'DE',\n",
              " 'DAL',\n",
              " 'XRAY',\n",
              " 'DVN',\n",
              " 'FANG',\n",
              " 'DLR',\n",
              " 'DFS',\n",
              " 'DISCA',\n",
              " 'DISCK',\n",
              " 'DISH',\n",
              " 'DG',\n",
              " 'DLTR',\n",
              " 'D',\n",
              " 'DOV',\n",
              " 'DOW',\n",
              " 'DTE',\n",
              " 'DUK',\n",
              " 'DRE',\n",
              " 'DD',\n",
              " 'DXC',\n",
              " 'ETFC',\n",
              " 'EMN',\n",
              " 'ETN',\n",
              " 'EBAY',\n",
              " 'ECL',\n",
              " 'EIX',\n",
              " 'EW',\n",
              " 'EA',\n",
              " 'EMR',\n",
              " 'ETR',\n",
              " 'EOG',\n",
              " 'EFX',\n",
              " 'EQIX',\n",
              " 'EQR',\n",
              " 'ESS',\n",
              " 'EL',\n",
              " 'EVRG',\n",
              " 'ES',\n",
              " 'RE',\n",
              " 'EXC',\n",
              " 'EXPE',\n",
              " 'EXPD',\n",
              " 'EXR',\n",
              " 'XOM',\n",
              " 'FFIV',\n",
              " 'FB',\n",
              " 'FAST',\n",
              " 'FRT',\n",
              " 'FDX',\n",
              " 'FIS',\n",
              " 'FITB',\n",
              " 'FE',\n",
              " 'FRC',\n",
              " 'FISV',\n",
              " 'FLT',\n",
              " 'FLIR',\n",
              " 'FLS',\n",
              " 'FMC',\n",
              " 'F',\n",
              " 'FTNT',\n",
              " 'FTV',\n",
              " 'FBHS',\n",
              " 'FOXA',\n",
              " 'FOX',\n",
              " 'BEN',\n",
              " 'FCX',\n",
              " 'GPS',\n",
              " 'GRMN',\n",
              " 'IT',\n",
              " 'GD',\n",
              " 'GE',\n",
              " 'GIS',\n",
              " 'GM',\n",
              " 'GPC',\n",
              " 'GILD',\n",
              " 'GL',\n",
              " 'GPN',\n",
              " 'GS',\n",
              " 'GWW',\n",
              " 'HRB',\n",
              " 'HAL',\n",
              " 'HBI',\n",
              " 'HOG',\n",
              " 'HIG',\n",
              " 'HAS',\n",
              " 'HCA',\n",
              " 'PEAK',\n",
              " 'HP',\n",
              " 'HSIC',\n",
              " 'HSY',\n",
              " 'HES',\n",
              " 'HPE',\n",
              " 'HLT',\n",
              " 'HFC',\n",
              " 'HOLX',\n",
              " 'HD',\n",
              " 'HON',\n",
              " 'HRL',\n",
              " 'HST',\n",
              " 'HWM',\n",
              " 'HPQ',\n",
              " 'HUM',\n",
              " 'HBAN',\n",
              " 'HII',\n",
              " 'IEX',\n",
              " 'IDXX',\n",
              " 'INFO',\n",
              " 'ITW',\n",
              " 'ILMN',\n",
              " 'INCY',\n",
              " 'IR',\n",
              " 'INTC',\n",
              " 'ICE',\n",
              " 'IBM',\n",
              " 'IP',\n",
              " 'IPG',\n",
              " 'IFF',\n",
              " 'INTU',\n",
              " 'ISRG',\n",
              " 'IVZ',\n",
              " 'IPGP',\n",
              " 'IQV',\n",
              " 'IRM',\n",
              " 'JKHY',\n",
              " 'J',\n",
              " 'JBHT',\n",
              " 'SJM',\n",
              " 'JNJ',\n",
              " 'JCI',\n",
              " 'JPM',\n",
              " 'JNPR',\n",
              " 'KSU',\n",
              " 'K',\n",
              " 'KEY',\n",
              " 'KEYS',\n",
              " 'KMB',\n",
              " 'KIM',\n",
              " 'KMI',\n",
              " 'KLAC',\n",
              " 'KSS',\n",
              " 'KHC',\n",
              " 'KR',\n",
              " 'LB',\n",
              " 'LHX',\n",
              " 'LH',\n",
              " 'LRCX',\n",
              " 'LW',\n",
              " 'LVS',\n",
              " 'LEG',\n",
              " 'LDOS',\n",
              " 'LEN',\n",
              " 'LLY',\n",
              " 'LNC',\n",
              " 'LIN',\n",
              " 'LYV',\n",
              " 'LKQ',\n",
              " 'LMT',\n",
              " 'L',\n",
              " 'LOW',\n",
              " 'LYB',\n",
              " 'MTB',\n",
              " 'MRO',\n",
              " 'MPC',\n",
              " 'MKTX',\n",
              " 'MAR',\n",
              " 'MMC',\n",
              " 'MLM',\n",
              " 'MAS',\n",
              " 'MA',\n",
              " 'MKC',\n",
              " 'MXIM',\n",
              " 'MCD',\n",
              " 'MCK',\n",
              " 'MDT',\n",
              " 'MRK',\n",
              " 'MET',\n",
              " 'MTD',\n",
              " 'MGM',\n",
              " 'MCHP',\n",
              " 'MU',\n",
              " 'MSFT',\n",
              " 'MAA',\n",
              " 'MHK',\n",
              " 'TAP',\n",
              " 'MDLZ',\n",
              " 'MNST',\n",
              " 'MCO',\n",
              " 'MS',\n",
              " 'MOS',\n",
              " 'MSI',\n",
              " 'MSCI',\n",
              " 'MYL',\n",
              " 'NDAQ',\n",
              " 'NOV',\n",
              " 'NTAP',\n",
              " 'NFLX',\n",
              " 'NWL',\n",
              " 'NEM',\n",
              " 'NWSA',\n",
              " 'NWS',\n",
              " 'NEE',\n",
              " 'NLSN',\n",
              " 'NKE',\n",
              " 'NI',\n",
              " 'NBL',\n",
              " 'JWN',\n",
              " 'NSC',\n",
              " 'NTRS',\n",
              " 'NOC',\n",
              " 'NLOK',\n",
              " 'NCLH',\n",
              " 'NRG',\n",
              " 'NUE',\n",
              " 'NVDA',\n",
              " 'NVR',\n",
              " 'ORLY',\n",
              " 'OXY',\n",
              " 'ODFL',\n",
              " 'OMC',\n",
              " 'OKE',\n",
              " 'ORCL',\n",
              " 'OTIS',\n",
              " 'PCAR',\n",
              " 'PKG',\n",
              " 'PH',\n",
              " 'PAYX',\n",
              " 'PAYC',\n",
              " 'PYPL',\n",
              " 'PNR',\n",
              " 'PBCT',\n",
              " 'PEP',\n",
              " 'PKI',\n",
              " 'PRGO',\n",
              " 'PFE',\n",
              " 'PM',\n",
              " 'PSX',\n",
              " 'PNW',\n",
              " 'PXD',\n",
              " 'PNC',\n",
              " 'PPG',\n",
              " 'PPL',\n",
              " 'PFG',\n",
              " 'PG',\n",
              " 'PGR',\n",
              " 'PLD',\n",
              " 'PRU',\n",
              " 'PEG',\n",
              " 'PSA',\n",
              " 'PHM',\n",
              " 'PVH',\n",
              " 'QRVO',\n",
              " 'PWR',\n",
              " 'QCOM',\n",
              " 'DGX',\n",
              " 'RL',\n",
              " 'RJF',\n",
              " 'RTX',\n",
              " 'O',\n",
              " 'REG',\n",
              " 'REGN',\n",
              " 'RF',\n",
              " 'RSG',\n",
              " 'RMD',\n",
              " 'RHI',\n",
              " 'ROK',\n",
              " 'ROL',\n",
              " 'ROP',\n",
              " 'ROST',\n",
              " 'RCL',\n",
              " 'SPGI',\n",
              " 'CRM',\n",
              " 'SBAC',\n",
              " 'SLB',\n",
              " 'STX',\n",
              " 'SEE',\n",
              " 'SRE',\n",
              " 'NOW',\n",
              " 'SHW',\n",
              " 'SPG',\n",
              " 'SWKS',\n",
              " 'SLG',\n",
              " 'SNA',\n",
              " 'SO',\n",
              " 'LUV',\n",
              " 'SWK',\n",
              " 'SBUX',\n",
              " 'STT',\n",
              " 'STE',\n",
              " 'SYK',\n",
              " 'SIVB',\n",
              " 'SYF',\n",
              " 'SNPS',\n",
              " 'SYY',\n",
              " 'TMUS',\n",
              " 'TROW',\n",
              " 'TTWO',\n",
              " 'TPR',\n",
              " 'TGT',\n",
              " 'TEL',\n",
              " 'FTI',\n",
              " 'TFX',\n",
              " 'TXN',\n",
              " 'TXT',\n",
              " 'TMO',\n",
              " 'TIF',\n",
              " 'TJX',\n",
              " 'TSCO',\n",
              " 'TT',\n",
              " 'TDG',\n",
              " 'TRV',\n",
              " 'TFC',\n",
              " 'TWTR',\n",
              " 'TSN',\n",
              " 'UDR',\n",
              " 'ULTA',\n",
              " 'USB',\n",
              " 'UAA',\n",
              " 'UA',\n",
              " 'UNP',\n",
              " 'UAL',\n",
              " 'UNH',\n",
              " 'UPS',\n",
              " 'URI',\n",
              " 'UHS',\n",
              " 'UNM',\n",
              " 'VFC',\n",
              " 'VLO',\n",
              " 'VAR',\n",
              " 'VTR',\n",
              " 'VRSN',\n",
              " 'VRSK',\n",
              " 'VZ',\n",
              " 'VRTX',\n",
              " 'VIAC',\n",
              " 'V',\n",
              " 'VNO',\n",
              " 'VMC',\n",
              " 'WRB',\n",
              " 'WAB',\n",
              " 'WMT',\n",
              " 'WBA',\n",
              " 'DIS',\n",
              " 'WM',\n",
              " 'WAT',\n",
              " 'WEC',\n",
              " 'WFC',\n",
              " 'WELL',\n",
              " 'WDC',\n",
              " 'WU',\n",
              " 'WRK',\n",
              " 'WY',\n",
              " 'WHR',\n",
              " 'WMB',\n",
              " 'WLTW',\n",
              " 'WYNN',\n",
              " 'XEL',\n",
              " 'XRX',\n",
              " 'XLNX',\n",
              " 'XYL',\n",
              " 'YUM',\n",
              " 'ZBRA',\n",
              " 'ZBH',\n",
              " 'ZION',\n",
              " 'ZTS']"
            ]
          },
          "metadata": {
            "tags": []
          },
          "execution_count": 1
        }
      ]
    },
    {
      "cell_type": "markdown",
      "metadata": {
        "id": "Zqb9_2M-sczE",
        "colab_type": "text"
      },
      "source": [
        "Next 10 random numbers between 0 and 504 can be generated in order to pick 10 random stock tickers from the list"
      ]
    },
    {
      "cell_type": "code",
      "metadata": {
        "id": "scqo3IT8sbzV",
        "colab_type": "code",
        "colab": {}
      },
      "source": [
        "import random\n",
        "\n",
        "#tickers = save_sp500_tickers()\n",
        "#print(len(tickers)) # there are actually 505 stocks in the S&P 500, who knew!\n",
        "\n",
        "def getRandomTickers(tickers):\n",
        "  randIndex = []\n",
        "  randTickers = []\n",
        "  for i in range(0,10):\n",
        "    randIndex.append(random.randint(0,504))\n",
        "  for index in randIndex:\n",
        "    randTickers.append(tickers[index])\n",
        "  return randTickers\n",
        "\n",
        "\n",
        "#print(getRandomTickers(tickers)) \n"
      ],
      "execution_count": 0,
      "outputs": []
    },
    {
      "cell_type": "markdown",
      "metadata": {
        "id": "Zp399HE1KSWm",
        "colab_type": "text"
      },
      "source": [
        "Now we can get the names of the tickers in the dataset. \n",
        "\n",
        "The data was extracted from the API using a NodeJS program which obtained daily price and volume data for each stock over a period of 20 years. Due to the failure to extract data for several stocks, the number of stock tickers is not exactly 505, but rather close to 500.\n",
        "\n",
        "We first need to import the data from the csv into a pandas dataframe so that it can be further analyzed.\n",
        "\n",
        "The data is stored in Google Drive and can be accessed via Colab after mounting to Drive"
      ]
    },
    {
      "cell_type": "code",
      "metadata": {
        "id": "nzZHgS2Q5yKU",
        "colab_type": "code",
        "outputId": "f6627874-e112-426d-c304-2ed27bc5fbf3",
        "colab": {
          "base_uri": "https://localhost:8080/",
          "height": 122
        }
      },
      "source": [
        "from google.colab import drive\n",
        "drive.mount('/content/drive')"
      ],
      "execution_count": 3,
      "outputs": [
        {
          "output_type": "stream",
          "text": [
            "Go to this URL in a browser: https://accounts.google.com/o/oauth2/auth?client_id=947318989803-6bn6qk8qdgf4n4g3pfee6491hc0brc4i.apps.googleusercontent.com&redirect_uri=urn%3aietf%3awg%3aoauth%3a2.0%3aoob&response_type=code&scope=email%20https%3a%2f%2fwww.googleapis.com%2fauth%2fdocs.test%20https%3a%2f%2fwww.googleapis.com%2fauth%2fdrive%20https%3a%2f%2fwww.googleapis.com%2fauth%2fdrive.photos.readonly%20https%3a%2f%2fwww.googleapis.com%2fauth%2fpeopleapi.readonly\n",
            "\n",
            "Enter your authorization code:\n",
            "··········\n",
            "Mounted at /content/drive\n"
          ],
          "name": "stdout"
        }
      ]
    },
    {
      "cell_type": "markdown",
      "metadata": {
        "id": "12XW1J2Q8AQt",
        "colab_type": "text"
      },
      "source": [
        "Now the csv can be imported into a dataframe\n"
      ]
    },
    {
      "cell_type": "code",
      "metadata": {
        "id": "YtD9vz70Ykeb",
        "colab_type": "code",
        "colab": {
          "base_uri": "https://localhost:8080/",
          "height": 34
        },
        "outputId": "0cc3b48a-9011-47d2-e356-99d4228fba25"
      },
      "source": [
        ""
      ],
      "execution_count": 8,
      "outputs": [
        {
          "output_type": "stream",
          "text": [
            "/content/drive/My Drive/cap4770-project\n"
          ],
          "name": "stdout"
        }
      ]
    },
    {
      "cell_type": "code",
      "metadata": {
        "id": "tl8iqOTR79tt",
        "colab_type": "code",
        "outputId": "ccabae7a-a941-497b-aa20-9b8a23084c4c",
        "colab": {
          "base_uri": "https://localhost:8080/",
          "height": 51
        }
      },
      "source": [
        "import pandas as pd\n",
        "import time\n",
        "\n",
        "#change directory to where the data is located \n",
        "!pwd\n",
        "\n",
        "#use timer to get process times\n",
        "start_time = time.time()\n",
        "\n",
        "#read csv\n",
        "data = pd.read_csv(\"SP_DAILY_2000-2020.csv\")\n",
        "#print(\"read data --- %s seconds ---\" % (time.time() - start_time))\n",
        "\n",
        "#preview first 5 lines\n",
        "#start_time = time.time()\n",
        "#print(data.head())\n",
        "#print(\"get preview --- %s seconds ---\" % (time.time() - start_time))\n",
        "\n",
        "availableStocks = data['Symbol'].unique()\n",
        "randomPortfolio = getRandomTickers(availableStocks)\n",
        "\n",
        "print(randomPortfolio)"
      ],
      "execution_count": 9,
      "outputs": [
        {
          "output_type": "stream",
          "text": [
            "/content/drive/My Drive/cap4770-project\n",
            "['KEYS', 'IRM', 'AJG', 'HSY', 'USB', 'NDAQ', 'UAA', 'CSX', 'DD', 'GD']\n"
          ],
          "name": "stdout"
        }
      ]
    },
    {
      "cell_type": "markdown",
      "metadata": {
        "id": "JJmvRxRB-SwV",
        "colab_type": "text"
      },
      "source": [
        ""
      ]
    },
    {
      "cell_type": "code",
      "metadata": {
        "id": "kmeq6gv7GHzR",
        "colab_type": "code",
        "outputId": "c6f27deb-923c-4dc4-b0b7-648bc3e6d31e",
        "colab": {
          "base_uri": "https://localhost:8080/",
          "height": 255
        }
      },
      "source": [
        "stocksData = data[data['Symbol'].isin(availableStocks)]\n",
        "\n",
        "print(stocksData)"
      ],
      "execution_count": 10,
      "outputs": [
        {
          "output_type": "stream",
          "text": [
            "        Symbol        Date    Open   Close     High     Low    Volume\n",
            "0          MMM  2020-03-26  131.79  135.98  136.355  130.61   5476351\n",
            "1          MMM  2020-03-25  133.15  131.54  134.690  126.80   7732467\n",
            "2          MMM  2020-03-24  122.29  132.72  133.450  121.00   9304832\n",
            "3          MMM  2020-03-23  128.16  117.87  128.400  114.04   7920348\n",
            "4          MMM  2020-03-20  138.07  124.89  139.240  122.71   9582251\n",
            "...        ...         ...     ...     ...      ...     ...       ...\n",
            "2250258    ZTS  2013-02-07   31.00   32.00   32.730   31.00   3800800\n",
            "2250259    ZTS  2013-02-06   30.98   31.03   31.430   30.75   2126100\n",
            "2250260    ZTS  2013-02-05   31.25   31.04   31.980   30.85   5013200\n",
            "2250261    ZTS  2013-02-04   31.09   31.02   31.990   30.76   7695400\n",
            "2250262    ZTS  2013-02-01   31.50   31.01   31.740   30.47  66789100\n",
            "\n",
            "[2250263 rows x 7 columns]\n"
          ],
          "name": "stdout"
        }
      ]
    },
    {
      "cell_type": "code",
      "metadata": {
        "id": "vv3QJgrXQIFG",
        "colab_type": "code",
        "outputId": "d6d34bcf-1f11-46df-d5d6-ac27bece4025",
        "colab": {
          "base_uri": "https://localhost:8080/",
          "height": 255
        }
      },
      "source": [
        "stocksData['DateTime'] = pd.to_datetime(stocksData.apply(lambda row: row['Date'], axis=1))\n",
        "\n",
        "print(stocksData)"
      ],
      "execution_count": 11,
      "outputs": [
        {
          "output_type": "stream",
          "text": [
            "        Symbol        Date    Open  ...     Low    Volume   DateTime\n",
            "0          MMM  2020-03-26  131.79  ...  130.61   5476351 2020-03-26\n",
            "1          MMM  2020-03-25  133.15  ...  126.80   7732467 2020-03-25\n",
            "2          MMM  2020-03-24  122.29  ...  121.00   9304832 2020-03-24\n",
            "3          MMM  2020-03-23  128.16  ...  114.04   7920348 2020-03-23\n",
            "4          MMM  2020-03-20  138.07  ...  122.71   9582251 2020-03-20\n",
            "...        ...         ...     ...  ...     ...       ...        ...\n",
            "2250258    ZTS  2013-02-07   31.00  ...   31.00   3800800 2013-02-07\n",
            "2250259    ZTS  2013-02-06   30.98  ...   30.75   2126100 2013-02-06\n",
            "2250260    ZTS  2013-02-05   31.25  ...   30.85   5013200 2013-02-05\n",
            "2250261    ZTS  2013-02-04   31.09  ...   30.76   7695400 2013-02-04\n",
            "2250262    ZTS  2013-02-01   31.50  ...   30.47  66789100 2013-02-01\n",
            "\n",
            "[2250263 rows x 8 columns]\n"
          ],
          "name": "stdout"
        }
      ]
    },
    {
      "cell_type": "code",
      "metadata": {
        "id": "omUTA2UMTqVh",
        "colab_type": "code",
        "outputId": "2ad2ed1e-47cd-48c3-9dab-9f83aec7d034",
        "colab": {
          "base_uri": "https://localhost:8080/",
          "height": 255
        }
      },
      "source": [
        "trainData = stocksData[(stocksData['DateTime'] > '2010-01-01') & (stocksData['DateTime'] < '2019-01-01')]\n",
        "\n",
        "testData = stocksData[(stocksData['DateTime'] > '2019-01-01') & (stocksData['DateTime'] < '2020-01-01')]\n",
        "\n",
        "print(trainData)"
      ],
      "execution_count": 12,
      "outputs": [
        {
          "output_type": "stream",
          "text": [
            "        Symbol        Date    Open   Close    High     Low    Volume   DateTime\n",
            "311        MMM  2018-12-31  190.34  190.54  191.65  188.50   1804618 2018-12-31\n",
            "312        MMM  2018-12-28  191.81  189.37  192.30  188.57   2311390 2018-12-28\n",
            "313        MMM  2018-12-27  183.50  190.70  190.70  182.88   2809032 2018-12-27\n",
            "314        MMM  2018-12-26  179.38  186.26  186.33  176.87   2925561 2018-12-26\n",
            "315        MMM  2018-12-24  181.89  178.62  183.54  178.51   2249502 2018-12-24\n",
            "...        ...         ...     ...     ...     ...     ...       ...        ...\n",
            "2250258    ZTS  2013-02-07   31.00   32.00   32.73   31.00   3800800 2013-02-07\n",
            "2250259    ZTS  2013-02-06   30.98   31.03   31.43   30.75   2126100 2013-02-06\n",
            "2250260    ZTS  2013-02-05   31.25   31.04   31.98   30.85   5013200 2013-02-05\n",
            "2250261    ZTS  2013-02-04   31.09   31.02   31.99   30.76   7695400 2013-02-04\n",
            "2250262    ZTS  2013-02-01   31.50   31.01   31.74   30.47  66789100 2013-02-01\n",
            "\n",
            "[1075723 rows x 8 columns]\n"
          ],
          "name": "stdout"
        }
      ]
    },
    {
      "cell_type": "code",
      "metadata": {
        "id": "cbJW2VEtU4jb",
        "colab_type": "code",
        "colab": {}
      },
      "source": [
        "import matplotlib\n",
        "import matplotlib.pyplot as plt\n",
        "%matplotlib inline"
      ],
      "execution_count": 0,
      "outputs": []
    },
    {
      "cell_type": "code",
      "metadata": {
        "id": "-2r1um3YVapt",
        "colab_type": "code",
        "outputId": "5cc100cc-5e89-41bd-ad59-9ff99bd11b51",
        "colab": {
          "base_uri": "https://localhost:8080/",
          "height": 265
        }
      },
      "source": [
        "grouped_day_stocks = []\n",
        "grouped_day = []\n",
        "plt.figure()\n",
        "for i in range(0, len(randomPortfolio)):\n",
        "  grouped_day_stocks.append(stocksData[stocksData['Symbol'] == randomPortfolio[i]])\n",
        "  grouped_day.append(grouped_day_stocks[i].groupby(lambda x: grouped_day_stocks[i]['DateTime'][x]))\n",
        "for j in range(0, len(randomPortfolio)):\n",
        "  plt.plot(grouped_day[j].size().index, grouped_day_stocks[j]['Close'])\n",
        "plt.show()"
      ],
      "execution_count": 14,
      "outputs": [
        {
          "output_type": "display_data",
          "data": {
            "image/png": "[encoded data removed]",
            "text/plain": [
              "<Figure size 432x288 with 1 Axes>"
            ]
          },
          "metadata": {
            "tags": [],
            "needs_background": "light"
          }
        }
      ]
    },
    {
      "cell_type": "code",
      "metadata": {
        "id": "f1b8fwXAXT8A",
        "colab_type": "code",
        "outputId": "5a11f698-68b0-4e66-b975-93befd4646d1",
        "colab": {
          "base_uri": "https://localhost:8080/",
          "height": 765
        }
      },
      "source": [
        "availableStocks = data['Symbol'].unique()\n",
        "print(availableStocks)\n",
        "def to_integer(dt_time):\n",
        "    return 10000*dt_time.year + 100*dt_time.month + dt_time.day\n",
        "\n",
        "def to_quarter(dt_time):\n",
        "    if dt_time.month < 3:\n",
        "      return 1\n",
        "    if dt_time.month < 6:\n",
        "      return 2\n",
        "    if dt_time.month < 9:\n",
        "      return 3\n",
        "    return 4\n",
        "\n",
        "def to_profitable(close, open):\n",
        "    if (close - open) > 0:\n",
        "      return 1\n",
        "    return 0\n",
        "\n",
        "def to_change_percent(close, open):\n",
        "    return int(round((close - open)/open, 2) * 100)\n",
        "    "
      ],
      "execution_count": 15,
      "outputs": [
        {
          "output_type": "stream",
          "text": [
            "['MMM' 'ABT' 'ABBV' 'ABMD' 'ACN' 'ATVI' 'ADBE' 'AMD' 'AAP' 'AES' 'AFL' 'A'\n",
            " 'APD' 'AKAM' 'ALK' 'ALB' 'ARE' 'ALXN' 'ALGN' 'ALLE' 'AGN' 'ADS' 'LNT'\n",
            " 'ALL' 'GOOGL' 'GOOG' 'MO' 'AMZN' 'AMCR' 'AEE' 'AAL' 'AEP' 'AXP' 'AIG' 'T'\n",
            " 'AMT' 'AWK' 'AMP' 'ABC' 'AME' 'AMGN' 'APH' 'ADI' 'ANSS' 'ANTM' 'AON'\n",
            " 'AOS' 'APA' 'AIV' 'AAPL' 'AMAT' 'APTV' 'ADM' 'ARNC' 'ANET' 'AJG' 'AIZ'\n",
            " 'ATO' 'ADSK' 'ADP' 'AZO' 'AVB' 'AVY' 'BKR' 'BLL' 'BAC' 'BK' 'BAX' 'BDX'\n",
            " 'BRK.B' 'BBY' 'BIIB' 'BLK' 'BA' 'BKNG' 'BWA' 'BXP' 'BSX' 'BMY' 'AVGO'\n",
            " 'BR' 'CHRW' 'COG' 'CDNS' 'CPB' 'COF' 'CPRI' 'CAH' 'KMX' 'CCL' 'CAT'\n",
            " 'CBOE' 'CBRE' 'CDW' 'CE' 'CNC' 'CNP' 'CTL' 'CERN' 'CF' 'SCHW' 'CHTR'\n",
            " 'CVX' 'CMG' 'CB' 'CHD' 'CI' 'CINF' 'CTAS' 'CSCO' 'C' 'CFG' 'CTXS' 'CLX'\n",
            " 'CME' 'CMS' 'KO' 'CTSH' 'CL' 'CMCSA' 'CMA' 'CAG' 'CXO' 'COP' 'ED' 'STZ'\n",
            " 'COO' 'CPRT' 'GLW' 'CTVA' 'COST' 'COTY' 'CCI' 'CSX' 'CMI' 'CVS' 'DHI'\n",
            " 'DHR' 'DRI' 'DVA' 'DE' 'DAL' 'XRAY' 'DVN' 'FANG' 'DLR' 'DFS' 'DISCA'\n",
            " 'DISCK' 'DISH' 'DG' 'DLTR' 'D' 'DOV' 'DOW' 'DTE' 'DUK' 'DRE' 'DD' 'DXC'\n",
            " 'ETFC' 'EMN' 'ETN' 'EBAY' 'ECL' 'EIX' 'EW' 'EA' 'EMR' 'ETR' 'EOG' 'EFX'\n",
            " 'EQIX' 'EQR' 'ESS' 'EL' 'EVRG' 'ES' 'RE' 'EXC' 'EXPE' 'EXPD' 'EXR' 'XOM'\n",
            " 'FFIV' 'FB' 'FAST' 'FRT' 'FDX' 'FIS' 'FITB' 'FE' 'FRC' 'FISV' 'FLT'\n",
            " 'FLIR' 'FLS' 'FMC' 'F' 'FTNT' 'FTV' 'FBHS' 'FOXA' 'FOX' 'BEN' 'FCX' 'GPS'\n",
            " 'GRMN' 'IT' 'GD' 'GE' 'GIS' 'GM' 'GPC' 'GILD' 'GL' 'GPN' 'GS' 'GWW' 'HRB'\n",
            " 'HAL' 'HBI' 'HOG' 'HIG' 'HAS' 'HCA' 'PEAK' 'HP' 'HSIC' 'HSY' 'HES' 'HPE'\n",
            " 'HLT' 'HFC' 'HOLX' 'HD' 'HON' 'HRL' 'HST' 'HPQ' 'HUM' 'HBAN' 'HII' 'IEX'\n",
            " 'IDXX' 'INFO' 'ITW' 'ILMN' 'INCY' 'IR' 'INTC' 'ICE' 'IBM' 'IP' 'IPG'\n",
            " 'IFF' 'INTU' 'ISRG' 'IVZ' 'IPGP' 'IQV' 'IRM' 'JKHY' 'J' 'JBHT' 'SJM'\n",
            " 'JNJ' 'JCI' 'JPM' 'JNPR' 'KSU' 'K' 'KEY' 'KEYS' 'KMB' 'KIM' 'KMI' 'KLAC'\n",
            " 'KSS' 'KHC' 'KR' 'LB' 'LHX' 'LH' 'LRCX' 'LW' 'LVS' 'LEG' 'LDOS' 'LEN'\n",
            " 'LLY' 'LNC' 'LIN' 'LYV' 'LKQ' 'LMT' 'L' 'LOW' 'LYB' 'MTB' 'M' 'MRO' 'MPC'\n",
            " 'MKTX' 'MAR' 'MMC' 'MLM' 'MAS' 'MA' 'MKC' 'MXIM' 'MCD' 'MCK' 'MDT' 'MRK'\n",
            " 'MET' 'MTD' 'MGM' 'MCHP' 'MU' 'MSFT' 'MAA' 'MHK' 'TAP' 'MDLZ' 'MNST'\n",
            " 'MCO' 'MS' 'MOS' 'MSI' 'MSCI' 'MYL' 'NDAQ' 'NOV' 'NTAP' 'NFLX' 'NWL'\n",
            " 'NEM' 'NWSA' 'NWS' 'NEE' 'NLSN' 'NKE' 'NI' 'NBL' 'JWN' 'NSC' 'NTRS' 'NOC'\n",
            " 'NLOK' 'NCLH' 'NRG' 'NUE' 'NVDA' 'NVR' 'ORLY' 'OXY' 'ODFL' 'OMC' 'OKE'\n",
            " 'ORCL' 'PCAR' 'PKG' 'PH' 'PAYX' 'PAYC' 'PYPL' 'PNR' 'PBCT' 'PEP' 'PKI'\n",
            " 'PRGO' 'PFE' 'PM' 'PSX' 'PNW' 'PXD' 'PNC' 'PPG' 'PPL' 'PFG' 'PG' 'PGR'\n",
            " 'PLD' 'PRU' 'PEG' 'PSA' 'PHM' 'PVH' 'QRVO' 'PWR' 'QCOM' 'DGX' 'RL' 'RJF'\n",
            " 'RTN' 'O' 'REG' 'REGN' 'RF' 'RSG' 'RMD' 'RHI' 'ROK' 'ROL' 'ROP' 'ROST'\n",
            " 'RCL' 'SPGI' 'CRM' 'SBAC' 'SLB' 'STX' 'SEE' 'SRE' 'NOW' 'SHW' 'SPG'\n",
            " 'SWKS' 'SLG' 'SNA' 'SO' 'LUV' 'SWK' 'SBUX' 'STT' 'STE' 'SYK' 'SIVB' 'SYF'\n",
            " 'SNPS' 'SYY' 'TMUS' 'TROW' 'TTWO' 'TPR' 'TGT' 'TEL' 'FTI' 'TFX' 'TXN'\n",
            " 'TXT' 'TMO' 'TIF' 'TJX' 'TSCO' 'TT' 'TDG' 'TRV' 'TFC' 'TWTR' 'TSN' 'UDR'\n",
            " 'ULTA' 'USB' 'UAA' 'UA' 'UNP' 'UAL' 'UNH' 'UPS' 'URI' 'UTX' 'UHS' 'UNM'\n",
            " 'VFC' 'VLO' 'VAR' 'VTR' 'VRSN' 'VRSK' 'VZ' 'VRTX' 'VIAC' 'V' 'VNO' 'VMC'\n",
            " 'WRB' 'WAB' 'WMT' 'WBA' 'WM' 'WAT' 'WEC' 'WFC' 'WELL' 'WDC' 'WU' 'WRK'\n",
            " 'WY' 'WHR' 'WMB' 'WLTW' 'WYNN' 'XEL' 'XRX' 'XLNX' 'XYL' 'YUM' 'ZBRA'\n",
            " 'ZBH' 'ZION' 'ZTS']\n"
          ],
          "name": "stdout"
        }
      ]
    },
    {
      "cell_type": "code",
      "metadata": {
        "id": "Rb0HteRpd8fE",
        "colab_type": "code",
        "outputId": "fede6cde-4bb7-4346-95d0-044a3f160272",
        "colab": {
          "base_uri": "https://localhost:8080/",
          "height": 1000
        }
      },
      "source": [
        "trainData = stocksData[(stocksData['DateTime'] > '2012-01-01') & (stocksData['DateTime'] < '2015-01-01')]\n",
        "\n",
        "testData = stocksData[(stocksData['DateTime'] > '2015-01-01') & (stocksData['DateTime'] < '2016-01-01')]\n",
        "\n",
        "trainData['Symbol'] = trainData.apply(lambda row: availableStocks.tolist().index(row['Symbol']), axis=1)\n",
        "testData['Symbol'] = testData.apply(lambda row: availableStocks.tolist().index(row['Symbol']), axis=1)\n",
        "\n",
        "trainData['Quarter'] = trainData.apply(lambda row: to_quarter(row['DateTime']), axis=1)\n",
        "testData['Quarter'] = testData.apply(lambda row: to_quarter(row['DateTime']), axis=1)\n",
        "\n",
        "#trainData['Profitable'] = trainData.apply(lambda row: to_profitable(row['Close'], row['Open']), axis=1)\n",
        "#testData['Profitable'] = testData.apply(lambda row: to_profitable(row['Close'], row['Open']), axis=1)\n",
        "\n",
        "#trainData['DateTime'] = trainData.apply(lambda row: to_integer(row['DateTime']), axis=1)\n",
        "#testData['DateTime'] = testData.apply(lambda row: to_integer(row['DateTime']), axis=1)\n",
        "\n",
        "trainData['PercentChange'] = trainData.apply(lambda row: to_change_percent(row['Close'], row['Open']), axis=1)\n",
        "testData['PercentChange'] = testData.apply(lambda row: to_change_percent(row['Close'], row['Open']), axis=1)\n",
        "\n",
        "\n",
        "\n",
        "#df_train = pd.DataFrame(trainData, columns = ['Symbol', 'Open', 'Close', 'High', 'Low', 'Volume', 'DateTime', 'Profitable'])\n",
        "#df_test = pd.DataFrame(testData, columns = ['Symbol', 'Open', 'Close', 'High', 'Low', 'Volume', 'DateTime', 'Profitable'])\n",
        "\n",
        "df_train = pd.DataFrame(trainData, columns = ['Symbol', 'Open', 'Volume', 'Quarter', 'PercentChange'])\n",
        "df_test = pd.DataFrame(testData, columns = ['Symbol', 'Open', 'Volume', 'Quarter', 'PercentChange'])\n",
        "\n",
        "#df_train.drop(['Date'], axis=1)\n",
        "#df_test.drop(['Date'], axis=1)\n",
        "\n",
        "print(df_train)\n",
        "print(df_test)"
      ],
      "execution_count": 20,
      "outputs": [
        {
          "output_type": "stream",
          "text": [
            "/usr/local/lib/python3.6/dist-packages/ipykernel_launcher.py:5: SettingWithCopyWarning: \n",
            "A value is trying to be set on a copy of a slice from a DataFrame.\n",
            "Try using .loc[row_indexer,col_indexer] = value instead\n",
            "\n",
            "See the caveats in the documentation: https://pandas.pydata.org/pandas-docs/stable/user_guide/indexing.html#returning-a-view-versus-a-copy\n",
            "  \"\"\"\n",
            "/usr/local/lib/python3.6/dist-packages/ipykernel_launcher.py:6: SettingWithCopyWarning: \n",
            "A value is trying to be set on a copy of a slice from a DataFrame.\n",
            "Try using .loc[row_indexer,col_indexer] = value instead\n",
            "\n",
            "See the caveats in the documentation: https://pandas.pydata.org/pandas-docs/stable/user_guide/indexing.html#returning-a-view-versus-a-copy\n",
            "  \n",
            "/usr/local/lib/python3.6/dist-packages/ipykernel_launcher.py:8: SettingWithCopyWarning: \n",
            "A value is trying to be set on a copy of a slice from a DataFrame.\n",
            "Try using .loc[row_indexer,col_indexer] = value instead\n",
            "\n",
            "See the caveats in the documentation: https://pandas.pydata.org/pandas-docs/stable/user_guide/indexing.html#returning-a-view-versus-a-copy\n",
            "  \n",
            "/usr/local/lib/python3.6/dist-packages/ipykernel_launcher.py:9: SettingWithCopyWarning: \n",
            "A value is trying to be set on a copy of a slice from a DataFrame.\n",
            "Try using .loc[row_indexer,col_indexer] = value instead\n",
            "\n",
            "See the caveats in the documentation: https://pandas.pydata.org/pandas-docs/stable/user_guide/indexing.html#returning-a-view-versus-a-copy\n",
            "  if __name__ == '__main__':\n",
            "/usr/local/lib/python3.6/dist-packages/ipykernel_launcher.py:17: SettingWithCopyWarning: \n",
            "A value is trying to be set on a copy of a slice from a DataFrame.\n",
            "Try using .loc[row_indexer,col_indexer] = value instead\n",
            "\n",
            "See the caveats in the documentation: https://pandas.pydata.org/pandas-docs/stable/user_guide/indexing.html#returning-a-view-versus-a-copy\n"
          ],
          "name": "stderr"
        },
        {
          "output_type": "stream",
          "text": [
            "         Symbol    Open    Volume  Quarter  PercentChange\n",
            "1317          0  166.00   1631764        4             -1\n",
            "1318          0  166.55   1180680        4              0\n",
            "1319          0  166.30   1218833        4              0\n",
            "1320          0  167.34   1607376        4             -1\n",
            "1321          0  166.17    981961        4              0\n",
            "...         ...     ...       ...      ...            ...\n",
            "2250258     502   31.00   3800800        1              3\n",
            "2250259     502   30.98   2126100        1              0\n",
            "2250260     502   31.25   5013200        1             -1\n",
            "2250261     502   31.09   7695400        1              0\n",
            "2250262     502   31.50  66789100        1             -2\n",
            "\n",
            "[354535 rows x 5 columns]\n",
            "         Symbol    Open   Volume  Quarter  PercentChange\n",
            "1065          0  151.73  1607102        4             -1\n",
            "1066          0  152.79  1553075        4             -1\n",
            "1067          0  152.20  1824690        4              0\n",
            "1068          0  151.13  1275184        4              0\n",
            "1069          0  150.82   848403        4              0\n",
            "...         ...     ...      ...      ...            ...\n",
            "2249775     502   44.75  3121258        1             -1\n",
            "2249776     502   43.00  2481935        1              1\n",
            "2249777     502   43.15  3987015        1             -1\n",
            "2249778     502   43.25  3116681        1              0\n",
            "2249779     502   43.46  1784751        1              0\n",
            "\n",
            "[122143 rows x 5 columns]\n"
          ],
          "name": "stdout"
        },
        {
          "output_type": "stream",
          "text": [
            "/usr/local/lib/python3.6/dist-packages/ipykernel_launcher.py:18: SettingWithCopyWarning: \n",
            "A value is trying to be set on a copy of a slice from a DataFrame.\n",
            "Try using .loc[row_indexer,col_indexer] = value instead\n",
            "\n",
            "See the caveats in the documentation: https://pandas.pydata.org/pandas-docs/stable/user_guide/indexing.html#returning-a-view-versus-a-copy\n"
          ],
          "name": "stderr"
        }
      ]
    },
    {
      "cell_type": "code",
      "metadata": {
        "id": "DLCSJGsugHgi",
        "colab_type": "code",
        "outputId": "dd9be368-53f2-4dc6-df2a-a4350d64f745",
        "colab": {
          "base_uri": "https://localhost:8080/",
          "height": 68
        }
      },
      "source": [
        "print(df_test.shape)\n",
        "print(df_train.shape)\n",
        "print(df_train['PercentChange'].values)\n",
        "\n",
        "#from sklearn.naive_bayes import MultinomialNB\n",
        "#modelNB = MultinomialNB().fit(df_train.drop(['PercentChange'], axis=1), df_train['PercentChange'])\n",
        "\n",
        "#from sklearn.tree import DecisionTreeClassifier\n",
        "#modelDT = DecisionTreeClassifier().fit(df_train.drop(['PercentChange'], axis=1), df_train['PercentChange'])\n",
        "\n",
        "from sklearn.ensemble import RandomForestClassifier\n",
        "modelRF = RandomForestClassifier(n_estimators=500, max_depth=5).fit(df_train.drop(['PercentChange'], axis=1), df_train['PercentChange'])"
      ],
      "execution_count": 21,
      "outputs": [
        {
          "output_type": "stream",
          "text": [
            "(122143, 5)\n",
            "(354535, 5)\n",
            "[-1  0  0 ... -1  0 -2]\n"
          ],
          "name": "stdout"
        }
      ]
    },
    {
      "cell_type": "code",
      "metadata": {
        "id": "uFoff8HEgvpQ",
        "colab_type": "code",
        "colab": {}
      },
      "source": [
        "from sklearn.metrics import confusion_matrix\n",
        "\n",
        "#score1 = modelNB.score(df_test.drop(['PercentChange'], axis=1), df_test['PercentChange'])\n",
        "#pred1 = modelNB.predict(df_test.drop(['PercentChange'], axis=1))\n",
        "#cm1 = confusion_matrix(df_test['PercentChange'], pred1, modelNB.classes_)\n",
        "#print(score1)\n",
        "#print(cm1)\n",
        "\n",
        "#score2 = modelDT.score(df_test.drop(['PercentChange'], axis=1), df_test['PercentChange'])\n",
        "#pred2 = modelDT.predict(df_test.drop(['PercentChange'], axis=1))\n",
        "#cm2 = confusion_matrix(df_test['PercentChange'], pred2, modelDT.classes_)\n",
        "#print(score2)\n",
        "#print(cm2)\n",
        "\n",
        "score3 = modelRF.score(df_test.drop(['PercentChange'], axis=1), df_test['PercentChange'])\n",
        "pred3 = modelRF.predict(df_test.drop(['PercentChange'], axis=1))\n",
        "cm3 = confusion_matrix(df_test['PercentChange'], pred3, modelRF.classes_)\n",
        "print(score3)\n",
        "print(cm3)\n",
        "\n",
        "#model.predict(df_test)"
      ],
      "execution_count": 0,
      "outputs": []
    },
    {
      "cell_type": "code",
      "metadata": {
        "id": "N8UuoiaBEXeP",
        "colab_type": "code",
        "colab": {}
      },
      "source": [
        "print(pred3)\n",
        "\n",
        "df_test_show = testData\n",
        "df_test_show['Prediction'] = pred3\n",
        "\n",
        "print(df_test_show)\n",
        "\n",
        "grouped_day_stocks = []\n",
        "grouped_day = []\n",
        "plt.figure()\n",
        "#len(availableStocks)\n",
        "for i in range(0, 1):\n",
        "  grouped_day_stocks.append(df_test_show[df_test_show['Symbol'] == availableStocks[i]])\n",
        "  grouped_day.append(grouped_day_stocks[i].groupby(lambda x: grouped_day_stocks[i]['DateTime'][x]))\n",
        "print(grouped_day);\n",
        "for j in range(0, 1):\n",
        "  plt.plot(grouped_day[j].size().index, grouped_day_stocks[j]['PercentChange'], grouped_day[j].size().index, grouped_day_stocks[j]['Prediction'])\n",
        "plt.show()"
      ],
      "execution_count": 0,
      "outputs": []
    },
    {
      "cell_type": "code",
      "metadata": {
        "id": "K0QHGRAcE4xl",
        "colab_type": "code",
        "colab": {}
      },
      "source": [
        ""
      ],
      "execution_count": 0,
      "outputs": []
    }
  ]
}