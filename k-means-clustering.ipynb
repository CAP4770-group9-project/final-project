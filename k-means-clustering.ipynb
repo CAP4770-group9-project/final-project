{
  "nbformat": 4,
  "nbformat_minor": 0,
  "metadata": {
    "colab": {
      "name": "Untitled1.ipynb",
      "provenance": [],
      "toc_visible": true,
      "mount_file_id": "https://github.com/CAP4770-group9-project/final-project/blob/notebook%2Fkmeans/k-means-clustering.ipynb",
      "authorship_tag": "ABX9TyMJEeruXT7JWYfvJMCrjA35",
      "include_colab_link": true
    },
    "kernelspec": {
      "name": "python3",
      "display_name": "Python 3"
    }
  },
  "cells": [
    {
      "cell_type": "markdown",
      "metadata": {
        "id": "view-in-github",
        "colab_type": "text"
      },
      "source": [
        "<a href=\"https://colab.research.google.com/github/CAP4770-group9-project/final-project/blob/notebook%2Fkmeans/k-means-clustering.ipynb\" target=\"_parent\"><img src=\"https://colab.research.google.com/assets/colab-badge.svg\" alt=\"Open In Colab\"/></a>"
      ]
    },
    {
      "cell_type": "markdown",
      "metadata": {
        "id": "zFQJfS-88urd",
        "colab_type": "text"
      },
      "source": [
        "# K-Means Clustering for Stock Portfolio Diversification\n",
        "\n",
        "Diversification is a very important step in stock portfolio creation. Picking several stocks rather than just one helps to reduce some of the inherent risk with investing. However, to reap the full benefits of diversification one not only has to pick more than one stock but also ensure that the behaviour of the stocks are not correlated.\n",
        "\n",
        "This measure of \"differentiality\" in stock return and variance behavior can be calculated using K means clustering. The stock price data over diffrent periods of time can be put into the clustering algorithm with the goal of clustering the stock based on diffrent behavior. Stocks from these clusters then can be chosen in order to create a well-diversified portfolio."
      ]
    },
    {
      "cell_type": "markdown",
      "metadata": {
        "id": "O_kpggokog9G",
        "colab_type": "text"
      },
      "source": [
        "## Data preprocessing"
      ]
    },
    {
      "cell_type": "markdown",
      "metadata": {
        "id": "BnXKxqiBsIc5",
        "colab_type": "text"
      },
      "source": [
        "### Import data and calculate parameters"
      ]
    },
    {
      "cell_type": "markdown",
      "metadata": {
        "id": "qVSM7-grCVje",
        "colab_type": "text"
      },
      "source": [
        "Now we can import the S&P500 data into Colab"
      ]
    },
    {
      "cell_type": "code",
      "metadata": {
        "id": "RKCEaZB1DCiK",
        "colab_type": "code",
        "outputId": "4e4e0a2f-7ae4-4dcd-e9e3-7c5cabe39ea4",
        "colab": {
          "base_uri": "https://localhost:8080/",
          "height": 51
        }
      },
      "source": [
        "#change directory to where the data is located \n",
        "!pwd\n",
        "%cd drive/My Drive/cap4770-project"
      ],
      "execution_count": 1,
      "outputs": [
        {
          "output_type": "stream",
          "text": [
            "/content\n",
            "/content/drive/My Drive/cap4770-project\n"
          ],
          "name": "stdout"
        }
      ]
    },
    {
      "cell_type": "code",
      "metadata": {
        "id": "Qey89DoCCTzM",
        "colab_type": "code",
        "outputId": "612cefcf-36c5-42f1-d256-755a5086d40d",
        "colab": {
          "base_uri": "https://localhost:8080/",
          "height": 289
        }
      },
      "source": [
        "import pandas as pd\n",
        "import time\n",
        "\n",
        "#use timer to get process times\n",
        "start_time = time.time()\n",
        "\n",
        "#read csv\n",
        "data = pd.read_csv(\"SP_DAILY_2000-2020.csv\")\n",
        "print(\"read data --- %s seconds ---\" % (time.time() - start_time))\n",
        "\n",
        "availableStocks = data['Symbol'].unique()\n",
        "print(\"Number of stocks in the dataset: \", len(availableStocks))\n",
        "print(data)"
      ],
      "execution_count": 2,
      "outputs": [
        {
          "output_type": "stream",
          "text": [
            "read data --- 2.5801186561584473 seconds ---\n",
            "Number of stocks in the dataset:  503\n",
            "        Symbol        Date    Open   Close     High     Low    Volume\n",
            "0          MMM  2020-03-26  131.79  135.98  136.355  130.61   5476351\n",
            "1          MMM  2020-03-25  133.15  131.54  134.690  126.80   7732467\n",
            "2          MMM  2020-03-24  122.29  132.72  133.450  121.00   9304832\n",
            "3          MMM  2020-03-23  128.16  117.87  128.400  114.04   7920348\n",
            "4          MMM  2020-03-20  138.07  124.89  139.240  122.71   9582251\n",
            "...        ...         ...     ...     ...      ...     ...       ...\n",
            "2250258    ZTS  2013-02-07   31.00   32.00   32.730   31.00   3800800\n",
            "2250259    ZTS  2013-02-06   30.98   31.03   31.430   30.75   2126100\n",
            "2250260    ZTS  2013-02-05   31.25   31.04   31.980   30.85   5013200\n",
            "2250261    ZTS  2013-02-04   31.09   31.02   31.990   30.76   7695400\n",
            "2250262    ZTS  2013-02-01   31.50   31.01   31.740   30.47  66789100\n",
            "\n",
            "[2250263 rows x 7 columns]\n"
          ],
          "name": "stdout"
        }
      ]
    },
    {
      "cell_type": "markdown",
      "metadata": {
        "id": "GqtI8wO8nu5p",
        "colab_type": "text"
      },
      "source": [
        "Now we can extract the training data from the dataset"
      ]
    },
    {
      "cell_type": "code",
      "metadata": {
        "id": "zmfo9Kvyp_Dw",
        "colab_type": "code",
        "outputId": "1803ed9d-e449-4d9d-d7a0-ca3f75696cc8",
        "colab": {
          "base_uri": "https://localhost:8080/",
          "height": 255
        }
      },
      "source": [
        "#create DateTime column\n",
        "stocksData = data\n",
        "\n",
        "stocksData['DateTime'] = pd.to_datetime(stocksData.apply(lambda row: row['Date'], axis=1))\n",
        "\n",
        "print(stocksData)"
      ],
      "execution_count": 3,
      "outputs": [
        {
          "output_type": "stream",
          "text": [
            "        Symbol        Date    Open  ...     Low    Volume   DateTime\n",
            "0          MMM  2020-03-26  131.79  ...  130.61   5476351 2020-03-26\n",
            "1          MMM  2020-03-25  133.15  ...  126.80   7732467 2020-03-25\n",
            "2          MMM  2020-03-24  122.29  ...  121.00   9304832 2020-03-24\n",
            "3          MMM  2020-03-23  128.16  ...  114.04   7920348 2020-03-23\n",
            "4          MMM  2020-03-20  138.07  ...  122.71   9582251 2020-03-20\n",
            "...        ...         ...     ...  ...     ...       ...        ...\n",
            "2250258    ZTS  2013-02-07   31.00  ...   31.00   3800800 2013-02-07\n",
            "2250259    ZTS  2013-02-06   30.98  ...   30.75   2126100 2013-02-06\n",
            "2250260    ZTS  2013-02-05   31.25  ...   30.85   5013200 2013-02-05\n",
            "2250261    ZTS  2013-02-04   31.09  ...   30.76   7695400 2013-02-04\n",
            "2250262    ZTS  2013-02-01   31.50  ...   30.47  66789100 2013-02-01\n",
            "\n",
            "[2250263 rows x 8 columns]\n"
          ],
          "name": "stdout"
        }
      ]
    },
    {
      "cell_type": "code",
      "metadata": {
        "id": "1cvgeDWkpVih",
        "colab_type": "code",
        "outputId": "f7e3218b-c73f-43ca-e926-7f9c02c2c754",
        "colab": {
          "base_uri": "https://localhost:8080/",
          "height": 255
        }
      },
      "source": [
        "#get full training data set\n",
        "trainData = stocksData[(stocksData['DateTime'] > '2010-03-26') & (stocksData['DateTime'] < '2015-03-26')]\n",
        "\n",
        "#get training data set for 2015\n",
        "trainData2015 = stocksData[(stocksData['DateTime'] > '2014-03-26') & (stocksData['DateTime'] < '2015-03-26')]\n",
        "print(trainData2015)"
      ],
      "execution_count": 4,
      "outputs": [
        {
          "output_type": "stream",
          "text": [
            "        Symbol        Date    Open   Close     High     Low   Volume   DateTime\n",
            "1260       MMM  2015-03-25  166.24  162.70  166.520  162.66  2540422 2015-03-25\n",
            "1261       MMM  2015-03-24  165.58  166.32  167.650  165.53  2090967 2015-03-24\n",
            "1262       MMM  2015-03-23  166.83  166.13  166.905  165.83  2155702 2015-03-23\n",
            "1263       MMM  2015-03-20  166.09  166.49  167.134  165.39  4371778 2015-03-20\n",
            "1264       MMM  2015-03-19  166.16  165.66  166.210  164.85  1953456 2015-03-19\n",
            "...        ...         ...     ...     ...      ...     ...      ...        ...\n",
            "2249969    ZTS  2014-04-02   29.28   29.62   29.700   29.14  2341200 2014-04-02\n",
            "2249970    ZTS  2014-04-01   28.97   29.35   29.390   28.97  3658000 2014-04-01\n",
            "2249971    ZTS  2014-03-31   29.07   28.94   29.140   28.66  8689200 2014-03-31\n",
            "2249972    ZTS  2014-03-28   29.46   29.01   29.510   28.91  6398900 2014-03-28\n",
            "2249973    ZTS  2014-03-27   29.21   29.30   29.395   29.08  2984200 2014-03-27\n",
            "\n",
            "[120564 rows x 8 columns]\n"
          ],
          "name": "stdout"
        }
      ]
    },
    {
      "cell_type": "markdown",
      "metadata": {
        "id": "M3tqidRttemt",
        "colab_type": "text"
      },
      "source": [
        "We can perform an initial visualization of the data by plotting"
      ]
    },
    {
      "cell_type": "code",
      "metadata": {
        "id": "-DI21idmtxI8",
        "colab_type": "code",
        "colab": {}
      },
      "source": [
        "%matplotlib notebook\n",
        "%matplotlib inline\n",
        "\n",
        "\n",
        "import matplotlib\n",
        "import matplotlib.pyplot as plt\n"
      ],
      "execution_count": 0,
      "outputs": []
    },
    {
      "cell_type": "code",
      "metadata": {
        "id": "jb978D6vty9X",
        "colab_type": "code",
        "colab": {}
      },
      "source": [
        "grouped_day_stocks = []\n",
        "grouped_day = []\n",
        "\n",
        "#plot all data\n",
        "#plt.figure()\n",
        "#for i in range(0, len(availableStocks)):\n",
        "#  grouped_day_stocks.append(stocksData[stocksData['Symbol'] == availableStocks[i]])\n",
        "#  grouped_day.append(grouped_day_stocks[i].groupby(lambda x: grouped_day_stocks[i]['DateTime'][x]))\n",
        "#for j in range(0, len(availableStocks)):\n",
        "#  plt.plot(grouped_day[j].size().index, grouped_day_stocks[j]['Close'])\n",
        "#plt.show()"
      ],
      "execution_count": 0,
      "outputs": []
    },
    {
      "cell_type": "code",
      "metadata": {
        "id": "XtfwbKch6MRS",
        "colab_type": "code",
        "colab": {}
      },
      "source": [
        "#group day for all training data\n",
        "grouped_day_stocks = []\n",
        "grouped_day = []\n",
        "\n",
        "for i in range(0, len(availableStocks)):\n",
        "  grouped_day_stocks.append(trainData[trainData['Symbol'] == availableStocks[i]])\n",
        "  grouped_day.append(grouped_day_stocks[i].groupby(lambda x: grouped_day_stocks[i]['DateTime'][x]))\n",
        "\n",
        "#print(\"grouped day stocks\")\n",
        "#print(grouped_day_stocks, \"\\n\")\n",
        "\n"
      ],
      "execution_count": 0,
      "outputs": []
    },
    {
      "cell_type": "code",
      "metadata": {
        "id": "GYZaCOJNLFiF",
        "colab_type": "code",
        "colab": {}
      },
      "source": [
        "#print(grouped_day_stocks)"
      ],
      "execution_count": 0,
      "outputs": []
    },
    {
      "cell_type": "code",
      "metadata": {
        "id": "HMsHG4KNJ_yF",
        "colab_type": "code",
        "colab": {}
      },
      "source": [
        "#plot only training data\n",
        "#plt.figure()\n",
        "#for j in range(0, len(availableStocks)):\n",
        "#  plt.plot(grouped_day[j].size().index, grouped_day_stocks[j]['Close'])\n",
        "#plt.show()"
      ],
      "execution_count": 0,
      "outputs": []
    },
    {
      "cell_type": "markdown",
      "metadata": {
        "id": "XjklINq1NZvd",
        "colab_type": "text"
      },
      "source": [
        "For this 1 year sample of the training data, we can calculate the annualized average returns (based on price at close), annualized average volatility (based on price at close), the average intraday price variation (pct change between daily high and low), average diffrence in price between open and close and annualized trading volume from the data. \n",
        "\n",
        "The intraday price variation and diffrence between open and close will be used as additional measures of volatility and hopefully will add richness to the resutls of the k-means analysis"
      ]
    },
    {
      "cell_type": "code",
      "metadata": {
        "id": "msffkLwEMRnM",
        "colab_type": "code",
        "colab": {}
      },
      "source": [
        "#group day for 2015 data\n",
        "grouped_day_stocks = []\n",
        "grouped_day = []\n",
        "\n",
        "for i in range(0, len(availableStocks)):\n",
        "  grouped_day_stocks.append(trainData2015[trainData2015['Symbol'] == availableStocks[i]])\n",
        "  grouped_day.append(grouped_day_stocks[i].groupby(lambda x: grouped_day_stocks[i]['DateTime'][x]))\n",
        "\n",
        "  "
      ],
      "execution_count": 0,
      "outputs": []
    },
    {
      "cell_type": "code",
      "metadata": {
        "id": "YmufRPOEMyFx",
        "colab_type": "code",
        "outputId": "039eb4fb-856b-48e1-e6ee-a3cace9d4271",
        "colab": {
          "base_uri": "https://localhost:8080/",
          "height": 34
        }
      },
      "source": [
        "print(len(grouped_day_stocks))"
      ],
      "execution_count": 11,
      "outputs": [
        {
          "output_type": "stream",
          "text": [
            "503\n"
          ],
          "name": "stdout"
        }
      ]
    },
    {
      "cell_type": "code",
      "metadata": {
        "id": "7PsSsQOAjxW-",
        "colab_type": "code",
        "outputId": "bc15601c-506c-4000-eeed-836ff86b2399",
        "colab": {
          "base_uri": "https://localhost:8080/",
          "height": 649
        }
      },
      "source": [
        "#plot performance of the SP500 over training period\n",
        "\n",
        "!pip install ffn\n",
        "import ffn\n",
        "prices = ffn.get('^GSPC',start='2014-03-26', end='2015-03-26')\n",
        "ax1 = prices.plot(title=\"Performance of S&P500 from 2014-2015\", figsize=(15, 10))"
      ],
      "execution_count": 12,
      "outputs": [
        {
          "output_type": "stream",
          "text": [
            "Collecting ffn\n",
            "  Downloading https://files.pythonhosted.org/packages/b0/9f/0a16afc87d307140ecf3aa78df3985ee2b3fc67ee883ff53edada022a8aa/ffn-0.3.4.tar.gz\n",
            "Requirement already satisfied: decorator>=4 in /usr/local/lib/python3.6/dist-packages (from ffn) (4.4.2)\n",
            "Requirement already satisfied: numpy>=1.5 in /usr/local/lib/python3.6/dist-packages (from ffn) (1.18.2)\n",
            "Requirement already satisfied: pandas>=0.19 in /usr/local/lib/python3.6/dist-packages (from ffn) (1.0.3)\n",
            "Requirement already satisfied: pandas-datareader>=0.2 in /usr/local/lib/python3.6/dist-packages (from ffn) (0.8.1)\n",
            "Requirement already satisfied: tabulate>=0.7.5 in /usr/local/lib/python3.6/dist-packages (from ffn) (0.8.7)\n",
            "Requirement already satisfied: matplotlib>=1 in /usr/local/lib/python3.6/dist-packages (from ffn) (3.2.1)\n",
            "Requirement already satisfied: scikit-learn>=0.15 in /usr/local/lib/python3.6/dist-packages (from ffn) (0.22.2.post1)\n",
            "Requirement already satisfied: scipy>=0.15 in /usr/local/lib/python3.6/dist-packages (from ffn) (1.4.1)\n",
            "Requirement already satisfied: future>=0.15 in /usr/local/lib/python3.6/dist-packages (from ffn) (0.16.0)\n",
            "Requirement already satisfied: pytz>=2017.2 in /usr/local/lib/python3.6/dist-packages (from pandas>=0.19->ffn) (2018.9)\n",
            "Requirement already satisfied: python-dateutil>=2.6.1 in /usr/local/lib/python3.6/dist-packages (from pandas>=0.19->ffn) (2.8.1)\n",
            "Requirement already satisfied: requests>=2.3.0 in /usr/local/lib/python3.6/dist-packages (from pandas-datareader>=0.2->ffn) (2.21.0)\n",
            "Requirement already satisfied: lxml in /usr/local/lib/python3.6/dist-packages (from pandas-datareader>=0.2->ffn) (4.2.6)\n",
            "Requirement already satisfied: cycler>=0.10 in /usr/local/lib/python3.6/dist-packages (from matplotlib>=1->ffn) (0.10.0)\n",
            "Requirement already satisfied: pyparsing!=2.0.4,!=2.1.2,!=2.1.6,>=2.0.1 in /usr/local/lib/python3.6/dist-packages (from matplotlib>=1->ffn) (2.4.6)\n",
            "Requirement already satisfied: kiwisolver>=1.0.1 in /usr/local/lib/python3.6/dist-packages (from matplotlib>=1->ffn) (1.1.0)\n",
            "Requirement already satisfied: joblib>=0.11 in /usr/local/lib/python3.6/dist-packages (from scikit-learn>=0.15->ffn) (0.14.1)\n",
            "Requirement already satisfied: six>=1.5 in /usr/local/lib/python3.6/dist-packages (from python-dateutil>=2.6.1->pandas>=0.19->ffn) (1.12.0)\n",
            "Requirement already satisfied: idna<2.9,>=2.5 in /usr/local/lib/python3.6/dist-packages (from requests>=2.3.0->pandas-datareader>=0.2->ffn) (2.8)\n",
            "Requirement already satisfied: certifi>=2017.4.17 in /usr/local/lib/python3.6/dist-packages (from requests>=2.3.0->pandas-datareader>=0.2->ffn) (2019.11.28)\n",
            "Requirement already satisfied: urllib3<1.25,>=1.21.1 in /usr/local/lib/python3.6/dist-packages (from requests>=2.3.0->pandas-datareader>=0.2->ffn) (1.24.3)\n",
            "Requirement already satisfied: chardet<3.1.0,>=3.0.2 in /usr/local/lib/python3.6/dist-packages (from requests>=2.3.0->pandas-datareader>=0.2->ffn) (3.0.4)\n",
            "Requirement already satisfied: setuptools in /usr/local/lib/python3.6/dist-packages (from kiwisolver>=1.0.1->matplotlib>=1->ffn) (46.0.0)\n",
            "Building wheels for collected packages: ffn\n",
            "  Building wheel for ffn (setup.py) ... \u001b[?25l\u001b[?25hdone\n",
            "  Created wheel for ffn: filename=ffn-0.3.4-cp36-none-any.whl size=22814 sha256=221735a396c7624e3b99798998e4a1f4729de127e77498db79cb80d9f413c640\n",
            "  Stored in directory: /root/.cache/pip/wheels/20/08/4d/921180e81279d147cb6399fe1e194f2c67a796df86f9f4c5fe\n",
            "Successfully built ffn\n",
            "Installing collected packages: ffn\n",
            "Successfully installed ffn-0.3.4\n"
          ],
          "name": "stdout"
        },
        {
          "output_type": "stream",
          "text": [
            "/usr/local/lib/python3.6/dist-packages/ffn/core.py:27: MatplotlibDeprecationWarning: The 'warn' parameter of use() is deprecated since Matplotlib 3.1 and will be removed in 3.3.  If any parameter follows 'warn', they should be pass as keyword, not positionally.\n",
            "  matplotlib.use('agg', warn=False)\n",
            "/usr/local/lib/python3.6/dist-packages/pandas_datareader/compat/__init__.py:7: FutureWarning: pandas.util.testing is deprecated. Use the functions in the public API at pandas.testing instead.\n",
            "  from pandas.util.testing import assert_frame_equal\n"
          ],
          "name": "stderr"
        }
      ]
    },
    {
      "cell_type": "code",
      "metadata": {
        "id": "CA_sNF5rksro",
        "colab_type": "code",
        "outputId": "f422c588-5c64-49b8-fe14-18c449e79e74",
        "colab": {
          "base_uri": "https://localhost:8080/",
          "height": 306
        }
      },
      "source": [
        "#plot index overall returns\n",
        "returns = prices.to_returns().dropna()\n",
        "print(returns)\n",
        "print(returns.mean() *252)\n",
        "ax = returns.hist(figsize=(10,10))"
      ],
      "execution_count": 13,
      "outputs": [
        {
          "output_type": "stream",
          "text": [
            "                gspc\n",
            "Date                \n",
            "2014-03-27 -0.001900\n",
            "2014-03-28  0.004640\n",
            "2014-03-31  0.007924\n",
            "2014-04-01  0.007039\n",
            "2014-04-02  0.002853\n",
            "...              ...\n",
            "2015-03-20  0.009013\n",
            "2015-03-23 -0.001746\n",
            "2015-03-24 -0.006139\n",
            "2015-03-25 -0.014559\n",
            "2015-03-26 -0.002377\n",
            "\n",
            "[252 rows x 1 columns]\n",
            "gspc    0.111328\n",
            "dtype: float64\n"
          ],
          "name": "stdout"
        }
      ]
    },
    {
      "cell_type": "code",
      "metadata": {
        "colab_type": "code",
        "id": "VcEF6CkfMkXl",
        "outputId": "628ce514-5f36-4402-f531-d383f402115a",
        "colab": {
          "base_uri": "https://localhost:8080/",
          "height": 34
        }
      },
      "source": [
        "\"\"\"\n",
        "Need to rebase price data in order to get a clearer visualization\n",
        "\n",
        "\"\"\"\n",
        "\n",
        "#plot only training data 2015\n",
        "#plt.figure()\n",
        "#for j in range(0, len(availableStocks)):\n",
        "#  plt.plot(grouped_day[j].size().index, grouped_day_stocks[j]['Close'])\n",
        "#plt.show()"
      ],
      "execution_count": 14,
      "outputs": [
        {
          "output_type": "execute_result",
          "data": {
            "text/plain": [
              "'\\nNeed to rebase price data in order to get a clearer visualization\\n\\n'"
            ]
          },
          "metadata": {
            "tags": []
          },
          "execution_count": 14
        }
      ]
    },
    {
      "cell_type": "code",
      "metadata": {
        "id": "VRDimSWeVvWz",
        "colab_type": "code",
        "outputId": "a6771962-4200-44cd-e04d-6241e1b5c8b7",
        "colab": {
          "base_uri": "https://localhost:8080/",
          "height": 986
        }
      },
      "source": [
        "annualized_data = pd.DataFrame(index=availableStocks, columns=['Returns', 'Volatility','Volume', 'HighLowDiff', 'OpenCloseDiff'])\n",
        "\n",
        "\"\"\"\n",
        "Returns seem to be off a bit, as the sp500 itself has positive average returns but the returns data is negative\n",
        "\n",
        "\"\"\"\n",
        "#aggregate annualized stock data used in cluserting analysis into dataframe\n",
        "for i in range(0, len(grouped_day_stocks)):\n",
        "  \n",
        "  annualized_data.loc[availableStocks[i]]['Returns'] = grouped_day_stocks[i]['Close'].pct_change().mean() * 252\n",
        "  annualized_data.loc[availableStocks[i]]['Volatility'] = grouped_day_stocks[i]['Close'].pct_change().std() * 252\n",
        "  annualized_data.loc[availableStocks[i]]['Volume'] = grouped_day_stocks[i]['Volume'].mean() * 252\n",
        "  annualized_data.loc[availableStocks[i]]['HighLowDiff'] = ((grouped_day_stocks[i]['High'] - grouped_day_stocks[i]['Low']) / grouped_day_stocks[i]['Low']).mean()\n",
        "  annualized_data.loc[availableStocks[i]]['OpenCloseDiff'] = ((grouped_day_stocks[i]['Close'] - grouped_day_stocks[i]['Open']) / grouped_day_stocks[i]['Open']).mean()  \n",
        "\n",
        "print(\"Annualized data for each stock in S&P500 calculated form 2014 to 2015:\")\n",
        "print(annualized_data)\n",
        "\n",
        "print(\"Min/Max statistics: \\n\")\n",
        "print(\"Max returns: \")\n",
        "print(annualized_data[annualized_data['Returns'] == max(annualized_data['Returns'])], \"\\n\")\n",
        "print(\"Min returns: \")\n",
        "print(annualized_data[annualized_data['Returns'] == min(annualized_data['Returns'])], \"\\n\")\n",
        "\n",
        "print(\"Max volatility: \")\n",
        "print(annualized_data[annualized_data['Volatility'] == max(annualized_data['Volatility'],key=abs)], \"\\n\")\n",
        "print(\"Min volatility: \")\n",
        "print(annualized_data[annualized_data['Volatility'] == min(annualized_data['Volatility'],key=abs)], \"\\n\")\n",
        "\n",
        "print(\"Max volume: \")\n",
        "print(annualized_data[annualized_data['Volume'] == max(annualized_data['Volume'],key=abs)], \"\\n\")\n",
        "print(\"Min volume: \")\n",
        "print(annualized_data[annualized_data['Volume'] == min(annualized_data['Volume'],key=abs)], \"\\n\")\n",
        "\n",
        "print(\"Max HighLowDiff: \")\n",
        "print(annualized_data[annualized_data['HighLowDiff'] == max(annualized_data['HighLowDiff'],key=abs)], \"\\n\")\n",
        "print(\"Min HighLowDiff: \")\n",
        "print(annualized_data[annualized_data['HighLowDiff'] == min(annualized_data['HighLowDiff'],key=abs)], \"\\n\")\n",
        "\n",
        "print(\"Max OpenCloseDiff: \")\n",
        "print(annualized_data[annualized_data['OpenCloseDiff'] == max(annualized_data['OpenCloseDiff'],key=abs)], \"\\n\")\n",
        "print(\"Min OpenCloseDiff: \")\n",
        "print(annualized_data[annualized_data['OpenCloseDiff'] == min(annualized_data['OpenCloseDiff'],key=abs)], \"\\n\")\n",
        "\n",
        "#"
      ],
      "execution_count": 15,
      "outputs": [
        {
          "output_type": "stream",
          "text": [
            "Annualized data for each stock in S&P500 calculated form 2014 to 2015:\n",
            "        Returns Volatility       Volume HighLowDiff OpenCloseDiff\n",
            "MMM   -0.192913    2.39916  5.90628e+08   0.0120139   0.000711119\n",
            "ABT   -0.179184    2.56219  1.33327e+09   0.0146175   0.000502251\n",
            "ABBV -0.0819894    4.43024  2.60313e+09   0.0221427   0.000568866\n",
            "ABMD  -0.913676    6.76712  9.48344e+07   0.0307168    0.00185815\n",
            "ACN  -0.0988941    2.73051  6.90803e+08   0.0140433   0.000706258\n",
            "...         ...        ...          ...         ...           ...\n",
            "YUM  -0.0580078    3.26328  7.98818e+08   0.0157174   0.000238743\n",
            "ZBRA  -0.213887    4.39027  1.31668e+08   0.0230687    0.00090546\n",
            "ZBH   -0.195326    3.44852  3.14272e+08   0.0162313  -6.55949e-05\n",
            "ZION   0.143904    3.47235   6.4069e+08   0.0205199  -0.000154421\n",
            "ZTS   -0.439027    3.25018  9.31993e+08   0.0175066    0.00123164\n",
            "\n",
            "[503 rows x 5 columns]\n",
            "Min/Max statistics: \n",
            "\n",
            "Max returns: \n",
            "      Returns Volatility       Volume HighLowDiff OpenCloseDiff\n",
            "AAPL  5.50024     93.965  1.15028e+10   0.0177906   6.49616e-05 \n",
            "\n",
            "Min returns: \n",
            "       Returns Volatility       Volume HighLowDiff OpenCloseDiff\n",
            "ABMD -0.913676    6.76712  9.48344e+07   0.0307168    0.00185815 \n",
            "\n",
            "Max volatility: \n",
            "      Returns Volatility       Volume HighLowDiff OpenCloseDiff\n",
            "AAPL  5.50024     93.965  1.15028e+10   0.0177906   6.49616e-05 \n",
            "\n",
            "Min volatility: \n",
            "      Returns Volatility       Volume HighLowDiff OpenCloseDiff\n",
            "PG -0.0338715    1.98344  1.97089e+09   0.0106637   7.14144e-05 \n",
            "\n",
            "Max volume: \n",
            "      Returns Volatility       Volume HighLowDiff OpenCloseDiff\n",
            "BAC  0.126325    3.68857  2.06597e+10   0.0169461  -0.000786657 \n",
            "\n",
            "Min volume: \n",
            "      Returns Volatility       Volume HighLowDiff OpenCloseDiff\n",
            "NVR -0.133382    3.07622  8.49159e+06   0.0212697     0.0032179 \n",
            "\n",
            "Max HighLowDiff: \n",
            "       Returns Volatility       Volume HighLowDiff OpenCloseDiff\n",
            "PAYC -0.598257    8.01355  6.28357e+07   0.0510423   0.000921677 \n",
            "\n",
            "Min HighLowDiff: \n",
            "      Returns Volatility       Volume HighLowDiff OpenCloseDiff\n",
            "PG -0.0338715    1.98344  1.97089e+09   0.0106637   7.14144e-05 \n",
            "\n",
            "Max OpenCloseDiff: \n",
            "       Returns Volatility       Volume HighLowDiff OpenCloseDiff\n",
            "KEYS -0.627204    3.48225  4.15624e+08   0.0273033    0.00511414 \n",
            "\n",
            "Min OpenCloseDiff: \n",
            "       Returns Volatility      Volume HighLowDiff OpenCloseDiff\n",
            "APTV -0.145318    3.26342  4.9519e+08   0.0172946  -2.41075e-06 \n",
            "\n"
          ],
          "name": "stdout"
        }
      ]
    },
    {
      "cell_type": "markdown",
      "metadata": {
        "id": "4WFLPFEQjTkV",
        "colab_type": "text"
      },
      "source": [
        "###Plotting"
      ]
    },
    {
      "cell_type": "markdown",
      "metadata": {
        "id": "Lld4Bopxm_VC",
        "colab_type": "text"
      },
      "source": [
        "####4D Plot | Returns, Volatility, Volume, OpenCloseDiff"
      ]
    },
    {
      "cell_type": "markdown",
      "metadata": {
        "id": "ABzeQuE3nf8Q",
        "colab_type": "text"
      },
      "source": [
        "We will now attempt to plot the returns, volatility, volume and openclose diff attributes"
      ]
    },
    {
      "cell_type": "code",
      "metadata": {
        "id": "u5AR39jkoLnG",
        "colab_type": "code",
        "colab": {
          "base_uri": "https://localhost:8080/",
          "height": 255
        },
        "outputId": "1b2f0a73-e797-43d0-fac4-91522f6a45ac"
      },
      "source": [
        "#Concatenating the returns and variances and volume into a single data-frame\n",
        "ret_var_vol_ocDiff = annualized_data.drop(['HighLowDiff'], axis=1)\n",
        "print(ret_var_vol_ocDiff)"
      ],
      "execution_count": 16,
      "outputs": [
        {
          "output_type": "stream",
          "text": [
            "        Returns Volatility       Volume OpenCloseDiff\n",
            "MMM   -0.192913    2.39916  5.90628e+08   0.000711119\n",
            "ABT   -0.179184    2.56219  1.33327e+09   0.000502251\n",
            "ABBV -0.0819894    4.43024  2.60313e+09   0.000568866\n",
            "ABMD  -0.913676    6.76712  9.48344e+07    0.00185815\n",
            "ACN  -0.0988941    2.73051  6.90803e+08   0.000706258\n",
            "...         ...        ...          ...           ...\n",
            "YUM  -0.0580078    3.26328  7.98818e+08   0.000238743\n",
            "ZBRA  -0.213887    4.39027  1.31668e+08    0.00090546\n",
            "ZBH   -0.195326    3.44852  3.14272e+08  -6.55949e-05\n",
            "ZION   0.143904    3.47235   6.4069e+08  -0.000154421\n",
            "ZTS   -0.439027    3.25018  9.31993e+08    0.00123164\n",
            "\n",
            "[503 rows x 4 columns]\n"
          ],
          "name": "stdout"
        }
      ]
    },
    {
      "cell_type": "code",
      "metadata": {
        "id": "ZtMJkwo_nfN4",
        "colab_type": "code",
        "colab": {}
      },
      "source": [
        "from mpl_toolkits.mplot3d import Axes3D\n",
        "import matplotlib.pyplot as plt\n",
        "import numpy as np\n",
        "\n",
        "#the below graph plots returns, volatility and volume on the axes and uses a heat map to display OpenCloseDiff\n",
        "fig = plt.figure(figsize=(15,15))\n",
        "ax = fig.add_subplot(111, projection='3d')\n",
        "fig.suptitle('Annualized S&P 500 Data 2014-2015', fontsize=16)\n",
        "\n",
        "x = list(ret_var_vol_ocDiff['Returns'].dropna().values)\n",
        "y = list(ret_var_vol_ocDiff['Volatility'].dropna().values)\n",
        "z = list(ret_var_vol_ocDiff['Volume'].dropna().values)\n",
        "c = list(ret_var_vol_ocDiff['OpenCloseDiff'].dropna().values)\n",
        "\n",
        "img = ax.scatter(x, y, z, c=c, cmap=plt.hot())\n",
        "fig.colorbar(img)\n",
        "ax.set_xlabel('Returns')\n",
        "ax.set_ylabel('Volatility')\n",
        "ax.set_zlabel('Volume')\n",
        "ax.set_xlim(-1,1)\n",
        "ax.set_zlim(0,.5e10)\n",
        "ax.set_ylim(0,25)\n",
        "\n",
        "plt.show()"
      ],
      "execution_count": 0,
      "outputs": []
    },
    {
      "cell_type": "markdown",
      "metadata": {
        "id": "PZBG2S6RmLxd",
        "colab_type": "text"
      },
      "source": [
        "For now we will run the K means using only 3 attributes, the mean returns, variance, and volume"
      ]
    },
    {
      "cell_type": "code",
      "metadata": {
        "id": "ThH5919Tmcnv",
        "colab_type": "code",
        "outputId": "bf2a0d82-07ef-4251-b1b6-9e6118dcfd1d",
        "colab": {
          "base_uri": "https://localhost:8080/",
          "height": 255
        }
      },
      "source": [
        "#Concatenating the returns and variances and volume into a single data-frame\n",
        "ret_var_vol = annualized_data.drop(['HighLowDiff','OpenCloseDiff'], axis=1)\n",
        "print(ret_var_vol)"
      ],
      "execution_count": 18,
      "outputs": [
        {
          "output_type": "stream",
          "text": [
            "        Returns Volatility       Volume\n",
            "MMM   -0.192913    2.39916  5.90628e+08\n",
            "ABT   -0.179184    2.56219  1.33327e+09\n",
            "ABBV -0.0819894    4.43024  2.60313e+09\n",
            "ABMD  -0.913676    6.76712  9.48344e+07\n",
            "ACN  -0.0988941    2.73051  6.90803e+08\n",
            "...         ...        ...          ...\n",
            "YUM  -0.0580078    3.26328  7.98818e+08\n",
            "ZBRA  -0.213887    4.39027  1.31668e+08\n",
            "ZBH   -0.195326    3.44852  3.14272e+08\n",
            "ZION   0.143904    3.47235   6.4069e+08\n",
            "ZTS   -0.439027    3.25018  9.31993e+08\n",
            "\n",
            "[503 rows x 3 columns]\n"
          ],
          "name": "stdout"
        }
      ]
    },
    {
      "cell_type": "markdown",
      "metadata": {
        "id": "XL-_YSoQnIFX",
        "colab_type": "text"
      },
      "source": [
        "####3D Plot | Returns, Volatility, Volume"
      ]
    },
    {
      "cell_type": "code",
      "metadata": {
        "id": "tHzZEKwrtGdk",
        "colab_type": "code",
        "outputId": "3a549107-bca3-451e-ff6b-c5ea1b14f4de",
        "colab": {
          "base_uri": "https://localhost:8080/",
          "height": 248
        }
      },
      "source": [
        "%matplotlib inline\n",
        "#first plot data to spot outliers\n",
        "from mpl_toolkits.mplot3d import Axes3D\n",
        "import matplotlib.pyplot as plt\n",
        "\n",
        "fig = plt.figure()\n",
        "ax = fig.add_subplot(111, projection='3d')\n",
        "\n",
        "x = list(ret_var_vol['Returns'].dropna().values)\n",
        "y = list(ret_var_vol['Volatility'].dropna().values)\n",
        "z = list(ret_var_vol['Volume'].dropna().values)\n",
        "#print(x, \"\\n\", len(x))\n",
        "#print(y, \"\\n\", len(y))\n",
        "#print(z, \"\\n\", len(z))\n",
        "\n",
        "ax.scatter(x, y, z, c='r', marker='o')\n",
        "\n",
        "ax.set_xlabel('Returns')\n",
        "ax.set_ylabel('Volatility')\n",
        "ax.set_zlabel('Volume')\n",
        "\n",
        "plt.show()"
      ],
      "execution_count": 19,
      "outputs": [
        {
          "output_type": "display_data",
          "data": {
            "image/png": "[encoded data removed]",
            "text/plain": [
              "<Figure size 432x288 with 1 Axes>"
            ]
          },
          "metadata": {
            "tags": []
          }
        }
      ]
    },
    {
      "cell_type": "code",
      "metadata": {
        "id": "IOytvtclESwn",
        "colab_type": "code",
        "colab": {}
      },
      "source": [
        "#identify the volatility outlier, drop, then graph again\n",
        "#2014-2015 volatility outliers 'AAPL', 'V', 'HBI'\n",
        "#outlier = ret_var_vol['Volatility'] == max(ret_var_vol['Volatility'],key=abs)\n",
        "#outlierIndex = ret_var_vol[outlier].index\n",
        "#print(outlierIndex, \"\\n\")\n",
        "\n",
        "outlierIndex = ['AAPL','V','HBI']\n",
        "ret_var_vol.drop(outlierIndex, inplace =True)"
      ],
      "execution_count": 0,
      "outputs": []
    },
    {
      "cell_type": "code",
      "metadata": {
        "id": "HwrH6ZTjETSd",
        "colab_type": "code",
        "colab": {}
      },
      "source": [
        "#code to drop volume outliers\n",
        "#2014 to 2015 volume outlier 'BAC'\n",
        "#outlier = ret_var_vol['Volume'] == max(ret_var_vol['Volume'],key=abs)\n",
        "#outlierIndex = ret_var_vol[outlier].index\n",
        "#print(outlierIndex, \"\\n\")\n",
        "\n",
        "outlierIndex = 'BAC'\n",
        "ret_var_vol.drop(outlierIndex, inplace =True)"
      ],
      "execution_count": 0,
      "outputs": []
    },
    {
      "cell_type": "code",
      "metadata": {
        "id": "rC7LMOoRE3sD",
        "colab_type": "code",
        "colab": {}
      },
      "source": [
        ""
      ],
      "execution_count": 0,
      "outputs": []
    },
    {
      "cell_type": "code",
      "metadata": {
        "id": "i4787Eoc1hp7",
        "colab_type": "code",
        "outputId": "7204dfe0-bbcd-4a2c-d222-c37cb5817e89",
        "colab": {
          "base_uri": "https://localhost:8080/",
          "height": 954
        }
      },
      "source": [
        "#regraph after outliers are dropped\n",
        "\n",
        "fig = plt.figure(figsize=(15,15))\n",
        "ax = fig.add_subplot(111, projection='3d')\n",
        "fig.suptitle('Annualized S&P 500 Data 2014-2015', fontsize=16)\n",
        "\n",
        "x = list(ret_var_vol['Returns'].dropna().values)\n",
        "y = list(ret_var_vol['Volatility'].dropna().values)\n",
        "z = list(ret_var_vol['Volume'].dropna().values)\n",
        "#print(x, \"\\n\", len(x))\n",
        "#print(y, \"\\n\", len(y))\n",
        "#print(z, \"\\n\", len(z))\n",
        "\n",
        "ax.scatter(x, y, z, c='r', marker='o')\n",
        "#ax.title(\"Annualized S&P500 Data\")\n",
        "\n",
        "ax.set_xlabel('Returns')\n",
        "ax.set_ylabel('Volatility')\n",
        "ax.set_zlabel('Volume')\n",
        "\n",
        "plt.show()"
      ],
      "execution_count": 22,
      "outputs": [
        {
          "output_type": "display_data",
          "data": {
            "image/png": "[encoded data removed]",
            "text/plain": [
              "<Figure size 1080x1080 with 1 Axes>"
            ]
          },
          "metadata": {
            "tags": []
          }
        }
      ]
    },
    {
      "cell_type": "code",
      "metadata": {
        "id": "E_L_eRbKxERK",
        "colab_type": "code",
        "colab": {}
      },
      "source": [
        ""
      ],
      "execution_count": 0,
      "outputs": []
    },
    {
      "cell_type": "markdown",
      "metadata": {
        "id": "68uET-Srw9tD",
        "colab_type": "text"
      },
      "source": [
        "##Using PCA to Reduce Dimensionality"
      ]
    },
    {
      "cell_type": "markdown",
      "metadata": {
        "id": "CBnMs7q2xHDi",
        "colab_type": "text"
      },
      "source": [
        "The dimensionality of the data chosen for the analysis below is arbitrary. The most common measures of a stock's performance in portfolio optimization analysis are mean and variance. However, since the data obtained from the AlphaVantage API includes additional dimensionality, it is worth exploring if the additional dimensions would add richness to our analysis.\n",
        "\n",
        "Before we perform our clustering analysis, we can determine the most prominent features in the data using a Principal Component Analysis. This will be used to reduce the 5 dimensional data into a smaller amount of principal components. The clustering analysis can then be performed"
      ]
    },
    {
      "cell_type": "markdown",
      "metadata": {
        "id": "LB_v_miRB-nx",
        "colab_type": "text"
      },
      "source": [
        "First the data needs to be standardized as PCA is affected by scale. Normalizing will improve the maximization of the variance for each component that is needed in PCA."
      ]
    },
    {
      "cell_type": "code",
      "metadata": {
        "id": "SCB9481LCCuu",
        "colab_type": "code",
        "colab": {
          "base_uri": "https://localhost:8080/",
          "height": 374
        },
        "outputId": "35880f67-906d-4b8d-ad2f-5bfa0558a893"
      },
      "source": [
        "#https://towardsdatascience.com/pca-using-python-scikit-learn-e653f8989e60\n",
        "#https://towardsdatascience.com/an-approach-to-choosing-the-number-of-components-in-a-principal-component-analysis-pca-3b9f3d6e73fe\n",
        "import numpy as np\n",
        "from sklearn.decomposition import PCA\n",
        "from sklearn.preprocessing import StandardScaler\n",
        "from sklearn.impute import SimpleImputer\n",
        "\n",
        "#use imputer to remobe NaN values and replace with mean along each column\n",
        "imp = SimpleImputer(strategy=\"mean\")\n",
        "scale = StandardScaler()\n",
        "print(annualized_data)\n",
        "\n",
        "#use scaler to normalize data before clustering\n",
        "annualized_data_scaled = scale.fit_transform(imp.fit_transform(annualized_data.values))\n",
        "print(annualized_data_scaled)"
      ],
      "execution_count": 23,
      "outputs": [
        {
          "output_type": "stream",
          "text": [
            "        Returns Volatility       Volume HighLowDiff OpenCloseDiff\n",
            "MMM   -0.192913    2.39916  5.90628e+08   0.0120139   0.000711119\n",
            "ABT   -0.179184    2.56219  1.33327e+09   0.0146175   0.000502251\n",
            "ABBV -0.0819894    4.43024  2.60313e+09   0.0221427   0.000568866\n",
            "ABMD  -0.913676    6.76712  9.48344e+07   0.0307168    0.00185815\n",
            "ACN  -0.0988941    2.73051  6.90803e+08   0.0140433   0.000706258\n",
            "...         ...        ...          ...         ...           ...\n",
            "YUM  -0.0580078    3.26328  7.98818e+08   0.0157174   0.000238743\n",
            "ZBRA  -0.213887    4.39027  1.31668e+08   0.0230687    0.00090546\n",
            "ZBH   -0.195326    3.44852  3.14272e+08   0.0162313  -6.55949e-05\n",
            "ZION   0.143904    3.47235   6.4069e+08   0.0205199  -0.000154421\n",
            "ZTS   -0.439027    3.25018  9.31993e+08   0.0175066    0.00123164\n",
            "\n",
            "[503 rows x 5 columns]\n",
            "[[-0.33226365 -0.34665769 -0.23759646 -1.20708077  0.50430022]\n",
            " [-0.29683287 -0.31580302  0.22794259 -0.73824553  0.18733628]\n",
            " [-0.0459961   0.03773445  1.02397418  0.61683752  0.28842662]\n",
            " ...\n",
            " [-0.33849019 -0.14806209 -0.41083476 -0.44763598 -0.67438548]\n",
            " [ 0.53698048 -0.14355071 -0.20621447  0.32461359 -0.8091821 ]\n",
            " [-0.96742505 -0.18559718 -0.02360658 -0.21799025  1.29419941]]\n"
          ],
          "name": "stdout"
        }
      ]
    },
    {
      "cell_type": "markdown",
      "metadata": {
        "id": "crg-rPl5DMOm",
        "colab_type": "text"
      },
      "source": [
        "Now we can calculate the explained variance for each attribute"
      ]
    },
    {
      "cell_type": "code",
      "metadata": {
        "id": "9YoBFNI8DobB",
        "colab_type": "code",
        "colab": {
          "base_uri": "https://localhost:8080/",
          "height": 295
        },
        "outputId": "1cbae3c0-3e55-4f1c-eb22-6fe0b493f9d5"
      },
      "source": [
        "#Fitting the PCA algorithm with our Data\n",
        "pca = PCA().fit(annualized_data_scaled)\n",
        "\n",
        "#Plotting the Cumulative Summation of the Explained Variance\n",
        "plt.figure()\n",
        "plt.plot(np.cumsum(pca.explained_variance_ratio_))\n",
        "plt.xlabel('Number of Components')\n",
        "plt.ylabel('Variance (%)') #for each component\n",
        "plt.title('Stock Dataset Explained Variance')\n",
        "plt.show()"
      ],
      "execution_count": 24,
      "outputs": [
        {
          "output_type": "display_data",
          "data": {
            "image/png": "[encoded data removed]",
            "text/plain": [
              "<Figure size 432x288 with 1 Axes>"
            ]
          },
          "metadata": {
            "tags": []
          }
        }
      ]
    },
    {
      "cell_type": "markdown",
      "metadata": {
        "id": "XJZA0wghEYK-",
        "colab_type": "text"
      },
      "source": [
        "This indicates that there are only 3 components the indicate almost 100% of the variance in the model, therefore implying that there are only 3 principal components that need to be calculated. We can now proceed to perform the PCA analysis."
      ]
    },
    {
      "cell_type": "code",
      "metadata": {
        "id": "xEBUmDvqFF-t",
        "colab_type": "code",
        "colab": {
          "base_uri": "https://localhost:8080/",
          "height": 255
        },
        "outputId": "168f9407-6772-461c-fd17-e0b66b4f6460"
      },
      "source": [
        "from sklearn.decomposition import PCA\n",
        "pca = PCA(n_components=3)\n",
        "principalComponents = pca.fit_transform(annualized_data_scaled)\n",
        "principalDf = pd.DataFrame(data = principalComponents\n",
        "             , columns = ['principal component 1', 'principal component 2', 'principal component 3'])\n",
        "print(principalDf)"
      ],
      "execution_count": 25,
      "outputs": [
        {
          "output_type": "stream",
          "text": [
            "     principal component 1  principal component 2  principal component 3\n",
            "0                -0.827167              -0.499758               0.955868\n",
            "1                -0.469223              -0.518351               0.321205\n",
            "2                 0.335422               0.308064              -0.765054\n",
            "3                -1.661106               3.161993              -0.901419\n",
            "4                -0.557123              -0.270784               0.753985\n",
            "..                     ...                    ...                    ...\n",
            "498              -0.150608              -0.512884               0.296578\n",
            "499              -0.529764               1.172392              -0.120763\n",
            "500              -0.307203              -0.642535               0.093202\n",
            "501               0.479123              -0.303339              -0.346215\n",
            "502              -1.160760               0.641737               0.338544\n",
            "\n",
            "[503 rows x 3 columns]\n"
          ],
          "name": "stdout"
        }
      ]
    },
    {
      "cell_type": "markdown",
      "metadata": {
        "id": "9AIxuBLvNSuJ",
        "colab_type": "text"
      },
      "source": [
        "Now we can concatenate the tickers onto the principal components dataframe"
      ]
    },
    {
      "cell_type": "code",
      "metadata": {
        "id": "U_3LSSy4Nole",
        "colab_type": "code",
        "colab": {
          "base_uri": "https://localhost:8080/",
          "height": 255
        },
        "outputId": "0af17f29-72c4-40f1-f635-75f178cfd290"
      },
      "source": [
        "tickers = pd.DataFrame(annualized_data.index, columns=['Tickers'])\n",
        "labeled_pca_df = pd.concat([tickers, principalDf],axis = 1).dropna()\n",
        "print(labeled_pca_df)"
      ],
      "execution_count": 26,
      "outputs": [
        {
          "output_type": "stream",
          "text": [
            "    Tickers  ...  principal component 3\n",
            "0       MMM  ...               0.955868\n",
            "1       ABT  ...               0.321205\n",
            "2      ABBV  ...              -0.765054\n",
            "3      ABMD  ...              -0.901419\n",
            "4       ACN  ...               0.753985\n",
            "..      ...  ...                    ...\n",
            "498     YUM  ...               0.296578\n",
            "499    ZBRA  ...              -0.120763\n",
            "500     ZBH  ...               0.093202\n",
            "501    ZION  ...              -0.346215\n",
            "502     ZTS  ...               0.338544\n",
            "\n",
            "[503 rows x 4 columns]\n"
          ],
          "name": "stdout"
        }
      ]
    },
    {
      "cell_type": "code",
      "metadata": {
        "id": "ph7F_FSJOjWr",
        "colab_type": "code",
        "colab": {
          "base_uri": "https://localhost:8080/",
          "height": 340
        },
        "outputId": "7d5ef732-12e8-4617-eaf0-a10906290c9d"
      },
      "source": [
        "#drop outliers\n",
        "#outliers seem to have high principal component 3 value\n",
        "#outlier = labeled_PCA_df['principal component 3'] == max(labeled_PCA_df['principal component 3'],key=abs)\n",
        "#outlierTicker = labeled_PCA_df[outlier]['Tickers']\n",
        "#outlierIndex = labeled_PCA_df[outlier].index\n",
        "#print(outlierTicker)\n",
        "#print(outlierIndex, \"\\n\")\n",
        "\n",
        "outlierIndex = ['AAPL', 'BAC', 'HBI', 'V']\n",
        "labeled_pca_df.drop(outlierIndex, inplace =True)"
      ],
      "execution_count": 27,
      "outputs": [
        {
          "output_type": "error",
          "ename": "KeyError",
          "evalue": "ignored",
          "traceback": [
            "\u001b[0;31m---------------------------------------------------------------------------\u001b[0m",
            "\u001b[0;31mKeyError\u001b[0m                                  Traceback (most recent call last)",
            "\u001b[0;32m<ipython-input-27-6550c2047b8f>\u001b[0m in \u001b[0;36m<module>\u001b[0;34m()\u001b[0m\n\u001b[1;32m      1\u001b[0m \u001b[0;34m\u001b[0m\u001b[0m\n\u001b[1;32m      2\u001b[0m \u001b[0moutlierIndex\u001b[0m \u001b[0;34m=\u001b[0m \u001b[0;34m[\u001b[0m\u001b[0;34m'AAPL'\u001b[0m\u001b[0;34m,\u001b[0m \u001b[0;34m'BAC'\u001b[0m\u001b[0;34m,\u001b[0m \u001b[0;34m'HBI'\u001b[0m\u001b[0;34m,\u001b[0m \u001b[0;34m'V'\u001b[0m\u001b[0;34m]\u001b[0m\u001b[0;34m\u001b[0m\u001b[0;34m\u001b[0m\u001b[0m\n\u001b[0;32m----> 3\u001b[0;31m \u001b[0mlabeled_pca_df\u001b[0m\u001b[0;34m.\u001b[0m\u001b[0mdrop\u001b[0m\u001b[0;34m(\u001b[0m\u001b[0moutlierIndex\u001b[0m\u001b[0;34m,\u001b[0m \u001b[0minplace\u001b[0m \u001b[0;34m=\u001b[0m\u001b[0;32mTrue\u001b[0m\u001b[0;34m)\u001b[0m\u001b[0;34m\u001b[0m\u001b[0;34m\u001b[0m\u001b[0m\n\u001b[0m",
            "\u001b[0;32m/usr/local/lib/python3.6/dist-packages/pandas/core/frame.py\u001b[0m in \u001b[0;36mdrop\u001b[0;34m(self, labels, axis, index, columns, level, inplace, errors)\u001b[0m\n\u001b[1;32m   3995\u001b[0m             \u001b[0mlevel\u001b[0m\u001b[0;34m=\u001b[0m\u001b[0mlevel\u001b[0m\u001b[0;34m,\u001b[0m\u001b[0;34m\u001b[0m\u001b[0;34m\u001b[0m\u001b[0m\n\u001b[1;32m   3996\u001b[0m             \u001b[0minplace\u001b[0m\u001b[0;34m=\u001b[0m\u001b[0minplace\u001b[0m\u001b[0;34m,\u001b[0m\u001b[0;34m\u001b[0m\u001b[0;34m\u001b[0m\u001b[0m\n\u001b[0;32m-> 3997\u001b[0;31m             \u001b[0merrors\u001b[0m\u001b[0;34m=\u001b[0m\u001b[0merrors\u001b[0m\u001b[0;34m,\u001b[0m\u001b[0;34m\u001b[0m\u001b[0;34m\u001b[0m\u001b[0m\n\u001b[0m\u001b[1;32m   3998\u001b[0m         )\n\u001b[1;32m   3999\u001b[0m \u001b[0;34m\u001b[0m\u001b[0m\n",
            "\u001b[0;32m/usr/local/lib/python3.6/dist-packages/pandas/core/generic.py\u001b[0m in \u001b[0;36mdrop\u001b[0;34m(self, labels, axis, index, columns, level, inplace, errors)\u001b[0m\n\u001b[1;32m   3934\u001b[0m         \u001b[0;32mfor\u001b[0m \u001b[0maxis\u001b[0m\u001b[0;34m,\u001b[0m \u001b[0mlabels\u001b[0m \u001b[0;32min\u001b[0m \u001b[0maxes\u001b[0m\u001b[0;34m.\u001b[0m\u001b[0mitems\u001b[0m\u001b[0;34m(\u001b[0m\u001b[0;34m)\u001b[0m\u001b[0;34m:\u001b[0m\u001b[0;34m\u001b[0m\u001b[0;34m\u001b[0m\u001b[0m\n\u001b[1;32m   3935\u001b[0m             \u001b[0;32mif\u001b[0m \u001b[0mlabels\u001b[0m \u001b[0;32mis\u001b[0m \u001b[0;32mnot\u001b[0m \u001b[0;32mNone\u001b[0m\u001b[0;34m:\u001b[0m\u001b[0;34m\u001b[0m\u001b[0;34m\u001b[0m\u001b[0m\n\u001b[0;32m-> 3936\u001b[0;31m                 \u001b[0mobj\u001b[0m \u001b[0;34m=\u001b[0m \u001b[0mobj\u001b[0m\u001b[0;34m.\u001b[0m\u001b[0m_drop_axis\u001b[0m\u001b[0;34m(\u001b[0m\u001b[0mlabels\u001b[0m\u001b[0;34m,\u001b[0m \u001b[0maxis\u001b[0m\u001b[0;34m,\u001b[0m \u001b[0mlevel\u001b[0m\u001b[0;34m=\u001b[0m\u001b[0mlevel\u001b[0m\u001b[0;34m,\u001b[0m \u001b[0merrors\u001b[0m\u001b[0;34m=\u001b[0m\u001b[0merrors\u001b[0m\u001b[0;34m)\u001b[0m\u001b[0;34m\u001b[0m\u001b[0;34m\u001b[0m\u001b[0m\n\u001b[0m\u001b[1;32m   3937\u001b[0m \u001b[0;34m\u001b[0m\u001b[0m\n\u001b[1;32m   3938\u001b[0m         \u001b[0;32mif\u001b[0m \u001b[0minplace\u001b[0m\u001b[0;34m:\u001b[0m\u001b[0;34m\u001b[0m\u001b[0;34m\u001b[0m\u001b[0m\n",
            "\u001b[0;32m/usr/local/lib/python3.6/dist-packages/pandas/core/generic.py\u001b[0m in \u001b[0;36m_drop_axis\u001b[0;34m(self, labels, axis, level, errors)\u001b[0m\n\u001b[1;32m   3968\u001b[0m                 \u001b[0mnew_axis\u001b[0m \u001b[0;34m=\u001b[0m \u001b[0maxis\u001b[0m\u001b[0;34m.\u001b[0m\u001b[0mdrop\u001b[0m\u001b[0;34m(\u001b[0m\u001b[0mlabels\u001b[0m\u001b[0;34m,\u001b[0m \u001b[0mlevel\u001b[0m\u001b[0;34m=\u001b[0m\u001b[0mlevel\u001b[0m\u001b[0;34m,\u001b[0m \u001b[0merrors\u001b[0m\u001b[0;34m=\u001b[0m\u001b[0merrors\u001b[0m\u001b[0;34m)\u001b[0m\u001b[0;34m\u001b[0m\u001b[0;34m\u001b[0m\u001b[0m\n\u001b[1;32m   3969\u001b[0m             \u001b[0;32melse\u001b[0m\u001b[0;34m:\u001b[0m\u001b[0;34m\u001b[0m\u001b[0;34m\u001b[0m\u001b[0m\n\u001b[0;32m-> 3970\u001b[0;31m                 \u001b[0mnew_axis\u001b[0m \u001b[0;34m=\u001b[0m \u001b[0maxis\u001b[0m\u001b[0;34m.\u001b[0m\u001b[0mdrop\u001b[0m\u001b[0;34m(\u001b[0m\u001b[0mlabels\u001b[0m\u001b[0;34m,\u001b[0m \u001b[0merrors\u001b[0m\u001b[0;34m=\u001b[0m\u001b[0merrors\u001b[0m\u001b[0;34m)\u001b[0m\u001b[0;34m\u001b[0m\u001b[0;34m\u001b[0m\u001b[0m\n\u001b[0m\u001b[1;32m   3971\u001b[0m             \u001b[0mresult\u001b[0m \u001b[0;34m=\u001b[0m \u001b[0mself\u001b[0m\u001b[0;34m.\u001b[0m\u001b[0mreindex\u001b[0m\u001b[0;34m(\u001b[0m\u001b[0;34m**\u001b[0m\u001b[0;34m{\u001b[0m\u001b[0maxis_name\u001b[0m\u001b[0;34m:\u001b[0m \u001b[0mnew_axis\u001b[0m\u001b[0;34m}\u001b[0m\u001b[0;34m)\u001b[0m\u001b[0;34m\u001b[0m\u001b[0;34m\u001b[0m\u001b[0m\n\u001b[1;32m   3972\u001b[0m \u001b[0;34m\u001b[0m\u001b[0m\n",
            "\u001b[0;32m/usr/local/lib/python3.6/dist-packages/pandas/core/indexes/base.py\u001b[0m in \u001b[0;36mdrop\u001b[0;34m(self, labels, errors)\u001b[0m\n\u001b[1;32m   5015\u001b[0m         \u001b[0;32mif\u001b[0m \u001b[0mmask\u001b[0m\u001b[0;34m.\u001b[0m\u001b[0many\u001b[0m\u001b[0;34m(\u001b[0m\u001b[0;34m)\u001b[0m\u001b[0;34m:\u001b[0m\u001b[0;34m\u001b[0m\u001b[0;34m\u001b[0m\u001b[0m\n\u001b[1;32m   5016\u001b[0m             \u001b[0;32mif\u001b[0m \u001b[0merrors\u001b[0m \u001b[0;34m!=\u001b[0m \u001b[0;34m\"ignore\"\u001b[0m\u001b[0;34m:\u001b[0m\u001b[0;34m\u001b[0m\u001b[0;34m\u001b[0m\u001b[0m\n\u001b[0;32m-> 5017\u001b[0;31m                 \u001b[0;32mraise\u001b[0m \u001b[0mKeyError\u001b[0m\u001b[0;34m(\u001b[0m\u001b[0;34mf\"{labels[mask]} not found in axis\"\u001b[0m\u001b[0;34m)\u001b[0m\u001b[0;34m\u001b[0m\u001b[0;34m\u001b[0m\u001b[0m\n\u001b[0m\u001b[1;32m   5018\u001b[0m             \u001b[0mindexer\u001b[0m \u001b[0;34m=\u001b[0m \u001b[0mindexer\u001b[0m\u001b[0;34m[\u001b[0m\u001b[0;34m~\u001b[0m\u001b[0mmask\u001b[0m\u001b[0;34m]\u001b[0m\u001b[0;34m\u001b[0m\u001b[0;34m\u001b[0m\u001b[0m\n\u001b[1;32m   5019\u001b[0m         \u001b[0;32mreturn\u001b[0m \u001b[0mself\u001b[0m\u001b[0;34m.\u001b[0m\u001b[0mdelete\u001b[0m\u001b[0;34m(\u001b[0m\u001b[0mindexer\u001b[0m\u001b[0;34m)\u001b[0m\u001b[0;34m\u001b[0m\u001b[0;34m\u001b[0m\u001b[0m\n",
            "\u001b[0;31mKeyError\u001b[0m: \"['AAPL' 'BAC' 'HBI' 'V'] not found in axis\""
          ]
        }
      ]
    },
    {
      "cell_type": "markdown",
      "metadata": {
        "id": "1BlNnHCrLimy",
        "colab_type": "text"
      },
      "source": [
        "Now we can plot the principal components in principal component space"
      ]
    },
    {
      "cell_type": "code",
      "metadata": {
        "id": "35b97A4OLp7b",
        "colab_type": "code",
        "colab": {}
      },
      "source": [
        "fig = plt.figure(figsize = (15,15))\n",
        "ax = fig.add_subplot(111, projection='3d')\n",
        "ax.set_xlabel('Principal Component 3', fontsize = 15)\n",
        "ax.set_ylabel('Principal Component 1', fontsize = 15)\n",
        "ax.set_zlabel('Principal Component 2', fontsize = 15)\n",
        "ax.set_title('3 component PCA', fontsize = 20)\n",
        "\n",
        "x = list(labeled_pca_df['principal component 3'].dropna().values)\n",
        "y = list(labeled_pca_df['principal component 1'].dropna().values)\n",
        "z = list(labeled_pca_df['principal component 2'].dropna().values)\n",
        "\n",
        "ax.scatter(x, y, z, c='r', marker='o')\n",
        "\n",
        "\n",
        "plt.show()"
      ],
      "execution_count": 0,
      "outputs": []
    },
    {
      "cell_type": "markdown",
      "metadata": {
        "id": "eEd1MceYN_v3",
        "colab_type": "text"
      },
      "source": [
        "## Clustering Analysis | PCA Data"
      ]
    },
    {
      "cell_type": "markdown",
      "metadata": {
        "id": "HD3Zt6WUOQGn",
        "colab_type": "text"
      },
      "source": [
        "Now that the data has been converted from a 5d to a 3d space, we can perform the clustering analysis"
      ]
    },
    {
      "cell_type": "code",
      "metadata": {
        "id": "B2izO0KTaO_6",
        "colab_type": "code",
        "colab": {}
      },
      "source": [
        "from pylab import plot,show\n",
        "from numpy import vstack,array\n",
        "from numpy.random import rand\n",
        "import numpy as np\n",
        "from scipy.cluster.vq import kmeans,vq\n",
        "import pandas as pd\n",
        "import pandas_datareader as dr\n",
        "from math import sqrt\n",
        "from sklearn.cluster import KMeans\n",
        "from matplotlib import pyplot as plt"
      ],
      "execution_count": 0,
      "outputs": []
    },
    {
      "cell_type": "code",
      "metadata": {
        "id": "nYD__stTfqo9",
        "colab_type": "code",
        "colab": {}
      },
      "source": [
        "X = principalComponents"
      ],
      "execution_count": 0,
      "outputs": []
    },
    {
      "cell_type": "code",
      "metadata": {
        "id": "djXjupSeaQ3p",
        "colab_type": "code",
        "colab": {}
      },
      "source": [
        "#generate elbow curve\n",
        "distorsions = []\n",
        "for k in range(2, 20):\n",
        "    k_means = KMeans(n_clusters=k)\n",
        "    k_means.fit(X)\n",
        "    distorsions.append(k_means.inertia_)\n",
        "\n",
        "fig = plt.figure(figsize=(15, 5))\n",
        "plt.plot(range(2, 20), distorsions)\n",
        "plt.grid(True)\n",
        "plt.title('Elbow curve')"
      ],
      "execution_count": 0,
      "outputs": []
    },
    {
      "cell_type": "code",
      "metadata": {
        "id": "O5_3xoprafcp",
        "colab_type": "code",
        "colab": {}
      },
      "source": [
        "import  pylab as pl\n",
        "\n",
        "#compute K means with n = 8 and get centroids\n",
        "kmeans = KMeans(n_clusters = 8)\n",
        "kmeans.fit(X)\n",
        "centroids = kmeans.cluster_centers_\n",
        "#print(centroids)\n",
        "#print(kmeans.labels_)\n",
        "fig = plt.figure(figsize = (15,15))\n",
        "ax = fig.add_subplot(111, projection='3d')\n",
        "ax.set_xlabel('Principal Component 3', fontsize = 15)\n",
        "ax.set_ylabel('Principal Component 1', fontsize = 15)\n",
        "ax.set_zlabel('Principal Component 2', fontsize = 15)\n",
        "ax.set_title('K means clustering (n=8) on 3 component PCA Stock Data', fontsize = 20)\n",
        "\n",
        "x = list(labeled_pca_df['principal component 3'].dropna().values)\n",
        "y = list(labeled_pca_df['principal component 1'].dropna().values)\n",
        "z = list(labeled_pca_df['principal component 2'].dropna().values)\n",
        "\n",
        "\n",
        "ax.scatter(x, y, z, c=k_means.labels_, marker='o')\n",
        "plot(centroids[:,0],centroids[:,1],centroids[:,2],'sr',markersize=8)\n",
        "ax.legend(['Centroids'])\n",
        "ax.set_xlabel('Principal Component 3')\n",
        "ax.set_ylabel('Principal Component 1')\n",
        "ax.set_zlabel('Principal Component 2')\n",
        "\n",
        "plt.show()"
      ],
      "execution_count": 0,
      "outputs": []
    },
    {
      "cell_type": "code",
      "metadata": {
        "id": "w7M3mWt7eYBp",
        "colab_type": "code",
        "colab": {}
      },
      "source": [
        "fig = plt.figure(figsize=(15,15))\n",
        "fig.suptitle('K-Means(n=8) Clustered PCA, 3 vs. 1', fontsize=16)\n",
        "ax = fig.add_subplot(2, 1, 1)\n",
        "ax.scatter(x, y, c=k_means.labels_, marker='o')\n",
        "plot(centroids[:,0],centroids[:,1], 'sb',markersize=8)\n",
        "ax.legend(['Centroids'])\n",
        "ax.set_xlabel('PCA 3')\n",
        "ax.set_ylabel('PCA 1')\n",
        "ax.set_xlim(-6,7)\n",
        "plt.show()"
      ],
      "execution_count": 0,
      "outputs": []
    },
    {
      "cell_type": "code",
      "metadata": {
        "id": "h1-dSSeEgPrM",
        "colab_type": "code",
        "colab": {}
      },
      "source": [
        "fig = plt.figure(figsize=(15,15))\n",
        "fig.suptitle('K-Means(n=8) Clustered PCA, 3 vs. 2', fontsize=16)\n",
        "ax = fig.add_subplot(2, 1, 1)\n",
        "ax.scatter(z, x, c=k_means.labels_, marker='o')\n",
        "plot(centroids[:,0],centroids[:,1], 'sb',markersize=8)\n",
        "ax.legend(['Centroids'])\n",
        "ax.set_xlabel('PCA 2')\n",
        "ax.set_ylabel('PCA 3')\n",
        "ax.set_xlim(-6,6)\n",
        "\n",
        "plt.show()"
      ],
      "execution_count": 0,
      "outputs": []
    },
    {
      "cell_type": "code",
      "metadata": {
        "id": "qyyploHxhlwM",
        "colab_type": "code",
        "colab": {}
      },
      "source": [
        "fig = plt.figure(figsize=(15,15))\n",
        "fig.suptitle('K-Means(n=8) Clustered PCA, 2 vs. 1', fontsize=16)\n",
        "ax = fig.add_subplot(2, 1, 1)\n",
        "ax.scatter(y, z, c=k_means.labels_, marker='o')\n",
        "plot(centroids[:,0],centroids[:,1], 'sb',markersize=8)\n",
        "ax.legend(['Centroids'])\n",
        "ax.set_xlabel('PCA 1')\n",
        "ax.set_ylabel('PCA 2')\n",
        "ax.set_xlim(-2,12)\n",
        "\n",
        "plt.show()"
      ],
      "execution_count": 0,
      "outputs": []
    },
    {
      "cell_type": "markdown",
      "metadata": {
        "id": "Gji4JT_9Ly-D",
        "colab_type": "text"
      },
      "source": [
        "##Clustering Analysis | Returns, Volume, Volatility"
      ]
    },
    {
      "cell_type": "code",
      "metadata": {
        "id": "HKbL1AP9Lua7",
        "colab_type": "code",
        "colab": {}
      },
      "source": [
        "#taken from: https://towardsdatascience.com/machine-learning-for-stock-clustering-using-k-means-algorithm-126bc1ace4e1\n",
        "#https://www.pythonforfinance.net/2018/02/08/stock-clusters-using-k-means-algorithm-in-python/\n",
        "\n",
        "from pylab import plot,show\n",
        "from numpy import vstack,array\n",
        "from numpy.random import rand\n",
        "import numpy as np\n",
        "from scipy.cluster.vq import kmeans,vq\n",
        "import pandas as pd\n",
        "import pandas_datareader as dr\n",
        "from math import sqrt\n",
        "from sklearn.cluster import KMeans\n",
        "from matplotlib import pyplot as plt\n",
        "\n"
      ],
      "execution_count": 0,
      "outputs": []
    },
    {
      "cell_type": "markdown",
      "metadata": {
        "id": "KrHavKVoZap0",
        "colab_type": "text"
      },
      "source": [
        "In order to ensure accurate clustering results, we can now scale the variance and volume data"
      ]
    },
    {
      "cell_type": "code",
      "metadata": {
        "id": "0F0y2eQGZZzq",
        "colab_type": "code",
        "colab": {}
      },
      "source": [
        "from sklearn.preprocessing import StandardScaler\n",
        "from sklearn.impute import SimpleImputer\n",
        "\n",
        "#use imputer to remobe NaN values and replace with mean along each column\n",
        "imp = SimpleImputer(strategy=\"mean\")\n",
        "scale = StandardScaler()\n",
        "print(ret_var_vol)\n",
        "unscaled_ret_vol_var = ret_var_vol\n",
        "#use scaler to normalize data before clustering\n",
        "X = scale.fit_transform(imp.fit_transform(ret_var_vol.values))\n",
        "print(X)"
      ],
      "execution_count": 0,
      "outputs": []
    },
    {
      "cell_type": "code",
      "metadata": {
        "id": "seoMoo1QbWSY",
        "colab_type": "code",
        "colab": {}
      },
      "source": [
        "ret_vol_var = pd.DataFrame(data = X\n",
        "             , columns = ['Returns', 'Volatility', 'Volume'])\n",
        "print(ret_vol_var)"
      ],
      "execution_count": 0,
      "outputs": []
    },
    {
      "cell_type": "code",
      "metadata": {
        "id": "r1kHRVMQBROH",
        "colab_type": "code",
        "colab": {}
      },
      "source": [
        "#generate elbow curve\n",
        "distorsions = []\n",
        "for k in range(2, 20):\n",
        "    k_means = KMeans(n_clusters=k)\n",
        "    k_means.fit(X)\n",
        "    distorsions.append(k_means.inertia_)\n",
        "\n",
        "fig = plt.figure(figsize=(15, 5))\n",
        "plt.plot(range(2, 20), distorsions)\n",
        "plt.grid(True)\n",
        "plt.title('Elbow curve')"
      ],
      "execution_count": 0,
      "outputs": []
    },
    {
      "cell_type": "markdown",
      "metadata": {
        "id": "L7YRWeze8SFo",
        "colab_type": "text"
      },
      "source": [
        "Now we can undertake in the K-means clustering and plot the results"
      ]
    },
    {
      "cell_type": "code",
      "metadata": {
        "id": "-Ujfng646psM",
        "colab_type": "code",
        "colab": {}
      },
      "source": [
        "import  pylab as pl\n",
        "\n",
        "#compute K means with n = 8 and get centroids\n",
        "kmeans = KMeans(n_clusters = 8)\n",
        "kmeans.fit(X)\n",
        "centroids = kmeans.cluster_centers_\n",
        "#print(centroids)\n",
        "#print(kmeans.labels_)\n",
        "\n",
        "fig = plt.figure(figsize=(15,15))\n",
        "ax = fig.add_subplot(111, projection='3d')\n",
        "fig.suptitle('K-Means(n=5) Clustered S&P 500 Data 2014-2015', fontsize=16)\n",
        "\n",
        "\"\"\"\n",
        "Need to replace below data with scaled data\n",
        "\n",
        "\"\"\"\n",
        "x = list(ret_var_vol['Returns'].values)\n",
        "y = list(ret_var_vol['Volatility'].values)\n",
        "z = list(ret_var_vol['Volume'].values)\n",
        "\n",
        "ax.scatter(x, y, z, c=k_means.labels_, marker='o')\n",
        "plot(centroids[:,0],centroids[:,1],centroids[:,2],'sr',markersize=8)\n",
        "ax.legend(['Centroids'])\n",
        "ax.set_xlabel('Returns')\n",
        "ax.set_ylabel('Volatility')\n",
        "ax.set_zlabel('Volume')\n",
        "\n",
        "plt.show()\n",
        "\n"
      ],
      "execution_count": 0,
      "outputs": []
    },
    {
      "cell_type": "code",
      "metadata": {
        "id": "SdaI63NS8bxz",
        "colab_type": "code",
        "colab": {}
      },
      "source": [
        "fig = plt.figure(figsize=(15,15))\n",
        "fig.suptitle('K-Means(n=5) Clustered S&P 500 Data 2014-2015, Volatility vs. Returns', fontsize=16)\n",
        "ax = fig.add_subplot(2, 1, 1)\n",
        "ax.scatter(x, y, c=k_means.labels_, marker='o')\n",
        "plot(centroids[:,0],centroids[:,1], 'sr',markersize=8)\n",
        "ax.legend(['Centroids'])\n",
        "ax.set_xlabel('Returns')\n",
        "ax.set_ylabel('Volatility')\n",
        "ax.set_xlim(-1,1.5)\n",
        "\n",
        "plt.show()"
      ],
      "execution_count": 0,
      "outputs": []
    },
    {
      "cell_type": "code",
      "metadata": {
        "id": "A0oRNqI59YDK",
        "colab_type": "code",
        "colab": {}
      },
      "source": [
        "fig = plt.figure(figsize=(15,15))\n",
        "fig.suptitle('K-Means(n=5) Clustered S&P 500 Data 2014-2015, Volatility vs. Volume', fontsize=16)\n",
        "ax = fig.add_subplot(2, 1, 1)\n",
        "ax.scatter(y, z, c=k_means.labels_, marker='o')\n",
        "plot(centroids[:,1],centroids[:,2], 'sr',markersize=8)\n",
        "ax.legend(['Centroids'])\n",
        "ax.set_xlabel('Volatility')\n",
        "ax.set_ylabel('Volume')\n",
        "ax.set_xlim(0,17.5)\n",
        "\n",
        "plt.show()"
      ],
      "execution_count": 0,
      "outputs": []
    },
    {
      "cell_type": "code",
      "metadata": {
        "id": "OZJhNb_n9r5e",
        "colab_type": "code",
        "colab": {}
      },
      "source": [
        "fig = plt.figure(figsize=(15,15))\n",
        "fig.suptitle('K-Means(n=5) Clustered S&P 500 Data 2014-2015, Returns vs. Volume', fontsize=16)\n",
        "ax = fig.add_subplot(2, 1, 1)\n",
        "ax.scatter(x, z, c=k_means.labels_, marker='o')\n",
        "plot(centroids[:,0],centroids[:,2], 'sr',markersize=8)\n",
        "ax.legend(['Centroids'])\n",
        "ax.set_xlabel('Returns')\n",
        "ax.set_ylabel('Volume')\n",
        "\n",
        "plt.show()"
      ],
      "execution_count": 0,
      "outputs": []
    },
    {
      "cell_type": "markdown",
      "metadata": {
        "id": "QjhIq9EyiEWz",
        "colab_type": "text"
      },
      "source": [
        "We try diffrent axes configurations to get additional perspectives of the data"
      ]
    },
    {
      "cell_type": "code",
      "metadata": {
        "id": "6iE3K41JiBIn",
        "colab_type": "code",
        "colab": {}
      },
      "source": [
        "fig = plt.figure(figsize=(15,15))\n",
        "ax = fig.add_subplot(111, projection='3d')\n",
        "fig.suptitle('K-Means(n=5) Clustered S&P 500 Data 2014-2015', fontsize=16)\n",
        "\n",
        "ax.scatter(z, y, x, c=k_means.labels_, marker='o')\n",
        "plot(centroids[:,0],centroids[:,1],centroids[:,2],'sr',markersize=8)\n",
        "ax.legend(['Centroids'])\n",
        "ax.set_xlabel('Volume')\n",
        "ax.set_ylabel('Volatility')\n",
        "ax.set_zlabel('Returns')\n",
        "\n",
        "plt.show()"
      ],
      "execution_count": 0,
      "outputs": []
    },
    {
      "cell_type": "code",
      "metadata": {
        "id": "SoFOSd0-ikzs",
        "colab_type": "code",
        "colab": {}
      },
      "source": [
        "fig = plt.figure(figsize=(15,15))\n",
        "ax = fig.add_subplot(111, projection='3d')\n",
        "fig.suptitle('K-Means(n=5) Clustered S&P 500 Data 2014-2015', fontsize=16)\n",
        "\n",
        "\n",
        "ax.scatter(z, x, y, c=k_means.labels_, marker='o')\n",
        "plot(centroids[:,0],centroids[:,1],centroids[:,2],'sr',markersize=8)\n",
        "ax.legend(['Centroids'])\n",
        "ax.set_xlabel('Volume')\n",
        "ax.set_ylabel('Returns')\n",
        "ax.set_zlabel('Volatility')\n",
        "\n",
        "plt.show()"
      ],
      "execution_count": 0,
      "outputs": []
    },
    {
      "cell_type": "markdown",
      "metadata": {
        "id": "QuaQ7B0UN0Cc",
        "colab_type": "text"
      },
      "source": [
        "Now that the clustering has been completed, we can create a new dataframe composed on the ticker names and their cluster labels."
      ]
    },
    {
      "cell_type": "code",
      "metadata": {
        "id": "E5FyTkvoOEcH",
        "colab_type": "code",
        "colab": {}
      },
      "source": [
        "tickers = pd.DataFrame(ret_var_vol.index, columns=['Tickers'])\n",
        "cluster_labels = pd.DataFrame(kmeans.labels_,columns=['Cluster'])\n",
        "labeled_stocks_3d = pd.concat([tickers, cluster_labels],axis = 1).dropna()\n",
        "print(labeled_stocks_3d)"
      ],
      "execution_count": 0,
      "outputs": []
    },
    {
      "cell_type": "markdown",
      "metadata": {
        "id": "f7yEK6azEDIa",
        "colab_type": "text"
      },
      "source": [
        "## Clustering Analysis | Returns, Volatility\n",
        "\n",
        "A second clustering analysis can be done with just the returns and volatility parameters. The results of clustering on imporvement of diversification from this analysis and the three parameter analysis can be later compared."
      ]
    },
    {
      "cell_type": "code",
      "metadata": {
        "id": "CVuxeyM_EXf2",
        "colab_type": "code",
        "colab": {}
      },
      "source": [
        "#generate new dataframe with only two parameters\n",
        "ret_var = ret_var_vol.drop(['Volume'], axis=1)\n",
        "print(ret_var)"
      ],
      "execution_count": 0,
      "outputs": []
    },
    {
      "cell_type": "markdown",
      "metadata": {
        "id": "QUdSLtaWnRYd",
        "colab_type": "text"
      },
      "source": [
        "####2D Plot"
      ]
    },
    {
      "cell_type": "code",
      "metadata": {
        "id": "l9NVdjtAFDmh",
        "colab_type": "code",
        "colab": {}
      },
      "source": [
        "#first plot data \n",
        "from mpl_toolkits.mplot3d import Axes3D\n",
        "import matplotlib.pyplot as plt\n",
        "\n",
        "fig = plt.figure(figsize=(15,15))\n",
        "ax = fig.add_subplot(2 ,1 ,1)\n",
        "fig.suptitle('S&P 500 Data 2014-2015', fontsize=16)\n",
        "\n",
        "x = list(ret_var['Returns'].dropna().values)\n",
        "y = list(ret_var['Volatility'].dropna().values)\n",
        "\n",
        "#print(x, \"\\n\", len(x))\n",
        "#print(y, \"\\n\", len(y))\n",
        "#print(z, \"\\n\", len(z))\n",
        "\n",
        "ax.scatter(x, y, c='r', marker='o')\n",
        "\n",
        "ax.set_xlabel('Returns')\n",
        "ax.set_ylabel('Volatility')\n",
        "\n",
        "plt.show()"
      ],
      "execution_count": 0,
      "outputs": []
    },
    {
      "cell_type": "code",
      "metadata": {
        "id": "ki1rxkQZGS4P",
        "colab_type": "code",
        "colab": {}
      },
      "source": [
        "#taken from: https://towardsdatascience.com/machine-learning-for-stock-clustering-using-k-means-algorithm-126bc1ace4e1\n",
        "#https://www.pythonforfinance.net/2018/02/08/stock-clusters-using-k-means-algorithm-in-python/\n",
        "\n",
        "from pylab import plot,show\n",
        "from numpy import vstack,array\n",
        "from numpy.random import rand\n",
        "import numpy as np\n",
        "from scipy.cluster.vq import kmeans,vq\n",
        "import pandas as pd\n",
        "import pandas_datareader as dr\n",
        "from math import sqrt\n",
        "from sklearn.cluster import KMeans\n",
        "from matplotlib import pyplot as plt\n",
        "\n"
      ],
      "execution_count": 0,
      "outputs": []
    },
    {
      "cell_type": "code",
      "metadata": {
        "id": "Ajs40LkXe01s",
        "colab_type": "code",
        "colab": {}
      },
      "source": [
        "from sklearn.preprocessing import StandardScaler\n",
        "from sklearn.preprocessing import StandardScaler\n",
        "from sklearn.impute import SimpleImputer\n",
        "\n",
        "#use imputer to remobe NaN values and replace with mean along each column\n",
        "#imp = SimpleImputer(strategy=\"mean\")\n",
        "#scale = StandardScaler()\n",
        "#use scaler to normalize data before clustering\n",
        "X = scale.fit_transform(ret_var.values)\n",
        "print(X)"
      ],
      "execution_count": 0,
      "outputs": []
    },
    {
      "cell_type": "code",
      "metadata": {
        "id": "bdokLuvcGcgN",
        "colab_type": "code",
        "colab": {}
      },
      "source": [
        "#generate elbow curve\n",
        "distorsions = []\n",
        "for k in range(2, 20):\n",
        "    k_means = KMeans(n_clusters=k)\n",
        "    k_means.fit(X)\n",
        "    distorsions.append(k_means.inertia_)\n",
        "\n",
        "fig = plt.figure(figsize=(15, 5))\n",
        "plt.plot(range(2, 20), distorsions)\n",
        "plt.grid(True)\n",
        "plt.title('Elbow curve')"
      ],
      "execution_count": 0,
      "outputs": []
    },
    {
      "cell_type": "code",
      "metadata": {
        "id": "yiZ0qupMG6M_",
        "colab_type": "code",
        "colab": {}
      },
      "source": [
        "import  pylab as pl\n",
        "from sklearn.preprocessing import StandardScaler\n",
        "\n",
        "#compute K means with n = 5 and get centroids\n",
        "kmeans = KMeans(n_clusters = 8)\n",
        "kmeans.fit(X)\n",
        "centroids = kmeans.cluster_centers_\n",
        "print(centroids)\n",
        "#print(kmeans.labels_)\n",
        "\n",
        "fig = plt.figure(figsize=(15,15))\n",
        "ax = fig.add_subplot(2,1,1)\n",
        "fig.suptitle('K-Means(n=5) Clustered S&P 500 Data 2014-2015', fontsize=16)\n",
        "\n",
        "ax.scatter(x, y, c=k_means.labels_, marker='o')\n",
        "plot(centroids[:,0],centroids[:,1],'sr',markersize=8)\n",
        "ax.legend(['Centroids'])\n",
        "ax.set_xlabel('Returns')\n",
        "ax.set_xlim(-1,1.5)\n",
        "ax.set_ylabel('Volatility')\n",
        "\n",
        "plt.show()\n"
      ],
      "execution_count": 0,
      "outputs": []
    },
    {
      "cell_type": "code",
      "metadata": {
        "id": "l3cJh1_aHSPH",
        "colab_type": "code",
        "colab": {}
      },
      "source": [
        "tickers = pd.DataFrame(ret_var_vol.index, columns=['Tickers'])\n",
        "cluster_labels = pd.DataFrame(kmeans.labels_,columns=['Cluster'])\n",
        "labeled_stocks_2d = pd.concat([tickers, cluster_labels],axis = 1).dropna()\n",
        "print(labeled_stocks_2d)"
      ],
      "execution_count": 0,
      "outputs": []
    },
    {
      "cell_type": "markdown",
      "metadata": {
        "id": "fusM2nMBHrGG",
        "colab_type": "text"
      },
      "source": [
        "Now we can compare the cluster labeling between the two analyses to see if adding volume as an additional parameter had a signifigant chnage on the clustering results"
      ]
    },
    {
      "cell_type": "code",
      "metadata": {
        "id": "muGBQEc1H_82",
        "colab_type": "code",
        "colab": {}
      },
      "source": [
        "#print(labeled_stocks_2d)\n",
        "#print(labeled_stocks_3d)\n",
        "print(labeled_stocks_2d[labeled_stocks_2d['Cluster'] != labeled_stocks_3d['Cluster']])"
      ],
      "execution_count": 0,
      "outputs": []
    }
  ]
}