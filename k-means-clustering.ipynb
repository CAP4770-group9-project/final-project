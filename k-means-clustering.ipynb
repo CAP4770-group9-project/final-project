{
  "nbformat": 4,
  "nbformat_minor": 0,
  "metadata": {
    "colab": {
      "name": "Untitled1.ipynb",
      "provenance": [],
      "authorship_tag": "ABX9TyMY9B5uoLkKcKDei+g2LFit",
      "include_colab_link": true
    },
    "kernelspec": {
      "name": "python3",
      "display_name": "Python 3"
    }
  },
  "cells": [
    {
      "cell_type": "markdown",
      "metadata": {
        "id": "view-in-github",
        "colab_type": "text"
      },
      "source": [
        "<a href=\"https://colab.research.google.com/github/CAP4770-group9-project/final-project/blob/notebook%2Fkmeans/k-means-clustering.ipynb\" target=\"_parent\"><img src=\"https://colab.research.google.com/assets/colab-badge.svg\" alt=\"Open In Colab\"/></a>"
      ]
    },
    {
      "cell_type": "markdown",
      "metadata": {
        "id": "zFQJfS-88urd",
        "colab_type": "text"
      },
      "source": [
        "## K-Means Clustering for Stock Portfolio Diversification\n",
        "\n",
        "Diversification is a very important step in stock portfolio creation. Picking several stocks rather than just one helps to reduce some of the inherent risk with investing. However, to reap the full benefits of diversification one not only has to pick more than one stock but also ensure that the behaviour of the stocks are not correlated.\n",
        "\n",
        "This measure of \"differentiality\" in stock return and variance behavior can be calculated using K means clustering. The stock price data over diffrent periods of time can be put into the clustering algorithm with the goal of clustering the stock based on diffrent behavior. Stocks from these clusters then can be chosen in order to create a well-diversified portfolio."
      ]
    },
    {
      "cell_type": "markdown",
      "metadata": {
        "id": "i3dvDJm6A3-s",
        "colab_type": "text"
      },
      "source": [
        "As this is the next step in our applications of machine learning to portfolio optimization project, we will also be using the S&P 500 ticker data in the analysis."
      ]
    },
    {
      "cell_type": "code",
      "metadata": {
        "id": "hSDcnm_h7thd",
        "colab_type": "code",
        "colab": {}
      },
      "source": [
        "\n",
        "\n"
      ],
      "execution_count": 0,
      "outputs": []
    },
    {
      "cell_type": "code",
      "metadata": {
        "id": "r1kHRVMQBROH",
        "colab_type": "code",
        "colab": {}
      },
      "source": [
        "#taken from: https://towardsdatascience.com/machine-learning-for-stock-clustering-using-k-means-algorithm-126bc1ace4e1\n",
        "#https://www.pythonforfinance.net/2018/02/08/stock-clusters-using-k-means-algorithm-in-python/"
      ],
      "execution_count": 0,
      "outputs": []
    }
  ]
}