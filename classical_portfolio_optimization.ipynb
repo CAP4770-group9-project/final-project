{
  "nbformat": 4,
  "nbformat_minor": 0,
  "metadata": {
    "kernelspec": {
      "name": "python3",
      "display_name": "Python 3"
    },
    "language_info": {
      "codemirror_mode": {
        "name": "ipython",
        "version": 3
      },
      "file_extension": ".py",
      "mimetype": "text/x-python",
      "name": "python",
      "nbconvert_exporter": "python",
      "pygments_lexer": "ipython3",
      "version": "3.7.2"
    },
    "colab": {
      "name": "classical_portfolio_optimization.ipynb",
      "provenance": [],
      "toc_visible": true
    }
  },
  "cells": [
    {
      "cell_type": "markdown",
      "metadata": {
        "id": "QIavnP7Pi8Nd",
        "colab_type": "text"
      },
      "source": [
        "# Classical Portfolio Optimization\n",
        "\n",
        "This notebook is used to generate a portfolio of 10 random stocks from the AlphaVantage API and then optimize the portfolio weights using Markowitz theory. The optimization analysis can be performed using 3 years of historical stock data (2014-2017). \n",
        "\n",
        "The returns of the portfolio with and without optimization over a 3 year test timeframe can then be calculated (2017-2020). These results will be used as the baseline in which the optimization performed through supervised and unsupervised learning will be compared.\n",
        "\n",
        "In order to perform the optimization, the stock data must be obtained, the **expected returns** must be calculated, the **variance** of the stock data must be calculated and the **effecient frontier** must be found.\n"
      ]
    },
    {
      "cell_type": "markdown",
      "metadata": {
        "id": "0sJkxwCHi8Nn",
        "colab_type": "text"
      },
      "source": [
        "## Obtaining stock data\n",
        "\n"
      ]
    },
    {
      "cell_type": "markdown",
      "metadata": {
        "id": "OZtjvdRbp1oJ",
        "colab_type": "text"
      },
      "source": [
        "### Getting stock names\n",
        "The stock names can be found by obtaining an array of all the stocks in the S&P 500 index, generating 10 random numbers and then using those numbers to choose 10 array items."
      ]
    },
    {
      "cell_type": "code",
      "metadata": {
        "id": "haLUJ9Omi8Nq",
        "colab_type": "code",
        "outputId": "5b5d7bf3-cb38-4a39-976e-af604a41de4f",
        "colab": {
          "base_uri": "https://localhost:8080/",
          "height": 1000
        }
      },
      "source": [
        "#Taken from Automating getting the S&P 500 list - Python Programming for Finance p.5\n",
        "# https://pythonprogramming.net/sp500-company-list-python-programming-for-finance/\n",
        "\n",
        "import bs4 as bs\n",
        "import pickle\n",
        "import requests\n",
        "\n",
        "def save_sp500_tickers():\n",
        "    resp = requests.get('http://en.wikipedia.org/wiki/List_of_S%26P_500_companies')\n",
        "    soup = bs.BeautifulSoup(resp.text, 'lxml')\n",
        "    table = soup.find('table', {'class': 'wikitable sortable'})\n",
        "    tickers = []\n",
        "    for row in table.findAll('tr')[1:]:\n",
        "        ticker = row.findAll('td')[0].text\n",
        "        tickers.append(ticker.strip(\"\\n\"))\n",
        "        \n",
        "    with open(\"sp500tickers.pickle\",\"wb\") as f:\n",
        "        pickle.dump(tickers,f)\n",
        "        \n",
        "    return tickers\n",
        "\n",
        "save_sp500_tickers()\n",
        "    "
      ],
      "execution_count": 23,
      "outputs": [
        {
          "output_type": "execute_result",
          "data": {
            "text/plain": [
              "['MMM',\n",
              " 'ABT',\n",
              " 'ABBV',\n",
              " 'ABMD',\n",
              " 'ACN',\n",
              " 'ATVI',\n",
              " 'ADBE',\n",
              " 'AMD',\n",
              " 'AAP',\n",
              " 'AES',\n",
              " 'AFL',\n",
              " 'A',\n",
              " 'APD',\n",
              " 'AKAM',\n",
              " 'ALK',\n",
              " 'ALB',\n",
              " 'ARE',\n",
              " 'ALXN',\n",
              " 'ALGN',\n",
              " 'ALLE',\n",
              " 'AGN',\n",
              " 'ADS',\n",
              " 'LNT',\n",
              " 'ALL',\n",
              " 'GOOGL',\n",
              " 'GOOG',\n",
              " 'MO',\n",
              " 'AMZN',\n",
              " 'AMCR',\n",
              " 'AEE',\n",
              " 'AAL',\n",
              " 'AEP',\n",
              " 'AXP',\n",
              " 'AIG',\n",
              " 'T',\n",
              " 'AMT',\n",
              " 'AWK',\n",
              " 'AMP',\n",
              " 'ABC',\n",
              " 'AME',\n",
              " 'AMGN',\n",
              " 'APH',\n",
              " 'ADI',\n",
              " 'ANSS',\n",
              " 'ANTM',\n",
              " 'AON',\n",
              " 'AOS',\n",
              " 'APA',\n",
              " 'AIV',\n",
              " 'AAPL',\n",
              " 'AMAT',\n",
              " 'APTV',\n",
              " 'ADM',\n",
              " 'ARNC',\n",
              " 'ANET',\n",
              " 'AJG',\n",
              " 'AIZ',\n",
              " 'ATO',\n",
              " 'ADSK',\n",
              " 'ADP',\n",
              " 'AZO',\n",
              " 'AVB',\n",
              " 'AVY',\n",
              " 'BKR',\n",
              " 'BLL',\n",
              " 'BAC',\n",
              " 'BK',\n",
              " 'BAX',\n",
              " 'BDX',\n",
              " 'BRK.B',\n",
              " 'BBY',\n",
              " 'BIIB',\n",
              " 'BLK',\n",
              " 'BA',\n",
              " 'BKNG',\n",
              " 'BWA',\n",
              " 'BXP',\n",
              " 'BSX',\n",
              " 'BMY',\n",
              " 'AVGO',\n",
              " 'BR',\n",
              " 'BF.B',\n",
              " 'CHRW',\n",
              " 'COG',\n",
              " 'CDNS',\n",
              " 'CPB',\n",
              " 'COF',\n",
              " 'CPRI',\n",
              " 'CAH',\n",
              " 'KMX',\n",
              " 'CCL',\n",
              " 'CAT',\n",
              " 'CBOE',\n",
              " 'CBRE',\n",
              " 'CDW',\n",
              " 'CE',\n",
              " 'CNC',\n",
              " 'CNP',\n",
              " 'CTL',\n",
              " 'CERN',\n",
              " 'CF',\n",
              " 'SCHW',\n",
              " 'CHTR',\n",
              " 'CVX',\n",
              " 'CMG',\n",
              " 'CB',\n",
              " 'CHD',\n",
              " 'CI',\n",
              " 'CINF',\n",
              " 'CTAS',\n",
              " 'CSCO',\n",
              " 'C',\n",
              " 'CFG',\n",
              " 'CTXS',\n",
              " 'CLX',\n",
              " 'CME',\n",
              " 'CMS',\n",
              " 'KO',\n",
              " 'CTSH',\n",
              " 'CL',\n",
              " 'CMCSA',\n",
              " 'CMA',\n",
              " 'CAG',\n",
              " 'CXO',\n",
              " 'COP',\n",
              " 'ED',\n",
              " 'STZ',\n",
              " 'COO',\n",
              " 'CPRT',\n",
              " 'GLW',\n",
              " 'CTVA',\n",
              " 'COST',\n",
              " 'COTY',\n",
              " 'CCI',\n",
              " 'CSX',\n",
              " 'CMI',\n",
              " 'CVS',\n",
              " 'DHI',\n",
              " 'DHR',\n",
              " 'DRI',\n",
              " 'DVA',\n",
              " 'DE',\n",
              " 'DAL',\n",
              " 'XRAY',\n",
              " 'DVN',\n",
              " 'FANG',\n",
              " 'DLR',\n",
              " 'DFS',\n",
              " 'DISCA',\n",
              " 'DISCK',\n",
              " 'DISH',\n",
              " 'DG',\n",
              " 'DLTR',\n",
              " 'D',\n",
              " 'DOV',\n",
              " 'DOW',\n",
              " 'DTE',\n",
              " 'DUK',\n",
              " 'DRE',\n",
              " 'DD',\n",
              " 'DXC',\n",
              " 'ETFC',\n",
              " 'EMN',\n",
              " 'ETN',\n",
              " 'EBAY',\n",
              " 'ECL',\n",
              " 'EIX',\n",
              " 'EW',\n",
              " 'EA',\n",
              " 'EMR',\n",
              " 'ETR',\n",
              " 'EOG',\n",
              " 'EFX',\n",
              " 'EQIX',\n",
              " 'EQR',\n",
              " 'ESS',\n",
              " 'EL',\n",
              " 'EVRG',\n",
              " 'ES',\n",
              " 'RE',\n",
              " 'EXC',\n",
              " 'EXPE',\n",
              " 'EXPD',\n",
              " 'EXR',\n",
              " 'XOM',\n",
              " 'FFIV',\n",
              " 'FB',\n",
              " 'FAST',\n",
              " 'FRT',\n",
              " 'FDX',\n",
              " 'FIS',\n",
              " 'FITB',\n",
              " 'FE',\n",
              " 'FRC',\n",
              " 'FISV',\n",
              " 'FLT',\n",
              " 'FLIR',\n",
              " 'FLS',\n",
              " 'FMC',\n",
              " 'F',\n",
              " 'FTNT',\n",
              " 'FTV',\n",
              " 'FBHS',\n",
              " 'FOXA',\n",
              " 'FOX',\n",
              " 'BEN',\n",
              " 'FCX',\n",
              " 'GPS',\n",
              " 'GRMN',\n",
              " 'IT',\n",
              " 'GD',\n",
              " 'GE',\n",
              " 'GIS',\n",
              " 'GM',\n",
              " 'GPC',\n",
              " 'GILD',\n",
              " 'GL',\n",
              " 'GPN',\n",
              " 'GS',\n",
              " 'GWW',\n",
              " 'HRB',\n",
              " 'HAL',\n",
              " 'HBI',\n",
              " 'HOG',\n",
              " 'HIG',\n",
              " 'HAS',\n",
              " 'HCA',\n",
              " 'PEAK',\n",
              " 'HP',\n",
              " 'HSIC',\n",
              " 'HSY',\n",
              " 'HES',\n",
              " 'HPE',\n",
              " 'HLT',\n",
              " 'HFC',\n",
              " 'HOLX',\n",
              " 'HD',\n",
              " 'HON',\n",
              " 'HRL',\n",
              " 'HST',\n",
              " 'HPQ',\n",
              " 'HUM',\n",
              " 'HBAN',\n",
              " 'HII',\n",
              " 'IEX',\n",
              " 'IDXX',\n",
              " 'INFO',\n",
              " 'ITW',\n",
              " 'ILMN',\n",
              " 'INCY',\n",
              " 'IR',\n",
              " 'INTC',\n",
              " 'ICE',\n",
              " 'IBM',\n",
              " 'IP',\n",
              " 'IPG',\n",
              " 'IFF',\n",
              " 'INTU',\n",
              " 'ISRG',\n",
              " 'IVZ',\n",
              " 'IPGP',\n",
              " 'IQV',\n",
              " 'IRM',\n",
              " 'JKHY',\n",
              " 'J',\n",
              " 'JBHT',\n",
              " 'SJM',\n",
              " 'JNJ',\n",
              " 'JCI',\n",
              " 'JPM',\n",
              " 'JNPR',\n",
              " 'KSU',\n",
              " 'K',\n",
              " 'KEY',\n",
              " 'KEYS',\n",
              " 'KMB',\n",
              " 'KIM',\n",
              " 'KMI',\n",
              " 'KLAC',\n",
              " 'KSS',\n",
              " 'KHC',\n",
              " 'KR',\n",
              " 'LB',\n",
              " 'LHX',\n",
              " 'LH',\n",
              " 'LRCX',\n",
              " 'LW',\n",
              " 'LVS',\n",
              " 'LEG',\n",
              " 'LDOS',\n",
              " 'LEN',\n",
              " 'LLY',\n",
              " 'LNC',\n",
              " 'LIN',\n",
              " 'LYV',\n",
              " 'LKQ',\n",
              " 'LMT',\n",
              " 'L',\n",
              " 'LOW',\n",
              " 'LYB',\n",
              " 'MTB',\n",
              " 'M',\n",
              " 'MRO',\n",
              " 'MPC',\n",
              " 'MKTX',\n",
              " 'MAR',\n",
              " 'MMC',\n",
              " 'MLM',\n",
              " 'MAS',\n",
              " 'MA',\n",
              " 'MKC',\n",
              " 'MXIM',\n",
              " 'MCD',\n",
              " 'MCK',\n",
              " 'MDT',\n",
              " 'MRK',\n",
              " 'MET',\n",
              " 'MTD',\n",
              " 'MGM',\n",
              " 'MCHP',\n",
              " 'MU',\n",
              " 'MSFT',\n",
              " 'MAA',\n",
              " 'MHK',\n",
              " 'TAP',\n",
              " 'MDLZ',\n",
              " 'MNST',\n",
              " 'MCO',\n",
              " 'MS',\n",
              " 'MOS',\n",
              " 'MSI',\n",
              " 'MSCI',\n",
              " 'MYL',\n",
              " 'NDAQ',\n",
              " 'NOV',\n",
              " 'NTAP',\n",
              " 'NFLX',\n",
              " 'NWL',\n",
              " 'NEM',\n",
              " 'NWSA',\n",
              " 'NWS',\n",
              " 'NEE',\n",
              " 'NLSN',\n",
              " 'NKE',\n",
              " 'NI',\n",
              " 'NBL',\n",
              " 'JWN',\n",
              " 'NSC',\n",
              " 'NTRS',\n",
              " 'NOC',\n",
              " 'NLOK',\n",
              " 'NCLH',\n",
              " 'NRG',\n",
              " 'NUE',\n",
              " 'NVDA',\n",
              " 'NVR',\n",
              " 'ORLY',\n",
              " 'OXY',\n",
              " 'ODFL',\n",
              " 'OMC',\n",
              " 'OKE',\n",
              " 'ORCL',\n",
              " 'PCAR',\n",
              " 'PKG',\n",
              " 'PH',\n",
              " 'PAYX',\n",
              " 'PAYC',\n",
              " 'PYPL',\n",
              " 'PNR',\n",
              " 'PBCT',\n",
              " 'PEP',\n",
              " 'PKI',\n",
              " 'PRGO',\n",
              " 'PFE',\n",
              " 'PM',\n",
              " 'PSX',\n",
              " 'PNW',\n",
              " 'PXD',\n",
              " 'PNC',\n",
              " 'PPG',\n",
              " 'PPL',\n",
              " 'PFG',\n",
              " 'PG',\n",
              " 'PGR',\n",
              " 'PLD',\n",
              " 'PRU',\n",
              " 'PEG',\n",
              " 'PSA',\n",
              " 'PHM',\n",
              " 'PVH',\n",
              " 'QRVO',\n",
              " 'PWR',\n",
              " 'QCOM',\n",
              " 'DGX',\n",
              " 'RL',\n",
              " 'RJF',\n",
              " 'RTN',\n",
              " 'O',\n",
              " 'REG',\n",
              " 'REGN',\n",
              " 'RF',\n",
              " 'RSG',\n",
              " 'RMD',\n",
              " 'RHI',\n",
              " 'ROK',\n",
              " 'ROL',\n",
              " 'ROP',\n",
              " 'ROST',\n",
              " 'RCL',\n",
              " 'SPGI',\n",
              " 'CRM',\n",
              " 'SBAC',\n",
              " 'SLB',\n",
              " 'STX',\n",
              " 'SEE',\n",
              " 'SRE',\n",
              " 'NOW',\n",
              " 'SHW',\n",
              " 'SPG',\n",
              " 'SWKS',\n",
              " 'SLG',\n",
              " 'SNA',\n",
              " 'SO',\n",
              " 'LUV',\n",
              " 'SWK',\n",
              " 'SBUX',\n",
              " 'STT',\n",
              " 'STE',\n",
              " 'SYK',\n",
              " 'SIVB',\n",
              " 'SYF',\n",
              " 'SNPS',\n",
              " 'SYY',\n",
              " 'TMUS',\n",
              " 'TROW',\n",
              " 'TTWO',\n",
              " 'TPR',\n",
              " 'TGT',\n",
              " 'TEL',\n",
              " 'FTI',\n",
              " 'TFX',\n",
              " 'TXN',\n",
              " 'TXT',\n",
              " 'TMO',\n",
              " 'TIF',\n",
              " 'TJX',\n",
              " 'TSCO',\n",
              " 'TT',\n",
              " 'TDG',\n",
              " 'TRV',\n",
              " 'TFC',\n",
              " 'TWTR',\n",
              " 'TSN',\n",
              " 'UDR',\n",
              " 'ULTA',\n",
              " 'USB',\n",
              " 'UAA',\n",
              " 'UA',\n",
              " 'UNP',\n",
              " 'UAL',\n",
              " 'UNH',\n",
              " 'UPS',\n",
              " 'URI',\n",
              " 'UTX',\n",
              " 'UHS',\n",
              " 'UNM',\n",
              " 'VFC',\n",
              " 'VLO',\n",
              " 'VAR',\n",
              " 'VTR',\n",
              " 'VRSN',\n",
              " 'VRSK',\n",
              " 'VZ',\n",
              " 'VRTX',\n",
              " 'VIAC',\n",
              " 'V',\n",
              " 'VNO',\n",
              " 'VMC',\n",
              " 'WRB',\n",
              " 'WAB',\n",
              " 'WMT',\n",
              " 'WBA',\n",
              " 'DIS',\n",
              " 'WM',\n",
              " 'WAT',\n",
              " 'WEC',\n",
              " 'WFC',\n",
              " 'WELL',\n",
              " 'WDC',\n",
              " 'WU',\n",
              " 'WRK',\n",
              " 'WY',\n",
              " 'WHR',\n",
              " 'WMB',\n",
              " 'WLTW',\n",
              " 'WYNN',\n",
              " 'XEL',\n",
              " 'XRX',\n",
              " 'XLNX',\n",
              " 'XYL',\n",
              " 'YUM',\n",
              " 'ZBRA',\n",
              " 'ZBH',\n",
              " 'ZION',\n",
              " 'ZTS']"
            ]
          },
          "metadata": {
            "tags": []
          },
          "execution_count": 23
        }
      ]
    },
    {
      "cell_type": "markdown",
      "metadata": {
        "id": "Zqb9_2M-sczE",
        "colab_type": "text"
      },
      "source": [
        "Next 10 random numbers between 0 and 504 can be generated in order to pick 10 random stock tickers from the list"
      ]
    },
    {
      "cell_type": "code",
      "metadata": {
        "id": "scqo3IT8sbzV",
        "colab_type": "code",
        "outputId": "733dd4e9-c52c-4e08-8bc7-8fac2691e396",
        "colab": {
          "base_uri": "https://localhost:8080/",
          "height": 51
        }
      },
      "source": [
        "import random\n",
        "\n",
        "tickers = save_sp500_tickers()\n",
        "print(len(tickers)) # there are actually 505 stocks in the S&P 500, who knew!\n",
        "\n",
        "def getRandomTickers(tickers):\n",
        "  randIndex = []\n",
        "  randTickers = []\n",
        "  for i in range(0,10):\n",
        "    randIndex.append(random.randint(0,504))\n",
        "  for index in randIndex:\n",
        "    randTickers.append(tickers[index])\n",
        "  return randTickers\n",
        "\n",
        "print(getRandomTickers(tickers)) \n"
      ],
      "execution_count": 41,
      "outputs": [
        {
          "output_type": "stream",
          "text": [
            "505\n",
            "['PKG', 'ADP', 'CMI', 'EXPD', 'WFC', 'CAG', 'EQR', 'NTAP', 'ODFL', 'NTRS']\n"
          ],
          "name": "stdout"
        }
      ]
    },
    {
      "cell_type": "markdown",
      "metadata": {
        "id": "Zp399HE1KSWm",
        "colab_type": "text"
      },
      "source": [
        "Now we can get the names of the tickers in the dataset. \n",
        "\n",
        "The data was extracted from the API using a NodeJS program which obtained daily price and volume data for each stock over a period of 20 years. Due to the failure to extract data for several stocks, the number of stock tickers is not exactly 505, but rather close to 500.\n",
        "\n",
        "We first need to import the data from the csv into a pandas dataframe so that it can be further analyzed.\n",
        "\n",
        "The data is stored in Google Drive and can be accessed via Colab after mounting to Drive"
      ]
    },
    {
      "cell_type": "code",
      "metadata": {
        "id": "nzZHgS2Q5yKU",
        "colab_type": "code",
        "colab": {
          "base_uri": "https://localhost:8080/",
          "height": 54
        },
        "outputId": "f3e26661-fe76-453b-b2c1-bc74156cbada"
      },
      "source": [
        "from google.colab import drive\n",
        "drive.mount('/content/drive')"
      ],
      "execution_count": 25,
      "outputs": [
        {
          "output_type": "stream",
          "text": [
            "Drive already mounted at /content/drive; to attempt to forcibly remount, call drive.mount(\"/content/drive\", force_remount=True).\n"
          ],
          "name": "stdout"
        }
      ]
    },
    {
      "cell_type": "markdown",
      "metadata": {
        "id": "12XW1J2Q8AQt",
        "colab_type": "text"
      },
      "source": [
        "Now the csv can be imported into a dataframe\n"
      ]
    },
    {
      "cell_type": "code",
      "metadata": {
        "id": "tl8iqOTR79tt",
        "colab_type": "code",
        "colab": {
          "base_uri": "https://localhost:8080/",
          "height": 391
        },
        "outputId": "480d2981-6df1-490e-ed6c-4d002e5e02b0"
      },
      "source": [
        "import pandas as pd\n",
        "import time\n",
        "\n",
        "#change directory to where the data is located \n",
        "# %cd drive/My Drive/cap4770-project\n",
        "!pwd\n",
        "\n",
        "#use timer to get process times\n",
        "start_time = time.time()\n",
        "\n",
        "#read csv\n",
        "data = pd.read_csv(\"SP_DAILY_2000-2020.csv\")\n",
        "print(\"read data --- %s seconds ---\" % (time.time() - start_time))\n",
        "print()\n",
        "\n",
        "#preview first 5 lines\n",
        "start_time = time.time()\n",
        "print(data.head())\n",
        "print(\"get head --- %s seconds ---\" % (time.time() - start_time))\n",
        "print()\n",
        "\n",
        "#preview last 5 lines\n",
        "start_time = time.time()\n",
        "print(data.tail())\n",
        "print(\"get tail --- %s seconds ---\" % (time.time() - start_time))\n",
        "print()\n",
        "\n",
        "#get size\n",
        "start_time = time.time()\n",
        "print(\"Size:\", data.size)\n",
        "print(\"get size --- %s seconds ---\" % (time.time() - start_time))\n",
        "print()"
      ],
      "execution_count": 26,
      "outputs": [
        {
          "output_type": "stream",
          "text": [
            "/content/drive/My Drive/cap4770-project\n",
            "read data --- 1.5687692165374756 seconds ---\n",
            "\n",
            "  Symbol        Date    Open   Close     High     Low   Volume\n",
            "0    MMM  2020-03-26  131.79  135.98  136.355  130.61  5476351\n",
            "1    MMM  2020-03-25  133.15  131.54  134.690  126.80  7732467\n",
            "2    MMM  2020-03-24  122.29  132.72  133.450  121.00  9304832\n",
            "3    MMM  2020-03-23  128.16  117.87  128.400  114.04  7920348\n",
            "4    MMM  2020-03-20  138.07  124.89  139.240  122.71  9582251\n",
            "get head --- 0.012328624725341797 seconds ---\n",
            "\n",
            "        Symbol        Date   Open  Close   High    Low    Volume\n",
            "2250258    ZTS  2013-02-07  31.00  32.00  32.73  31.00   3800800\n",
            "2250259    ZTS  2013-02-06  30.98  31.03  31.43  30.75   2126100\n",
            "2250260    ZTS  2013-02-05  31.25  31.04  31.98  30.85   5013200\n",
            "2250261    ZTS  2013-02-04  31.09  31.02  31.99  30.76   7695400\n",
            "2250262    ZTS  2013-02-01  31.50  31.01  31.74  30.47  66789100\n",
            "get tail --- 0.010674476623535156 seconds ---\n",
            "\n",
            "Size: 15751841\n",
            "get size --- 0.0006611347198486328 seconds ---\n",
            "\n"
          ],
          "name": "stdout"
        }
      ]
    },
    {
      "cell_type": "markdown",
      "metadata": {
        "id": "JJmvRxRB-SwV",
        "colab_type": "text"
      },
      "source": [
        "Markowitz Analysis requires a vector of expected returns over the period of analysis for all of the stocks in the portfolio as well as the cauculation of the covariance matrix for the stocks. This can then be used to generate the portfolio weight vector omega."
      ]
    },
    {
      "cell_type": "markdown",
      "metadata": {
        "id": "VyXNEfyTfAOG",
        "colab_type": "text"
      },
      "source": [
        "The ffn library will be used to retrieve data for the random tickers generated from yahoo finance from March 26, 2010 to March 26, 2015.Then the preliminary Markowitz analysis can be conducted\n"
      ]
    },
    {
      "cell_type": "code",
      "metadata": {
        "id": "uE2NEX_egcLH",
        "colab_type": "code",
        "colab": {
          "base_uri": "https://localhost:8080/",
          "height": 598
        },
        "outputId": "a5a67ae6-48a8-4fe6-b11f-cca80944a2b1"
      },
      "source": [
        "#setup\n",
        "%matplotlib inline\n",
        "\n",
        "#need to add these packages to requirements.txt\n",
        "!pip install empyrical ffn PyPortfolioOpt\n",
        "\n",
        "#taken from https://github.com/Poseyy/MarketAnalysis/blob/master/portfolios/PortfolioAnalysis.ipynb\n",
        "import ffn \n",
        "from empyrical import alpha_beta\n",
        "from pypfopt.efficient_frontier import EfficientFrontier\n",
        "from pypfopt import risk_models\n",
        "from pypfopt import expected_returns\n",
        "from pypfopt import discrete_allocation\n",
        "import matplotlib as pyplot\n",
        "import numpy as np\n",
        "import pandas as pd"
      ],
      "execution_count": 38,
      "outputs": [
        {
          "output_type": "stream",
          "text": [
            "Requirement already satisfied: empyrical in /usr/local/lib/python3.6/dist-packages (0.5.3)\n",
            "Requirement already satisfied: ffn in /usr/local/lib/python3.6/dist-packages (0.3.4)\n",
            "Requirement already satisfied: PyPortfolioOpt in /usr/local/lib/python3.6/dist-packages (1.0.1)\n",
            "Requirement already satisfied: pandas>=0.16.1 in /usr/local/lib/python3.6/dist-packages (from empyrical) (0.25.3)\n",
            "Requirement already satisfied: scipy>=0.15.1 in /usr/local/lib/python3.6/dist-packages (from empyrical) (1.4.1)\n",
            "Requirement already satisfied: numpy>=1.9.2 in /usr/local/lib/python3.6/dist-packages (from empyrical) (1.18.2)\n",
            "Requirement already satisfied: pandas-datareader>=0.2 in /usr/local/lib/python3.6/dist-packages (from empyrical) (0.7.4)\n",
            "Requirement already satisfied: scikit-learn>=0.15 in /usr/local/lib/python3.6/dist-packages (from ffn) (0.22.2.post1)\n",
            "Requirement already satisfied: tabulate>=0.7.5 in /usr/local/lib/python3.6/dist-packages (from ffn) (0.8.7)\n",
            "Requirement already satisfied: decorator>=4 in /usr/local/lib/python3.6/dist-packages (from ffn) (4.4.2)\n",
            "Requirement already satisfied: matplotlib>=1 in /usr/local/lib/python3.6/dist-packages (from ffn) (3.2.1)\n",
            "Requirement already satisfied: future>=0.15 in /usr/local/lib/python3.6/dist-packages (from ffn) (0.16.0)\n",
            "Requirement already satisfied: cvxpy<2.0.0,>=1.0.28 in /usr/local/lib/python3.6/dist-packages (from PyPortfolioOpt) (1.0.28)\n",
            "Requirement already satisfied: python-dateutil>=2.6.1 in /usr/local/lib/python3.6/dist-packages (from pandas>=0.16.1->empyrical) (2.8.1)\n",
            "Requirement already satisfied: pytz>=2017.2 in /usr/local/lib/python3.6/dist-packages (from pandas>=0.16.1->empyrical) (2018.9)\n",
            "Requirement already satisfied: requests>=2.3.0 in /usr/local/lib/python3.6/dist-packages (from pandas-datareader>=0.2->empyrical) (2.21.0)\n",
            "Requirement already satisfied: lxml in /usr/local/lib/python3.6/dist-packages (from pandas-datareader>=0.2->empyrical) (4.2.6)\n",
            "Requirement already satisfied: wrapt in /usr/local/lib/python3.6/dist-packages (from pandas-datareader>=0.2->empyrical) (1.12.1)\n",
            "Requirement already satisfied: joblib>=0.11 in /usr/local/lib/python3.6/dist-packages (from scikit-learn>=0.15->ffn) (0.14.1)\n",
            "Requirement already satisfied: pyparsing!=2.0.4,!=2.1.2,!=2.1.6,>=2.0.1 in /usr/local/lib/python3.6/dist-packages (from matplotlib>=1->ffn) (2.4.6)\n",
            "Requirement already satisfied: cycler>=0.10 in /usr/local/lib/python3.6/dist-packages (from matplotlib>=1->ffn) (0.10.0)\n",
            "Requirement already satisfied: kiwisolver>=1.0.1 in /usr/local/lib/python3.6/dist-packages (from matplotlib>=1->ffn) (1.1.0)\n",
            "Requirement already satisfied: multiprocess in /usr/local/lib/python3.6/dist-packages (from cvxpy<2.0.0,>=1.0.28->PyPortfolioOpt) (0.70.9)\n",
            "Requirement already satisfied: scs>=1.1.3 in /usr/local/lib/python3.6/dist-packages (from cvxpy<2.0.0,>=1.0.28->PyPortfolioOpt) (2.1.1.post2)\n",
            "Requirement already satisfied: ecos>=2 in /usr/local/lib/python3.6/dist-packages (from cvxpy<2.0.0,>=1.0.28->PyPortfolioOpt) (2.0.7.post1)\n",
            "Requirement already satisfied: osqp>=0.4.1 in /usr/local/lib/python3.6/dist-packages (from cvxpy<2.0.0,>=1.0.28->PyPortfolioOpt) (0.6.1)\n",
            "Requirement already satisfied: six>=1.5 in /usr/local/lib/python3.6/dist-packages (from python-dateutil>=2.6.1->pandas>=0.16.1->empyrical) (1.12.0)\n",
            "Requirement already satisfied: certifi>=2017.4.17 in /usr/local/lib/python3.6/dist-packages (from requests>=2.3.0->pandas-datareader>=0.2->empyrical) (2019.11.28)\n",
            "Requirement already satisfied: urllib3<1.25,>=1.21.1 in /usr/local/lib/python3.6/dist-packages (from requests>=2.3.0->pandas-datareader>=0.2->empyrical) (1.24.3)\n",
            "Requirement already satisfied: idna<2.9,>=2.5 in /usr/local/lib/python3.6/dist-packages (from requests>=2.3.0->pandas-datareader>=0.2->empyrical) (2.8)\n",
            "Requirement already satisfied: chardet<3.1.0,>=3.0.2 in /usr/local/lib/python3.6/dist-packages (from requests>=2.3.0->pandas-datareader>=0.2->empyrical) (3.0.4)\n",
            "Requirement already satisfied: setuptools in /usr/local/lib/python3.6/dist-packages (from kiwisolver>=1.0.1->matplotlib>=1->ffn) (46.0.0)\n",
            "Requirement already satisfied: dill>=0.3.1 in /usr/local/lib/python3.6/dist-packages (from multiprocess->cvxpy<2.0.0,>=1.0.28->PyPortfolioOpt) (0.3.1.1)\n"
          ],
          "name": "stdout"
        }
      ]
    },
    {
      "cell_type": "code",
      "metadata": {
        "id": "yUgbJl9DCthU",
        "colab_type": "code",
        "colab": {}
      },
      "source": [
        "#generate random portfolio\n",
        "randomTickers = getRandomTickers(tickers)"
      ],
      "execution_count": 0,
      "outputs": []
    },
    {
      "cell_type": "code",
      "metadata": {
        "id": "-pHQlktud2jC",
        "colab_type": "code",
        "colab": {
          "base_uri": "https://localhost:8080/",
          "height": 269
        },
        "outputId": "50d45af7-b178-49ae-bd93-742331293aa5"
      },
      "source": [
        "#retrieve price data for training period, plot data\n",
        "\n",
        "prices = ffn.get(randomTickers,start='2010-03-26', end='2015-03-26')\n",
        "ax = prices.plot()"
      ],
      "execution_count": 103,
      "outputs": [
        {
          "output_type": "display_data",
          "data": {
            "image/png": "[encoded data removed]",
            "text/plain": [
              "<Figure size 432x288 with 1 Axes>"
            ]
          },
          "metadata": {
            "tags": []
          }
        }
      ]
    },
    {
      "cell_type": "markdown",
      "metadata": {
        "id": "-DEBnCsUiRnw",
        "colab_type": "text"
      },
      "source": [
        "Now we can plot the returns for this portfolio"
      ]
    },
    {
      "cell_type": "code",
      "metadata": {
        "id": "I5pYsZJBiOig",
        "colab_type": "code",
        "colab": {
          "base_uri": "https://localhost:8080/",
          "height": 831
        },
        "outputId": "eafb37b7-c07e-41b1-c819-9d1d6ead56bc"
      },
      "source": [
        "returns = prices.to_returns().dropna()\n",
        "ax = returns.hist(figsize=(10,10))"
      ],
      "execution_count": 43,
      "outputs": [
        {
          "output_type": "stream",
          "text": [
            "/usr/local/lib/python3.6/dist-packages/pandas/plotting/_matplotlib/tools.py:307: MatplotlibDeprecationWarning: \n",
            "The rowNum attribute was deprecated in Matplotlib 3.2 and will be removed two minor releases later. Use ax.get_subplotspec().rowspan.start instead.\n",
            "  layout[ax.rowNum, ax.colNum] = ax.get_visible()\n",
            "/usr/local/lib/python3.6/dist-packages/pandas/plotting/_matplotlib/tools.py:307: MatplotlibDeprecationWarning: \n",
            "The colNum attribute was deprecated in Matplotlib 3.2 and will be removed two minor releases later. Use ax.get_subplotspec().colspan.start instead.\n",
            "  layout[ax.rowNum, ax.colNum] = ax.get_visible()\n",
            "/usr/local/lib/python3.6/dist-packages/pandas/plotting/_matplotlib/tools.py:313: MatplotlibDeprecationWarning: \n",
            "The rowNum attribute was deprecated in Matplotlib 3.2 and will be removed two minor releases later. Use ax.get_subplotspec().rowspan.start instead.\n",
            "  if not layout[ax.rowNum + 1, ax.colNum]:\n",
            "/usr/local/lib/python3.6/dist-packages/pandas/plotting/_matplotlib/tools.py:313: MatplotlibDeprecationWarning: \n",
            "The colNum attribute was deprecated in Matplotlib 3.2 and will be removed two minor releases later. Use ax.get_subplotspec().colspan.start instead.\n",
            "  if not layout[ax.rowNum + 1, ax.colNum]:\n"
          ],
          "name": "stderr"
        },
        {
          "output_type": "display_data",
          "data": {
            "image/png": "[encoded data removed]",
            "text/plain": [
              "<Figure size 720x720 with 12 Axes>"
            ]
          },
          "metadata": {
            "tags": []
          }
        }
      ]
    },
    {
      "cell_type": "code",
      "metadata": {
        "id": "LIJg9CuFinGS",
        "colab_type": "code",
        "colab": {
          "base_uri": "https://localhost:8080/",
          "height": 1000
        },
        "outputId": "186f8eb0-ee94-45aa-ed6f-f04162cc48d2"
      },
      "source": [
        "#display stats for the portfolio\n",
        "stats = prices.calc_stats()\n",
        "stats.display()"
      ],
      "execution_count": 44,
      "outputs": [
        {
          "output_type": "stream",
          "text": [
            "/usr/local/lib/python3.6/dist-packages/ffn/core.py:2056: RuntimeWarning: divide by zero encountered in true_divide\n",
            "  res = np.divide(er.mean(), std)\n"
          ],
          "name": "stderr"
        },
        {
          "output_type": "stream",
          "text": [
            "Stat                 bdx         schw        coo         msft        swk         afl         pru         mro         rop         wy\n",
            "-------------------  ----------  ----------  ----------  ----------  ----------  ----------  ----------  ----------  ----------  ----------\n",
            "Start                2010-03-26  2010-03-26  2010-03-26  2010-03-26  2010-03-26  2010-03-26  2010-03-26  2010-03-26  2010-03-26  2010-03-26\n",
            "End                  2015-03-26  2015-03-26  2015-03-26  2015-03-26  2015-03-26  2015-03-26  2015-03-26  2015-03-26  2015-03-26  2015-03-26\n",
            "Risk-free rate       0.00%       0.00%       0.00%       0.00%       0.00%       0.00%       0.00%       0.00%       0.00%       0.00%\n",
            "\n",
            "Total Return         102.50%     70.42%      388.59%     58.86%      82.72%      53.67%      55.47%      65.16%      208.55%     -15.02%\n",
            "Daily Sharpe         0.92        0.51        1.31        0.52        0.57        0.45        0.44        0.48        1.13        0.19\n",
            "Daily Sortino        1.56        0.85        2.36        0.87        0.95        0.74        0.72        0.79        1.90        0.23\n",
            "CAGR                 15.16%      11.25%      37.34%      9.70%       12.81%      8.97%       9.23%       10.56%      25.28%      -3.20%\n",
            "Max Drawdown         -20.72%     -44.45%     -31.76%     -26.37%     -37.36%     -45.46%     -34.77%     -40.17%     -25.29%     -71.36%\n",
            "Calmar Ratio         0.73        0.25        1.18        0.37        0.34        0.20        0.27        0.26        1.00        -0.04\n",
            "\n",
            "MTD                  -2.00%      1.50%       12.88%      -6.02%      -3.03%      2.01%       -1.00%      -5.31%      1.74%       -5.84%\n",
            "3m                   3.19%       -2.03%      12.88%      -13.32%     -1.74%      3.83%       -11.63%     -5.97%      6.85%       -9.00%\n",
            "6m                   26.54%      0.14%       18.51%      -10.01%     6.28%       11.40%      -9.85%      -30.60%     16.03%      4.02%\n",
            "YTD                  3.33%       -0.93%      14.21%      -10.65%     -0.74%      5.27%       -10.88%     -6.07%      9.22%       -7.12%\n",
            "1Y                   27.26%      8.34%       38.96%      6.36%       22.14%      6.50%       -3.50%      -21.64%     28.76%      18.23%\n",
            "3Y (ann.)            25.19%      26.71%      32.35%      11.26%      8.86%       16.58%      10.98%      -4.56%      19.96%      18.10%\n",
            "5Y (ann.)            15.16%      11.25%      37.34%      9.70%       12.81%      8.97%       9.23%       10.56%      25.28%      -3.20%\n",
            "10Y (ann.)           15.16%      11.25%      37.34%      9.70%       12.81%      8.97%       9.23%       10.56%      25.28%      -3.20%\n",
            "Since Incep. (ann.)  15.16%      11.25%      37.34%      9.70%       12.81%      8.97%       9.23%       10.56%      25.28%      -3.20%\n",
            "\n",
            "Daily Sharpe         0.92        0.51        1.31        0.52        0.57        0.45        0.44        0.48        1.13        0.19\n",
            "Daily Sortino        1.56        0.85        2.36        0.87        0.95        0.74        0.72        0.79        1.90        0.23\n",
            "Daily Mean (ann.)    15.56%      15.20%      35.40%      11.84%      16.04%      12.61%      13.55%      14.75%      25.05%      7.43%\n",
            "Daily Vol (ann.)     16.87%      30.06%      26.97%      22.63%      28.14%      28.33%      30.66%      30.59%      22.25%      39.04%\n",
            "Daily Skew           0.13        -0.00       0.77        -0.38       -0.08       0.17        -0.20       -0.31       -0.09       -12.66\n",
            "Daily Kurt           4.28        1.80        13.68       5.93        6.61        5.46        3.32        2.97        2.89        318.48\n",
            "Best Day             7.89%       10.10%      16.59%      7.29%       9.11%       12.38%      9.22%       8.99%       6.51%       8.43%\n",
            "Worst Day            -5.38%      -9.15%      -12.79%     -11.40%     -14.26%     -10.20%     -10.84%     -11.02%     -7.50%      -61.85%\n",
            "\n",
            "Monthly Sharpe       0.96        0.52        1.54        0.54        0.59        0.45        0.45        0.49        1.35        0.12\n",
            "Monthly Sortino      2.07        0.94        3.67        0.99        1.14        0.86        0.75        0.84        3.29        0.16\n",
            "Monthly Mean (ann.)  15.37%      14.75%      34.02%      11.90%      16.15%      11.41%      12.04%      13.21%      23.89%      4.17%\n",
            "Monthly Vol (ann.)   15.96%      28.33%      22.07%      21.87%      27.46%      25.40%      26.79%      27.16%      17.65%      35.23%\n",
            "Monthly Skew         0.14        -0.18       0.07        -0.17       0.49        0.59        -0.51       -0.12       0.38        -2.50\n",
            "Monthly Kurt         -0.13       -0.21       0.07        0.13        2.55        2.90        0.85        1.28        0.79        13.04\n",
            "Best Month           13.08%      19.72%      18.73%      15.69%      30.04%      29.01%      15.84%      23.41%      17.87%      22.45%\n",
            "Worst Month          -9.43%      -16.88%     -12.44%     -15.14%     -20.78%     -16.77%     -23.27%     -19.84%     -10.45%     -53.87%\n",
            "\n",
            "Yearly Sharpe        0.68        0.45        3.44        0.54        1.12        0.40        0.35        0.35        2.15        0.71\n",
            "Yearly Sortino       3.39        1.31        inf         2.67        29.30       1.07        2.05        0.95        inf         5.13\n",
            "Yearly Mean          14.68%      19.26%      27.13%      12.50%      9.76%       8.89%       12.94%      7.40%       18.21%      16.32%\n",
            "Yearly Vol           21.44%      42.93%      7.89%       22.96%      8.74%       22.11%      37.01%      21.00%      8.46%       23.01%\n",
            "Yearly Skew          0.51        0.59        -1.46       0.62        0.24        -0.08       1.92        0.29        0.51        1.15\n",
            "Yearly Kurt          -1.06       1.03        1.89        -1.49       -0.50       -2.02       3.82        -0.56       -2.09       1.70\n",
            "Best Year            44.27%      83.30%      33.98%      44.30%      21.84%      32.15%      77.16%      36.31%      29.25%      53.08%\n",
            "Worst Year           -9.69%      -33.13%     14.21%      -10.65%     -0.74%      -19.18%     -12.11%     -18.00%     9.22%       -7.12%\n",
            "\n",
            "Avg. Drawdown        -2.97%      -4.63%      -3.51%      -3.45%      -4.35%      -4.30%      -4.94%      -6.66%      -2.48%      -25.12%\n",
            "Avg. Drawdown Days   33.86       48.06       20.77       39.98       35.23       44.26       59.93       39.47       18.73       600.33\n",
            "Avg. Up Month        4.13%       7.04%       6.10%       5.22%       6.04%       5.85%       6.25%       5.76%       5.13%       6.27%\n",
            "Avg. Down Month      -3.31%      -6.37%      -4.21%      -4.93%      -5.69%      -5.03%      -5.85%      -6.39%      -2.72%      -6.90%\n",
            "Win Year %           80.00%      60.00%      100.00%     60.00%      80.00%      60.00%      60.00%      60.00%      100.00%     80.00%\n",
            "Win 12m %            82.00%      74.00%      100.00%     82.00%      92.00%      68.00%      68.00%      78.00%      98.00%      72.00%\n"
          ],
          "name": "stdout"
        }
      ]
    },
    {
      "cell_type": "markdown",
      "metadata": {
        "id": "Bxbnia2nqjVn",
        "colab_type": "text"
      },
      "source": [
        "Calculate mean expected returns and covariance matrix for the price data (as per defaults specified in the PyPortfolioOpt docs https://pyportfolioopt.readthedocs.io/en/latest/UserGuide.html )"
      ]
    },
    {
      "cell_type": "code",
      "metadata": {
        "id": "ytw47MkZobmI",
        "colab_type": "code",
        "colab": {
          "base_uri": "https://localhost:8080/",
          "height": 527
        },
        "outputId": "db610c0c-af0f-48d2-dbb1-086d200e506e"
      },
      "source": [
        "from pypfopt.expected_returns import mean_historical_return\n",
        "from pypfopt.risk_models import CovarianceShrinkage\n",
        "\n",
        "mu = mean_historical_return(prices)\n",
        "S = CovarianceShrinkage(prices).ledoit_wolf()\n",
        "print(\"Mean expected returns: \\n\")\n",
        "print(mu, \"\\n\")\n",
        "print(\"Covariance matrix: \\n\")\n",
        "print(S, \"\\n\")"
      ],
      "execution_count": 48,
      "outputs": [
        {
          "output_type": "stream",
          "text": [
            "Mean expected returns: \n",
            "\n",
            "bdx     0.155587\n",
            "schw    0.151962\n",
            "coo     0.354035\n",
            "msft    0.118432\n",
            "swk     0.160419\n",
            "afl     0.126114\n",
            "pru     0.135522\n",
            "mro     0.147473\n",
            "rop     0.250539\n",
            "wy      0.074336\n",
            "dtype: float64 \n",
            "\n",
            "Covariance matrix: \n",
            "\n",
            "           bdx      schw       coo  ...       mro       rop        wy\n",
            "bdx   0.030967  0.023314  0.017496  ...  0.022844  0.019531  0.020603\n",
            "schw  0.023314  0.089735  0.033966  ...  0.046000  0.039151  0.042437\n",
            "coo   0.017496  0.033966  0.073009  ...  0.028645  0.025358  0.024358\n",
            "msft  0.015499  0.030441  0.020154  ...  0.027136  0.024556  0.024329\n",
            "swk   0.021724  0.044894  0.027822  ...  0.044514  0.040205  0.039308\n",
            "afl   0.024090  0.050975  0.031293  ...  0.046245  0.040299  0.041308\n",
            "pru   0.026522  0.061558  0.036694  ...  0.053418  0.044048  0.046205\n",
            "mro   0.022844  0.046000  0.028645  ...  0.092772  0.038236  0.035722\n",
            "rop   0.019531  0.039151  0.025358  ...  0.038236  0.050935  0.033298\n",
            "wy    0.020603  0.042437  0.024358  ...  0.035722  0.033298  0.148638\n",
            "\n",
            "[10 rows x 10 columns] \n",
            "\n"
          ],
          "name": "stdout"
        }
      ]
    },
    {
      "cell_type": "markdown",
      "metadata": {
        "id": "KMVYiioiro6X",
        "colab_type": "text"
      },
      "source": [
        "Perform efficient frontier optimization using the max-sharpe ratio as the optimization parameter"
      ]
    },
    {
      "cell_type": "code",
      "metadata": {
        "id": "CGQFE8bTsILC",
        "colab_type": "code",
        "colab": {
          "base_uri": "https://localhost:8080/",
          "height": 156
        },
        "outputId": "cb999f15-b908-4076-84ca-2994c2c00fa8"
      },
      "source": [
        "from pypfopt.efficient_frontier import EfficientFrontier\n",
        "from pypfopt import objective_functions\n",
        "\n",
        "#calculate efficient frontier\n",
        "ef = EfficientFrontier(mu, S)\n",
        "\n",
        "\"\"\"\n",
        "use gamma parameter to reduce tendency of optimization to result in 0 asset weights, \n",
        "as this is detrimental to portfolio diversication\n",
        "\n",
        "https://pyportfolioopt.readthedocs.io/en/latest/EfficientFrontier.html#l2-regularisation\n",
        "\n",
        "\"\"\"\n",
        "ef.add_objective(objective_functions.L2_reg, gamma=0.1)\n",
        "weights = ef.max_sharpe()\n",
        "\n",
        "#use cleaned weights function to round data\n",
        "cleaned_weights = ef.clean_weights()\n",
        "\n",
        "#ef.save_weights_to_file(\"weights.txt\")  # saves to file\n",
        "print(cleaned_weights)\n",
        "\n",
        "#print expected performance\n",
        "ef.portfolio_performance(verbose=True)"
      ],
      "execution_count": 56,
      "outputs": [
        {
          "output_type": "stream",
          "text": [
            "{'bdx': 0.15889, 'schw': 0.00672, 'coo': 0.44326, 'msft': 0.0386, 'swk': 0.0446, 'afl': 0.0, 'pru': 0.0, 'mro': 0.01775, 'rop': 0.29019, 'wy': 0.0}\n",
            "Expected annual return: 27.0%\n",
            "Annual volatility: 19.0%\n",
            "Sharpe Ratio: 1.32\n"
          ],
          "name": "stdout"
        },
        {
          "output_type": "stream",
          "text": [
            "/usr/local/lib/python3.6/dist-packages/pypfopt/efficient_frontier.py:178: UserWarning: max_sharpe transforms the optimisation problem so additional objectives may not work as expected.\n",
            "  \"max_sharpe transforms the optimisation problem so additional objectives may not work as expected.\"\n"
          ],
          "name": "stderr"
        },
        {
          "output_type": "execute_result",
          "data": {
            "text/plain": [
              "(0.2697172527901129, 0.1897148234655232, 1.31627696891853)"
            ]
          },
          "metadata": {
            "tags": []
          },
          "execution_count": 56
        }
      ]
    },
    {
      "cell_type": "markdown",
      "metadata": {
        "id": "ELQeZoEbwZFp",
        "colab_type": "text"
      },
      "source": [
        "Now that the weights have been generated for the portfolio, \n",
        "the weighted and unweighted portfolio performance can be tested over the period of 2015-2020. The performance of the two portfolios can be compared to determine if the optimization indeed will improve returns.\n",
        "\n",
        "The annualized returns of the weighted portfolio can also be compared to the estimation provided by the PyPortfolioOpt library."
      ]
    },
    {
      "cell_type": "code",
      "metadata": {
        "id": "XYC0SF7PxBIP",
        "colab_type": "code",
        "colab": {
          "base_uri": "https://localhost:8080/",
          "height": 293
        },
        "outputId": "6e96eb6e-1c10-4bb4-bc36-f3eb48487af7"
      },
      "source": [
        "#obtain price data for test period\n",
        "testPrices = pd.DataFrame()\n",
        "testPrices = ffn.get(randomTickers,start='2015-03-27', end='2020-03-26')\n",
        "ax = testPrices.plot(title=\"Performance of random portfolio over 2015-2020\")"
      ],
      "execution_count": 186,
      "outputs": [
        {
          "output_type": "display_data",
          "data": {
            "image/png": "[encoded data removed]",
            "text/plain": [
              "<Figure size 432x288 with 1 Axes>"
            ]
          },
          "metadata": {
            "tags": []
          }
        }
      ]
    },
    {
      "cell_type": "markdown",
      "metadata": {
        "id": "V2w3o-Wnx8dv",
        "colab_type": "text"
      },
      "source": [
        "Now we can calulate annualized return, volatility and sharpe ratio for the unweighted and weighted portfolios"
      ]
    },
    {
      "cell_type": "code",
      "metadata": {
        "id": "RICwPo_JyM_B",
        "colab_type": "code",
        "colab": {
          "base_uri": "https://localhost:8080/",
          "height": 680
        },
        "outputId": "ff373871-5360-40bb-b5c1-5b7693e3e741"
      },
      "source": [
        "#https://towardsdatascience.com/optimizing-portfolios-with-modern-portfolio-theory-using-python-60ce9a597808\n",
        "print(\"Equi-weighted portfolio weights:\")\n",
        "print(np.full(10,.1), \"\\n\")\n",
        "print(\"Optimized portfolio weights:\")\n",
        "print(list(cleaned_weights.values()), \"\\n\")\n",
        "\n",
        "opt_weights = list(cleaned_weights.values())\n",
        "weights_arr = [np.full(10,.1), opt_weights]\n",
        "returns_arr = []\n",
        "volatility_arr = []\n",
        "\n",
        "print(\" --- Results --- \")\n",
        "for weights in weights_arr:\n",
        "  returns = prices.pct_change()\n",
        "  \n",
        "  # mean daily return and covariance of daily returns\n",
        "  mean_daily_returns = returns.mean()\n",
        "  cov_matrix = returns.cov()\n",
        "\n",
        "  # portfolio weights\n",
        "  weights = np.asarray(weights)\n",
        "  \n",
        "  portfolio_return = round(np.sum(mean_daily_returns * weights) * 252,2)\n",
        "  portfolio_std_dev = round(np.sqrt(np.dot(weights.T,np.dot(cov_matrix, weights))) * np.sqrt(252),2)\n",
        "\n",
        "  returns_arr.append(portfolio_return)\n",
        "  volatility_arr.append(portfolio_std_dev)\n",
        "\n",
        "  if(weights[0] == .1):\n",
        "    print(\"Equal weighted portfolio stats:\")\n",
        "  else:\n",
        "    print(\"Optimized portfolio stats:\")\n",
        "  print(\"Annualised return: \" + str(portfolio_return))\n",
        "  print(\"Volatility: \" + str(portfolio_std_dev) + \"\\n\")\n",
        "\n",
        "print(\"Percent change in return after optimization: \" + str(((returns_arr[1] - returns_arr[0])/returns_arr[0])))\n",
        "print(\"Percent change in volatility after optimization: \" + str(((volatility_arr[1] - volatility_arr[0])/volatility_arr[0])))"
      ],
      "execution_count": 144,
      "outputs": [
        {
          "output_type": "stream",
          "text": [
            "Equi-weighted portfolio weights:\n",
            "[0.1 0.1 0.1 0.1 0.1 0.1 0.1 0.1 0.1 0.1] \n",
            "\n",
            "Optimized portfolio weights:\n",
            "[0.15889, 0.00672, 0.44326, 0.0386, 0.0446, 0.0, 0.0, 0.01775, 0.29019, 0.0] \n",
            "\n",
            " --- Results --- \n",
            "bdx     0.000617\n",
            "schw    0.000603\n",
            "coo     0.001405\n",
            "msft    0.000470\n",
            "swk     0.000637\n",
            "afl     0.000500\n",
            "pru     0.000538\n",
            "mro     0.000585\n",
            "rop     0.000994\n",
            "wy      0.000295\n",
            "dtype: float64\n",
            "Equal weighted portfolio stats:\n",
            "Annualised return: 0.17\n",
            "Volatility: 0.2\n",
            "\n",
            "bdx     0.000617\n",
            "schw    0.000603\n",
            "coo     0.001405\n",
            "msft    0.000470\n",
            "swk     0.000637\n",
            "afl     0.000500\n",
            "pru     0.000538\n",
            "mro     0.000585\n",
            "rop     0.000994\n",
            "wy      0.000295\n",
            "dtype: float64\n",
            "Optimized portfolio stats:\n",
            "Annualised return: 0.27\n",
            "Volatility: 0.19\n",
            "\n",
            "Percent change in return after optimization: 0.5882352941176471\n",
            "Percent change in volatility after optimization: -0.050000000000000044\n"
          ],
          "name": "stdout"
        }
      ]
    },
    {
      "cell_type": "markdown",
      "metadata": {
        "id": "UlEYkSq7_O3i",
        "colab_type": "text"
      },
      "source": [
        "# **--- Optimization Results ---**\n",
        "\n",
        "**Percent change in returns:** 58.8%\n",
        "\n",
        "**Percent change in risk:** -5%"
      ]
    },
    {
      "cell_type": "markdown",
      "metadata": {
        "id": "Aaw49flB8MUF",
        "colab_type": "text"
      },
      "source": [
        "As expected, the portfolio optimization not only increased annualized returns, but also slightly decreased volitility.\n",
        "\n",
        "Now we can graph the performance of the two portfolios with respect to the individual securities to visualize their performance."
      ]
    },
    {
      "cell_type": "code",
      "metadata": {
        "id": "wq1ZAWQ60TXK",
        "colab_type": "code",
        "colab": {
          "base_uri": "https://localhost:8080/",
          "height": 306
        },
        "outputId": "181375ac-b2fa-43dc-ed49-a55d4b97e0ca"
      },
      "source": [
        ""
      ],
      "execution_count": 164,
      "outputs": [
        {
          "output_type": "error",
          "ename": "KeyError",
          "evalue": "ignored",
          "traceback": [
            "\u001b[0;31m---------------------------------------------------------------------------\u001b[0m",
            "\u001b[0;31mKeyError\u001b[0m                                  Traceback (most recent call last)",
            "\u001b[0;32m<ipython-input-164-913e137440a9>\u001b[0m in \u001b[0;36m<module>\u001b[0;34m()\u001b[0m\n\u001b[0;32m----> 1\u001b[0;31m \u001b[0mtestPrices\u001b[0m\u001b[0;34m.\u001b[0m\u001b[0mdrop\u001b[0m\u001b[0;34m(\u001b[0m\u001b[0;34m'uw_portfolio'\u001b[0m\u001b[0;34m)\u001b[0m\u001b[0;34m\u001b[0m\u001b[0;34m\u001b[0m\u001b[0m\n\u001b[0m",
            "\u001b[0;32m/usr/local/lib/python3.6/dist-packages/pandas/core/frame.py\u001b[0m in \u001b[0;36mdrop\u001b[0;34m(self, labels, axis, index, columns, level, inplace, errors)\u001b[0m\n\u001b[1;32m   4115\u001b[0m             \u001b[0mlevel\u001b[0m\u001b[0;34m=\u001b[0m\u001b[0mlevel\u001b[0m\u001b[0;34m,\u001b[0m\u001b[0;34m\u001b[0m\u001b[0;34m\u001b[0m\u001b[0m\n\u001b[1;32m   4116\u001b[0m             \u001b[0minplace\u001b[0m\u001b[0;34m=\u001b[0m\u001b[0minplace\u001b[0m\u001b[0;34m,\u001b[0m\u001b[0;34m\u001b[0m\u001b[0;34m\u001b[0m\u001b[0m\n\u001b[0;32m-> 4117\u001b[0;31m             \u001b[0merrors\u001b[0m\u001b[0;34m=\u001b[0m\u001b[0merrors\u001b[0m\u001b[0;34m,\u001b[0m\u001b[0;34m\u001b[0m\u001b[0;34m\u001b[0m\u001b[0m\n\u001b[0m\u001b[1;32m   4118\u001b[0m         )\n\u001b[1;32m   4119\u001b[0m \u001b[0;34m\u001b[0m\u001b[0m\n",
            "\u001b[0;32m/usr/local/lib/python3.6/dist-packages/pandas/core/generic.py\u001b[0m in \u001b[0;36mdrop\u001b[0;34m(self, labels, axis, index, columns, level, inplace, errors)\u001b[0m\n\u001b[1;32m   3912\u001b[0m         \u001b[0;32mfor\u001b[0m \u001b[0maxis\u001b[0m\u001b[0;34m,\u001b[0m \u001b[0mlabels\u001b[0m \u001b[0;32min\u001b[0m \u001b[0maxes\u001b[0m\u001b[0;34m.\u001b[0m\u001b[0mitems\u001b[0m\u001b[0;34m(\u001b[0m\u001b[0;34m)\u001b[0m\u001b[0;34m:\u001b[0m\u001b[0;34m\u001b[0m\u001b[0;34m\u001b[0m\u001b[0m\n\u001b[1;32m   3913\u001b[0m             \u001b[0;32mif\u001b[0m \u001b[0mlabels\u001b[0m \u001b[0;32mis\u001b[0m \u001b[0;32mnot\u001b[0m \u001b[0;32mNone\u001b[0m\u001b[0;34m:\u001b[0m\u001b[0;34m\u001b[0m\u001b[0;34m\u001b[0m\u001b[0m\n\u001b[0;32m-> 3914\u001b[0;31m                 \u001b[0mobj\u001b[0m \u001b[0;34m=\u001b[0m \u001b[0mobj\u001b[0m\u001b[0;34m.\u001b[0m\u001b[0m_drop_axis\u001b[0m\u001b[0;34m(\u001b[0m\u001b[0mlabels\u001b[0m\u001b[0;34m,\u001b[0m \u001b[0maxis\u001b[0m\u001b[0;34m,\u001b[0m \u001b[0mlevel\u001b[0m\u001b[0;34m=\u001b[0m\u001b[0mlevel\u001b[0m\u001b[0;34m,\u001b[0m \u001b[0merrors\u001b[0m\u001b[0;34m=\u001b[0m\u001b[0merrors\u001b[0m\u001b[0;34m)\u001b[0m\u001b[0;34m\u001b[0m\u001b[0;34m\u001b[0m\u001b[0m\n\u001b[0m\u001b[1;32m   3915\u001b[0m \u001b[0;34m\u001b[0m\u001b[0m\n\u001b[1;32m   3916\u001b[0m         \u001b[0;32mif\u001b[0m \u001b[0minplace\u001b[0m\u001b[0;34m:\u001b[0m\u001b[0;34m\u001b[0m\u001b[0;34m\u001b[0m\u001b[0m\n",
            "\u001b[0;32m/usr/local/lib/python3.6/dist-packages/pandas/core/generic.py\u001b[0m in \u001b[0;36m_drop_axis\u001b[0;34m(self, labels, axis, level, errors)\u001b[0m\n\u001b[1;32m   3944\u001b[0m                 \u001b[0mnew_axis\u001b[0m \u001b[0;34m=\u001b[0m \u001b[0maxis\u001b[0m\u001b[0;34m.\u001b[0m\u001b[0mdrop\u001b[0m\u001b[0;34m(\u001b[0m\u001b[0mlabels\u001b[0m\u001b[0;34m,\u001b[0m \u001b[0mlevel\u001b[0m\u001b[0;34m=\u001b[0m\u001b[0mlevel\u001b[0m\u001b[0;34m,\u001b[0m \u001b[0merrors\u001b[0m\u001b[0;34m=\u001b[0m\u001b[0merrors\u001b[0m\u001b[0;34m)\u001b[0m\u001b[0;34m\u001b[0m\u001b[0;34m\u001b[0m\u001b[0m\n\u001b[1;32m   3945\u001b[0m             \u001b[0;32melse\u001b[0m\u001b[0;34m:\u001b[0m\u001b[0;34m\u001b[0m\u001b[0;34m\u001b[0m\u001b[0m\n\u001b[0;32m-> 3946\u001b[0;31m                 \u001b[0mnew_axis\u001b[0m \u001b[0;34m=\u001b[0m \u001b[0maxis\u001b[0m\u001b[0;34m.\u001b[0m\u001b[0mdrop\u001b[0m\u001b[0;34m(\u001b[0m\u001b[0mlabels\u001b[0m\u001b[0;34m,\u001b[0m \u001b[0merrors\u001b[0m\u001b[0;34m=\u001b[0m\u001b[0merrors\u001b[0m\u001b[0;34m)\u001b[0m\u001b[0;34m\u001b[0m\u001b[0;34m\u001b[0m\u001b[0m\n\u001b[0m\u001b[1;32m   3947\u001b[0m             \u001b[0mresult\u001b[0m \u001b[0;34m=\u001b[0m \u001b[0mself\u001b[0m\u001b[0;34m.\u001b[0m\u001b[0mreindex\u001b[0m\u001b[0;34m(\u001b[0m\u001b[0;34m**\u001b[0m\u001b[0;34m{\u001b[0m\u001b[0maxis_name\u001b[0m\u001b[0;34m:\u001b[0m \u001b[0mnew_axis\u001b[0m\u001b[0;34m}\u001b[0m\u001b[0;34m)\u001b[0m\u001b[0;34m\u001b[0m\u001b[0;34m\u001b[0m\u001b[0m\n\u001b[1;32m   3948\u001b[0m \u001b[0;34m\u001b[0m\u001b[0m\n",
            "\u001b[0;32m/usr/local/lib/python3.6/dist-packages/pandas/core/indexes/base.py\u001b[0m in \u001b[0;36mdrop\u001b[0;34m(self, labels, errors)\u001b[0m\n\u001b[1;32m   5338\u001b[0m         \u001b[0;32mif\u001b[0m \u001b[0mmask\u001b[0m\u001b[0;34m.\u001b[0m\u001b[0many\u001b[0m\u001b[0;34m(\u001b[0m\u001b[0;34m)\u001b[0m\u001b[0;34m:\u001b[0m\u001b[0;34m\u001b[0m\u001b[0;34m\u001b[0m\u001b[0m\n\u001b[1;32m   5339\u001b[0m             \u001b[0;32mif\u001b[0m \u001b[0merrors\u001b[0m \u001b[0;34m!=\u001b[0m \u001b[0;34m\"ignore\"\u001b[0m\u001b[0;34m:\u001b[0m\u001b[0;34m\u001b[0m\u001b[0;34m\u001b[0m\u001b[0m\n\u001b[0;32m-> 5340\u001b[0;31m                 \u001b[0;32mraise\u001b[0m \u001b[0mKeyError\u001b[0m\u001b[0;34m(\u001b[0m\u001b[0;34m\"{} not found in axis\"\u001b[0m\u001b[0;34m.\u001b[0m\u001b[0mformat\u001b[0m\u001b[0;34m(\u001b[0m\u001b[0mlabels\u001b[0m\u001b[0;34m[\u001b[0m\u001b[0mmask\u001b[0m\u001b[0;34m]\u001b[0m\u001b[0;34m)\u001b[0m\u001b[0;34m)\u001b[0m\u001b[0;34m\u001b[0m\u001b[0;34m\u001b[0m\u001b[0m\n\u001b[0m\u001b[1;32m   5341\u001b[0m             \u001b[0mindexer\u001b[0m \u001b[0;34m=\u001b[0m \u001b[0mindexer\u001b[0m\u001b[0;34m[\u001b[0m\u001b[0;34m~\u001b[0m\u001b[0mmask\u001b[0m\u001b[0;34m]\u001b[0m\u001b[0;34m\u001b[0m\u001b[0;34m\u001b[0m\u001b[0m\n\u001b[1;32m   5342\u001b[0m         \u001b[0;32mreturn\u001b[0m \u001b[0mself\u001b[0m\u001b[0;34m.\u001b[0m\u001b[0mdelete\u001b[0m\u001b[0;34m(\u001b[0m\u001b[0mindexer\u001b[0m\u001b[0;34m)\u001b[0m\u001b[0;34m\u001b[0m\u001b[0;34m\u001b[0m\u001b[0m\n",
            "\u001b[0;31mKeyError\u001b[0m: \"['uw_portfolio'] not found in axis\""
          ]
        }
      ]
    },
    {
      "cell_type": "code",
      "metadata": {
        "id": "axynPZvZ_L_C",
        "colab_type": "code",
        "colab": {
          "base_uri": "https://localhost:8080/",
          "height": 1000
        },
        "outputId": "36bf769c-20d8-4368-bb64-c0c5ff4b5e40"
      },
      "source": [
        "#unweighted prices can be found by averaging the daily prices of all stocks in the portfolio\n",
        "uw_portfolio = testPrices.mean(axis=1)\n",
        "#random_tickers_lower = [x.lower() for x in randomTickers]\n",
        "#print(random_tickers_lower)\n",
        "\n",
        "\"\"\"\n",
        "\n",
        "Basically now I dont know how to properly multiply the opt_weights vector by row\n",
        "with the price data in the dataframe. I've tried converting the data to a series first\n",
        "(see here: https://stackoverflow.com/questions/13166842/pandas-dataframe-multiply-with-a-series)\n",
        "but no luck.\n",
        "\n",
        "\"\"\"\n",
        "\n",
        "def multiplyWithPrice(row, weights):\n",
        "  #print(row)\n",
        "  #print(row.name)\n",
        "  #print(row.values)\n",
        "  #print(weights)\n",
        "  #print(weights[row.name])\n",
        "  modifiedRow = []\n",
        "  for i in (0, len(row.values)-1):\n",
        "    row.values[i] = row.values[i]*weights[i]\n",
        "    #modifiedRow.append(row[i]*weights[row.name])\n",
        "  #return modifiedRow\n",
        "  return row\n",
        "\n",
        "#print(cleaned_weights)\n",
        "opt_weights_ser = pd.Series(opt_weights)\n",
        "print(opt_weights_ser)\n",
        "print(\"unweighted portfolio\")\n",
        "print(uw_portfolio)\n",
        "\n",
        "#multiplyWithPrice(column, cleaned_weights)\n",
        "w_portfolio = testPrices.apply(lambda row: multiplyWithPrice(row, opt_weights_ser), axis=1)\n",
        "print(w_portfolio)\n",
        "w_portfolio = w_portfolio.mean(axis=1)\n",
        "print(\"weighted portfolio\")\n",
        "print(w_portfolio)\n",
        "\n",
        "\n",
        "\n",
        "#first plot performance of two portfolios\n",
        "portfolios = pd.concat([uw_portfolio, w_portfolio], axis=1, keys=['unweighted', 'optimized'])\n",
        "print(portfolios)\n",
        "ax = portfolios.plot(title=\"Performance of portfolio before and after optimization over 2015-2020\")\n",
        "\n",
        "#add portfolio data to price data\n",
        "#testPrices['uw_portfolio'] = uw_portfolio\n",
        "#testPrices['w_portfolio'] = w_portfolio\n",
        "\n",
        "#plot new data\n",
        "#ax = testPrices.plot(title=\"Performance of random portfolio over 2015-2020\")\n",
        "\n"
      ],
      "execution_count": 201,
      "outputs": [
        {
          "output_type": "stream",
          "text": [
            "0    0.15889\n",
            "1    0.00672\n",
            "2    0.44326\n",
            "3    0.03860\n",
            "4    0.04460\n",
            "5    0.00000\n",
            "6    0.00000\n",
            "7    0.01775\n",
            "8    0.29019\n",
            "9    0.00000\n",
            "dtype: float64\n",
            "unweighted portfolio\n",
            "Date\n",
            "2015-03-27    62.072971\n",
            "2015-03-30    62.880371\n",
            "2015-03-31    62.378715\n",
            "2015-04-01    62.011544\n",
            "2015-04-02    62.384044\n",
            "                ...    \n",
            "2020-03-20    85.389999\n",
            "2020-03-23    80.251000\n",
            "2020-03-24    88.829000\n",
            "2020-03-25    91.334001\n",
            "2020-03-26    98.018000\n",
            "Length: 1259, dtype: float64\n",
            "                     bdx       schw         coo  ...        mro         rop   wy\n",
            "Date                                             ...                            \n",
            "2015-03-27  1.396238e-10  28.579336  185.908707  ...  23.797997  166.239044  0.0\n",
            "2015-03-30  1.406377e-10  28.702238  188.824631  ...  24.284983  168.770279  0.0\n",
            "2015-03-31  1.386581e-10  28.777868  187.156982  ...  23.990955  166.811234  0.0\n",
            "2015-04-01  1.370745e-10  28.295719  186.328125  ...  24.477938  164.648499  0.0\n",
            "2015-04-02  1.363792e-10  28.371353  187.436600  ...  24.873041  166.209900  0.0\n",
            "...                  ...        ...         ...  ...        ...         ...  ...\n",
            "2020-03-20  2.286167e-10  30.750000  250.649994  ...   3.560000  283.149994  0.0\n",
            "2020-03-23  2.083225e-10  28.500000  243.440002  ...   3.350000  254.300003  0.0\n",
            "2020-03-24  2.106801e-10  30.719999  255.889999  ...   3.610000  282.880005  0.0\n",
            "2020-03-25  2.114590e-10  34.169998  256.890015  ...   3.580000  285.179993  0.0\n",
            "2020-03-26  2.278170e-10  34.160000  282.049988  ...   3.880000  306.320007  0.0\n",
            "\n",
            "[1259 rows x 10 columns]\n",
            "weighted portfolio\n",
            "Date\n",
            "2015-03-27    62.072971\n",
            "2015-03-30    62.880371\n",
            "2015-03-31    62.378715\n",
            "2015-04-01    62.011544\n",
            "2015-04-02    62.384044\n",
            "                ...    \n",
            "2020-03-20    85.389999\n",
            "2020-03-23    80.251000\n",
            "2020-03-24    88.829000\n",
            "2020-03-25    91.334001\n",
            "2020-03-26    98.018000\n",
            "Length: 1259, dtype: float64\n",
            "            unweighted  optimized\n",
            "Date                             \n",
            "2015-03-27   62.072971  62.072971\n",
            "2015-03-30   62.880371  62.880371\n",
            "2015-03-31   62.378715  62.378715\n",
            "2015-04-01   62.011544  62.011544\n",
            "2015-04-02   62.384044  62.384044\n",
            "...                ...        ...\n",
            "2020-03-20   85.389999  85.389999\n",
            "2020-03-23   80.251000  80.251000\n",
            "2020-03-24   88.829000  88.829000\n",
            "2020-03-25   91.334001  91.334001\n",
            "2020-03-26   98.018000  98.018000\n",
            "\n",
            "[1259 rows x 2 columns]\n"
          ],
          "name": "stdout"
        },
        {
          "output_type": "display_data",
          "data": {
            "image/png": "[encoded data removed]",
            "text/plain": [
              "<Figure size 432x288 with 1 Axes>"
            ]
          },
          "metadata": {
            "tags": []
          }
        }
      ]
    }
  ]
}